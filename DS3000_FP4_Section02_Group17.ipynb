{
 "cells": [
  {
   "cell_type": "markdown",
   "metadata": {
    "id": "mvbOlwP9lqCY"
   },
   "source": [
    "<center> <h2> DS 3000 - Fall 2020</h2> </center>\n",
    "<center> <h3> DS Report </h3> </center>\n"
   ]
  },
  {
   "cell_type": "markdown",
   "metadata": {
    "id": "EY58zPV9lqCb"
   },
   "source": [
    "<center> <h3> Predicting the Price for a Ride-Share Service</h3> </center>\n",
    "<center><h4>Aneesh Atri, Siddhant Dosi, Justin Lau</h4></center>\n"
   ]
  },
  {
   "cell_type": "markdown",
   "metadata": {
    "id": "wmEoGorMlqCc"
   },
   "source": [
    "  "
   ]
  },
  {
   "cell_type": "markdown",
   "metadata": {
    "id": "4i8qqK8ylqCd"
   },
   "source": [
    "<hr style=\"height:2px; border:none; color:black; background-color:black;\">"
   ]
  },
  {
   "cell_type": "markdown",
   "metadata": {
    "id": "aHFkVkEIlqCd"
   },
   "source": [
    "#### Executive Summary:\n",
    "\n",
    "Our goal in this project was to develop an algorithm that can predict the price of a ride-share ride in Boston based on the location, distance, time, cab type and weather related information. We first made use of visualizations and hypothesis tests to highlight the effect that certain variables (like time of day and cab type) have on the price of the ride. We then cleaned our data set by removing redundant or invalid features, scaling our data, using one-hot encoding to convert categorical data into quantitative data, separating data into a testing and training set, and removing features through model-based feature selection. We finally used three machine learning algorithms: Multiple Linear Regression, Ridge Regression, and Lasso Regression to create a model that can predict the price of the ride based on the available features. The best performing model was the Ridge Regression model, which had an R^2 value on the testing set of 0.92805 and MSE of 6.264, suggesting that our model can account for nearly 93% of the variation in price of ride-share rides in Boston.\n"
   ]
  },
  {
   "cell_type": "markdown",
   "metadata": {
    "id": "uqKo7TqSlqCe"
   },
   "source": [
    "<hr style=\"height:2px; border:none; color:black; background-color:black;\">"
   ]
  },
  {
   "cell_type": "markdown",
   "metadata": {
    "id": "vCgPe85UlqCf"
   },
   "source": [
    "## Outline\n",
    "1. <a href='#1'>INTRODUCTION</a>\n",
    "2. <a href='#2'>METHOD</a>\n",
    "3. <a href='#3'>RESULTS</a>\n",
    "4. <a href='#4'>DISCUSSION</a>"
   ]
  },
  {
   "cell_type": "markdown",
   "metadata": {
    "id": "p4fhfF9QlqCf"
   },
   "source": [
    "<a id=\"1\"></a>\n",
    "<hr style=\"height:2px; border:none; color:black; background-color:black;\">"
   ]
  },
  {
   "cell_type": "markdown",
   "metadata": {
    "id": "lwem5OmvlqCg"
   },
   "source": [
    "## 1. INTRODUCTION"
   ]
  },
  {
   "cell_type": "markdown",
   "metadata": {
    "id": "wJe1p6bElqCg"
   },
   "source": [
    "The purpose of our project is to predict the price of ridesharing services through Uber and Lyft in Boston based on features like the distance of the ride, weather and time of day. These apps require users to put in their current location and their desired destination, which would seem to imply that distance is the only important factor in calculating the cost of a ride. However, our group believes that there are more factors that go into play when the price of a ride is calculated. We want to see if with additional features like weather and time, we can create a machine learning model to more accurately predict the price of an Uber or Lyft. In essence, our goal is to learn what factors are considered when these apps calculate the price of a ride using their service. We will compare three different supervised machine learning regression algorithms, including Multiple Linear Regression, Ridge Regression, and Lasso Regression models.\n",
    "\n",
    "We believe that this is an important problem to tackle as it can help users plan their rides in advance. An application of a price predictor model would be to create an application that can allow users to input information about their ride (the time, starting and ending locations, weather, and cab type), and give them information about how much the ride would be expected to cost. This can allow potential users to plan how much they would need to spend days in advance. The model would also provide insights related to other factors, such as whether Lyft or Uber would be the better option, hours of the day to avoid rides, and which locations may be more expensive than others. \n",
    "\n",
    "There has been significant prior work on this topic. Govind Pramod Yatnalkar of Marshall University used data on Uber users to classify them into one of 5 categories for what they prefer most in a driver: chattiness, safety, punctuality, friendliness, and comfortability. Yatnalkar used a Support Vector Machine classification Machine Learning algorithm and came up with excellent results. He had an overall accuracy of 91.65%, a root Mean Squared Error of 0.64, and an F1 score of roughly 91.5% on average (Yatnalkar, 2019). Meanwhile, Dawn Woodard, Senior Data Science Manager of Dynamic Pricing at Uber, confirms that Uber uses algorithms that increase the price of rides when demand for rides outpaces the supply of drivers, and lowers the price when the opposite is true (Woodard, 2018). This confirms our suspicion that the time of day could greatly affect the price of a ride-share ride. However, the most similar project to ours was completed by Malaiiyyappan Muthhukumar in 2019, who used the same Boston Uber and Lyft dataset to predict the price of a ride. She used Linear Regression, Elastic Net, XGB Regression, and Random Forest Regression. Her best performance was from her XGB Regression Model, which had an R^2 of nearly 0.96 on the testing set, and a RMSE of 2 (Muthhukumar, 2019). Despite the similarities of these projects, we seek to complete this project to corroborate the results that Muthhukumar received, and also use other algorithms to see if we can improve on her performance.\n",
    "\n",
    "Based on the problem that we are looking to tackle, there are many questions that we seek to answer related to our project. These include:\n",
    "* Which features contribute the most to the price of a ride-share ride?\n",
    "* Which individual feature has the greatest impact on the price of a ride-share ride?\n",
    "* Are there any features in the dataset that have no/minimal impact on the price?\n",
    "* Is there a difference in price between Uber and Lyft rides (holding all other factors constant)?\n",
    "* What percentage of the variation in price can be explained by a regression model based on the features of the data set?\n",
    "* Would removing some features through univariate or model-based feature selection improve the strength of a regression model?\n",
    "* Is a multi-linear regression model the best for this dataset, or is it better to tune the model with a Ridge or Lasso regression model?\n",
    "\n",
    "There are also certain hypotheses that we would like to test to determine which variables have an impact on the price of the ride. One such test is a difference of means test between the mean price of a Lyft and Uber ride. Another test is a difference of means test between the mean price of a ride at a “rush hour” vs a ride at a “non rush hour”.\n",
    "\n",
    "Note: Sources are cited at the end of this report"
   ]
  },
  {
   "cell_type": "markdown",
   "metadata": {
    "id": "qsg9t7NMlqCi"
   },
   "source": [
    "<a id=\"2\"></a>\n",
    "<hr style=\"height:2px; border:none; color:black; background-color:black;\">"
   ]
  },
  {
   "cell_type": "markdown",
   "metadata": {
    "id": "qR9d8tXhlqCj"
   },
   "source": [
    "## 2. METHOD"
   ]
  },
  {
   "cell_type": "markdown",
   "metadata": {
    "id": "CAeSHjVXlqCk"
   },
   "source": [
    "### 2.1. Data Acquisition\n",
    "\n",
    "The data for this project was obtained from Kaggle, the data science community. Here is the link to the original dataset: https://www.kaggle.com/brllrb/uber-and-lyft-dataset-boston-ma. As a group, we wanted an easier way to access the data, so we uploaded the dataset to Dropbox. The dataset can be accessed using this link: https://www.dropbox.com/s/1nyqv980whwhn2q/rideshare_kaggle.csv?dl=1. We also added other components like the graphs to a github repository: https://github.com/aneesh1/ds3000project. \n",
    "Our dataset contains information about Uber and Lyft rides in Boston. The dataset contains features pertaining to the ride like the time of day at which it occurred, the starting location of the ride, the destination, the distance, and the price. Other information like which rideshare provider was used, Uber or Lyft in this case, as well as the specific service used, UberXL, Shared, Lux, etc. was also provided. Our dataset also contained information about whether or not a surge multiplier had been applied. The dataset was also rich with weather data which included information like the temperature, humidity, pressure, visibility, cloud cover, UV Index, and a lot more. The dimensions of the dataset were 693071 rows by 57 columns. This meant that there were 693071 samples and 57 variables. It is important to note that some sample contained invalid values and some features were also removed during the cleaning process. This is why after the cleaning process, there were 637976 rows and 24 columns which meant that there were 637976 samples and 24 variables. "
   ]
  },
  {
   "cell_type": "markdown",
   "metadata": {
    "id": "yJtkvlcvlqCk"
   },
   "source": [
    "### 2.2. Data Analysis\n",
    "For our project, our group had two hypotheses tests that we wanted to conduct. The first regarded the price between Uber Pool and Lyft Shared. We wanted to know if the brand, Uber or Lyft, had an impact on the price of a ride. For this test, our Independent Variables were the brand of the ride, in this case Uber or Lyft. The reason why the type, Shared vs. Pool, was not an independent variable was due to the fact that these services were the same since they both provided shared rides to multiple people. Thus, this served as a control variable. The dependent variable in this case was the price since we wanted to see how the brand changed this quantity.\n",
    "\n",
    "Our second hypothesis test that we wanted to test was if the difference in price was based on whether or not a ride took place during rush hour time or non rush hour time. In this case, the Rush Hour variable, which determined if a particular ride was occuring during a Rush Hour time or a Non-Rush Hour time was the independent variable while price was once again the dependent variable.\n",
    "\n",
    "In our predictive model, our outcome variable is defined as the price. We intend to predict the price from the following feature variables: hour, day, month, source, destination, cab_type (Uber or Lyft), name (type of ride), distance, surge multiplier, temperature, apparentTemperature, short summary (of the weather), precipitation intensity, precipitation probability, humidity, wind speed, wind gust, visibility, dew point, pressure, cloud cover, UV index and ozone. We thought that distance and surge multiplier would definitely be important since a longer ride would mean that a person would spend more time traveling in a car which would cause the price to be higher. In addition, the surge multiplier was also important because we suspected that Uber and Lyft increased the prices of the rides at certain hours. Because of this, we thought that at particular times of day, on particular days in the month, these variables would have an impact on the target variable since we expected that the prices would be higher at times when people needed to use Ubers on weekends to spend time with others or on weekdays to get to work. Another key factor in the predictive model was definitely which type of ride was used (Pool, Lux, etc.). We anticipated that premium services like Uber Black, Uber Black SUV, Lux Black or Lux Black XL would cause the prices to be higher since the cars used for these services were more generally luxury vehicles. Lastly, we also thought it would be apt to take into account weather data since this could potentially influence the price of rides. On hot (high temperature) and humid days, people would probably be less likely to walk or use public transport and might prefer the comfort of an air-conditioned vehicle. We anticipated that the price would therefore be higher at these times. In addition, based on the intensity of rain or snow (precipitation intensity) or the likelihood of rain or snow occurring, people would be more likely to use the services of Uber or Lyft which would cause the price to be higher. For examples like these, we wanted to take the weather data into account since we reasoned that the weather could have an impact on the likelihood of a person using the services of Uber or Lyft. Uber and Lyft could use these metrics to modify the rates of the rides.  \n",
    "\n",
    "The problem of predicting the price based on a multitude of factors was a supervised learning problem since we were using labeled data. The data already had a structure which included the hour, month, distance, surge multiplier, etc. and no patterns within the data needed to be uncovered. Instead, we were trying to predict the target value, in this case price, using a set of features. Within supervised learning, this project could be considered a Regression task because the price was the target variable and was numeric and continuous. \n",
    "\n",
    "Our group decided to choose three regression models: Multiple Linear Regression, Ridge Regression, and Lasso Regression. Multiple linear regression was a simple model that used ordinary least squares to find an equation for a line that minimized the distances between the actual data points and the predicted data points. The reason why multiple linear regression was used was due to the fact that our dataset had multiple features and we believed that these all needed to be taken into account in order to create a regression model that would be able to predict the cost of a ride in an Uber or Lyft. \n",
    "\n",
    "The second regression model used by our group was Ridge regression. Ridge regression was an algorithm that used L2 regularization to restrict coefficients to be as close to 0 as possible by minimizing the sum of the squared coefficients. The more restricted the coefficients, the smaller the impact of the coefficients on the predictions of the price. This in turn would combat the problem of overfitting. Yet another reason why Ridge Regression was used was to tune hyperparameters. Unfortunately, multiple linear regression did not allow for hyperparameters to be tuned, so this allowed us to have some more control over our model. Thus, for hyperparameter tuning as well as L2 regularization which combatted overfitting, the Ridge model was used.     \n",
    "\n",
    "For similar reasons, our group also used Lasso regression. Lasso regression was an algorithm that also restricted the coefficients to be small in size, however this algorithm used L1 regularization. L1 regularization minimized the sum of the absolute values of the coefficients which meant that some of the coefficients could be 0. Thus, Lasso regression performed a form of feature selection on features that did not have a big impact on the target variable. L1 regularization also sought to combat the problem of overfitting like L2 regularization by restricting the size of the coefficients which was another advantage. Thus, Lasso regression was used because it performed a form of feature selection and addressed the problem of overfitting in addition to allowing us to tune hyperparameters. "
   ]
  },
  {
   "cell_type": "code",
   "execution_count": null,
   "metadata": {
    "id": "3QGl67RilqCp"
   },
   "outputs": [],
   "source": [
    "# importing the rideshare dataset\n",
    "import pandas as pd\n",
    "rideshare_df = pd.read_csv(\"https://www.dropbox.com/s/1nyqv980whwhn2q/rideshare_kaggle.csv?dl=1\")\n",
    "modified_ride_share_df = rideshare_df"
   ]
  },
  {
   "cell_type": "code",
   "execution_count": null,
   "metadata": {
    "id": "GW0zdIRplqCs",
    "outputId": "c2bcd0b7-1f73-41f0-ce80-6e3cb5016414"
   },
   "outputs": [
    {
     "data": {
      "text/html": [
       "<div>\n",
       "<style scoped>\n",
       "    .dataframe tbody tr th:only-of-type {\n",
       "        vertical-align: middle;\n",
       "    }\n",
       "\n",
       "    .dataframe tbody tr th {\n",
       "        vertical-align: top;\n",
       "    }\n",
       "\n",
       "    .dataframe thead th {\n",
       "        text-align: right;\n",
       "    }\n",
       "</style>\n",
       "<table border=\"1\" class=\"dataframe\">\n",
       "  <thead>\n",
       "    <tr style=\"text-align: right;\">\n",
       "      <th></th>\n",
       "      <th>id</th>\n",
       "      <th>timestamp</th>\n",
       "      <th>hour</th>\n",
       "      <th>day</th>\n",
       "      <th>month</th>\n",
       "      <th>datetime</th>\n",
       "      <th>timezone</th>\n",
       "      <th>source</th>\n",
       "      <th>destination</th>\n",
       "      <th>cab_type</th>\n",
       "      <th>...</th>\n",
       "      <th>precipIntensityMax</th>\n",
       "      <th>uvIndexTime</th>\n",
       "      <th>temperatureMin</th>\n",
       "      <th>temperatureMinTime</th>\n",
       "      <th>temperatureMax</th>\n",
       "      <th>temperatureMaxTime</th>\n",
       "      <th>apparentTemperatureMin</th>\n",
       "      <th>apparentTemperatureMinTime</th>\n",
       "      <th>apparentTemperatureMax</th>\n",
       "      <th>apparentTemperatureMaxTime</th>\n",
       "    </tr>\n",
       "  </thead>\n",
       "  <tbody>\n",
       "    <tr>\n",
       "      <td>0</td>\n",
       "      <td>424553bb-7174-41ea-aeb4-fe06d4f4b9d7</td>\n",
       "      <td>1.544953e+09</td>\n",
       "      <td>9</td>\n",
       "      <td>16</td>\n",
       "      <td>12</td>\n",
       "      <td>2018-12-16 09:30:07</td>\n",
       "      <td>America/New_York</td>\n",
       "      <td>Haymarket Square</td>\n",
       "      <td>North Station</td>\n",
       "      <td>Lyft</td>\n",
       "      <td>...</td>\n",
       "      <td>0.1276</td>\n",
       "      <td>1544979600</td>\n",
       "      <td>39.89</td>\n",
       "      <td>1545012000</td>\n",
       "      <td>43.68</td>\n",
       "      <td>1544968800</td>\n",
       "      <td>33.73</td>\n",
       "      <td>1545012000</td>\n",
       "      <td>38.07</td>\n",
       "      <td>1544958000</td>\n",
       "    </tr>\n",
       "    <tr>\n",
       "      <td>1</td>\n",
       "      <td>4bd23055-6827-41c6-b23b-3c491f24e74d</td>\n",
       "      <td>1.543284e+09</td>\n",
       "      <td>2</td>\n",
       "      <td>27</td>\n",
       "      <td>11</td>\n",
       "      <td>2018-11-27 02:00:23</td>\n",
       "      <td>America/New_York</td>\n",
       "      <td>Haymarket Square</td>\n",
       "      <td>North Station</td>\n",
       "      <td>Lyft</td>\n",
       "      <td>...</td>\n",
       "      <td>0.1300</td>\n",
       "      <td>1543251600</td>\n",
       "      <td>40.49</td>\n",
       "      <td>1543233600</td>\n",
       "      <td>47.30</td>\n",
       "      <td>1543251600</td>\n",
       "      <td>36.20</td>\n",
       "      <td>1543291200</td>\n",
       "      <td>43.92</td>\n",
       "      <td>1543251600</td>\n",
       "    </tr>\n",
       "    <tr>\n",
       "      <td>2</td>\n",
       "      <td>981a3613-77af-4620-a42a-0c0866077d1e</td>\n",
       "      <td>1.543367e+09</td>\n",
       "      <td>1</td>\n",
       "      <td>28</td>\n",
       "      <td>11</td>\n",
       "      <td>2018-11-28 01:00:22</td>\n",
       "      <td>America/New_York</td>\n",
       "      <td>Haymarket Square</td>\n",
       "      <td>North Station</td>\n",
       "      <td>Lyft</td>\n",
       "      <td>...</td>\n",
       "      <td>0.1064</td>\n",
       "      <td>1543338000</td>\n",
       "      <td>35.36</td>\n",
       "      <td>1543377600</td>\n",
       "      <td>47.55</td>\n",
       "      <td>1543320000</td>\n",
       "      <td>31.04</td>\n",
       "      <td>1543377600</td>\n",
       "      <td>44.12</td>\n",
       "      <td>1543320000</td>\n",
       "    </tr>\n",
       "    <tr>\n",
       "      <td>3</td>\n",
       "      <td>c2d88af2-d278-4bfd-a8d0-29ca77cc5512</td>\n",
       "      <td>1.543554e+09</td>\n",
       "      <td>4</td>\n",
       "      <td>30</td>\n",
       "      <td>11</td>\n",
       "      <td>2018-11-30 04:53:02</td>\n",
       "      <td>America/New_York</td>\n",
       "      <td>Haymarket Square</td>\n",
       "      <td>North Station</td>\n",
       "      <td>Lyft</td>\n",
       "      <td>...</td>\n",
       "      <td>0.0000</td>\n",
       "      <td>1543507200</td>\n",
       "      <td>34.67</td>\n",
       "      <td>1543550400</td>\n",
       "      <td>45.03</td>\n",
       "      <td>1543510800</td>\n",
       "      <td>30.30</td>\n",
       "      <td>1543550400</td>\n",
       "      <td>38.53</td>\n",
       "      <td>1543510800</td>\n",
       "    </tr>\n",
       "    <tr>\n",
       "      <td>4</td>\n",
       "      <td>e0126e1f-8ca9-4f2e-82b3-50505a09db9a</td>\n",
       "      <td>1.543463e+09</td>\n",
       "      <td>3</td>\n",
       "      <td>29</td>\n",
       "      <td>11</td>\n",
       "      <td>2018-11-29 03:49:20</td>\n",
       "      <td>America/New_York</td>\n",
       "      <td>Haymarket Square</td>\n",
       "      <td>North Station</td>\n",
       "      <td>Lyft</td>\n",
       "      <td>...</td>\n",
       "      <td>0.0001</td>\n",
       "      <td>1543420800</td>\n",
       "      <td>33.10</td>\n",
       "      <td>1543402800</td>\n",
       "      <td>42.18</td>\n",
       "      <td>1543420800</td>\n",
       "      <td>29.11</td>\n",
       "      <td>1543392000</td>\n",
       "      <td>35.75</td>\n",
       "      <td>1543420800</td>\n",
       "    </tr>\n",
       "    <tr>\n",
       "      <td>...</td>\n",
       "      <td>...</td>\n",
       "      <td>...</td>\n",
       "      <td>...</td>\n",
       "      <td>...</td>\n",
       "      <td>...</td>\n",
       "      <td>...</td>\n",
       "      <td>...</td>\n",
       "      <td>...</td>\n",
       "      <td>...</td>\n",
       "      <td>...</td>\n",
       "      <td>...</td>\n",
       "      <td>...</td>\n",
       "      <td>...</td>\n",
       "      <td>...</td>\n",
       "      <td>...</td>\n",
       "      <td>...</td>\n",
       "      <td>...</td>\n",
       "      <td>...</td>\n",
       "      <td>...</td>\n",
       "      <td>...</td>\n",
       "      <td>...</td>\n",
       "    </tr>\n",
       "    <tr>\n",
       "      <td>693066</td>\n",
       "      <td>616d3611-1820-450a-9845-a9ff304a4842</td>\n",
       "      <td>1.543708e+09</td>\n",
       "      <td>23</td>\n",
       "      <td>1</td>\n",
       "      <td>12</td>\n",
       "      <td>2018-12-01 23:53:05</td>\n",
       "      <td>America/New_York</td>\n",
       "      <td>West End</td>\n",
       "      <td>North End</td>\n",
       "      <td>Uber</td>\n",
       "      <td>...</td>\n",
       "      <td>0.0000</td>\n",
       "      <td>1543683600</td>\n",
       "      <td>31.42</td>\n",
       "      <td>1543658400</td>\n",
       "      <td>44.76</td>\n",
       "      <td>1543690800</td>\n",
       "      <td>27.77</td>\n",
       "      <td>1543658400</td>\n",
       "      <td>44.09</td>\n",
       "      <td>1543690800</td>\n",
       "    </tr>\n",
       "    <tr>\n",
       "      <td>693067</td>\n",
       "      <td>633a3fc3-1f86-4b9e-9d48-2b7132112341</td>\n",
       "      <td>1.543708e+09</td>\n",
       "      <td>23</td>\n",
       "      <td>1</td>\n",
       "      <td>12</td>\n",
       "      <td>2018-12-01 23:53:05</td>\n",
       "      <td>America/New_York</td>\n",
       "      <td>West End</td>\n",
       "      <td>North End</td>\n",
       "      <td>Uber</td>\n",
       "      <td>...</td>\n",
       "      <td>0.0000</td>\n",
       "      <td>1543683600</td>\n",
       "      <td>31.42</td>\n",
       "      <td>1543658400</td>\n",
       "      <td>44.76</td>\n",
       "      <td>1543690800</td>\n",
       "      <td>27.77</td>\n",
       "      <td>1543658400</td>\n",
       "      <td>44.09</td>\n",
       "      <td>1543690800</td>\n",
       "    </tr>\n",
       "    <tr>\n",
       "      <td>693068</td>\n",
       "      <td>64d451d0-639f-47a4-9b7c-6fd92fbd264f</td>\n",
       "      <td>1.543708e+09</td>\n",
       "      <td>23</td>\n",
       "      <td>1</td>\n",
       "      <td>12</td>\n",
       "      <td>2018-12-01 23:53:05</td>\n",
       "      <td>America/New_York</td>\n",
       "      <td>West End</td>\n",
       "      <td>North End</td>\n",
       "      <td>Uber</td>\n",
       "      <td>...</td>\n",
       "      <td>0.0000</td>\n",
       "      <td>1543683600</td>\n",
       "      <td>31.42</td>\n",
       "      <td>1543658400</td>\n",
       "      <td>44.76</td>\n",
       "      <td>1543690800</td>\n",
       "      <td>27.77</td>\n",
       "      <td>1543658400</td>\n",
       "      <td>44.09</td>\n",
       "      <td>1543690800</td>\n",
       "    </tr>\n",
       "    <tr>\n",
       "      <td>693069</td>\n",
       "      <td>727e5f07-a96b-4ad1-a2c7-9abc3ad55b4e</td>\n",
       "      <td>1.543708e+09</td>\n",
       "      <td>23</td>\n",
       "      <td>1</td>\n",
       "      <td>12</td>\n",
       "      <td>2018-12-01 23:53:05</td>\n",
       "      <td>America/New_York</td>\n",
       "      <td>West End</td>\n",
       "      <td>North End</td>\n",
       "      <td>Uber</td>\n",
       "      <td>...</td>\n",
       "      <td>0.0000</td>\n",
       "      <td>1543683600</td>\n",
       "      <td>31.42</td>\n",
       "      <td>1543658400</td>\n",
       "      <td>44.76</td>\n",
       "      <td>1543690800</td>\n",
       "      <td>27.77</td>\n",
       "      <td>1543658400</td>\n",
       "      <td>44.09</td>\n",
       "      <td>1543690800</td>\n",
       "    </tr>\n",
       "    <tr>\n",
       "      <td>693070</td>\n",
       "      <td>e7fdc087-fe86-40a5-a3c3-3b2a8badcbda</td>\n",
       "      <td>1.543708e+09</td>\n",
       "      <td>23</td>\n",
       "      <td>1</td>\n",
       "      <td>12</td>\n",
       "      <td>2018-12-01 23:53:05</td>\n",
       "      <td>America/New_York</td>\n",
       "      <td>West End</td>\n",
       "      <td>North End</td>\n",
       "      <td>Uber</td>\n",
       "      <td>...</td>\n",
       "      <td>0.0000</td>\n",
       "      <td>1543683600</td>\n",
       "      <td>31.42</td>\n",
       "      <td>1543658400</td>\n",
       "      <td>44.76</td>\n",
       "      <td>1543690800</td>\n",
       "      <td>27.77</td>\n",
       "      <td>1543658400</td>\n",
       "      <td>44.09</td>\n",
       "      <td>1543690800</td>\n",
       "    </tr>\n",
       "  </tbody>\n",
       "</table>\n",
       "<p>693071 rows × 57 columns</p>\n",
       "</div>"
      ],
      "text/plain": [
       "                                          id     timestamp  hour  day  month  \\\n",
       "0       424553bb-7174-41ea-aeb4-fe06d4f4b9d7  1.544953e+09     9   16     12   \n",
       "1       4bd23055-6827-41c6-b23b-3c491f24e74d  1.543284e+09     2   27     11   \n",
       "2       981a3613-77af-4620-a42a-0c0866077d1e  1.543367e+09     1   28     11   \n",
       "3       c2d88af2-d278-4bfd-a8d0-29ca77cc5512  1.543554e+09     4   30     11   \n",
       "4       e0126e1f-8ca9-4f2e-82b3-50505a09db9a  1.543463e+09     3   29     11   \n",
       "...                                      ...           ...   ...  ...    ...   \n",
       "693066  616d3611-1820-450a-9845-a9ff304a4842  1.543708e+09    23    1     12   \n",
       "693067  633a3fc3-1f86-4b9e-9d48-2b7132112341  1.543708e+09    23    1     12   \n",
       "693068  64d451d0-639f-47a4-9b7c-6fd92fbd264f  1.543708e+09    23    1     12   \n",
       "693069  727e5f07-a96b-4ad1-a2c7-9abc3ad55b4e  1.543708e+09    23    1     12   \n",
       "693070  e7fdc087-fe86-40a5-a3c3-3b2a8badcbda  1.543708e+09    23    1     12   \n",
       "\n",
       "                   datetime          timezone            source  \\\n",
       "0       2018-12-16 09:30:07  America/New_York  Haymarket Square   \n",
       "1       2018-11-27 02:00:23  America/New_York  Haymarket Square   \n",
       "2       2018-11-28 01:00:22  America/New_York  Haymarket Square   \n",
       "3       2018-11-30 04:53:02  America/New_York  Haymarket Square   \n",
       "4       2018-11-29 03:49:20  America/New_York  Haymarket Square   \n",
       "...                     ...               ...               ...   \n",
       "693066  2018-12-01 23:53:05  America/New_York          West End   \n",
       "693067  2018-12-01 23:53:05  America/New_York          West End   \n",
       "693068  2018-12-01 23:53:05  America/New_York          West End   \n",
       "693069  2018-12-01 23:53:05  America/New_York          West End   \n",
       "693070  2018-12-01 23:53:05  America/New_York          West End   \n",
       "\n",
       "          destination cab_type  ... precipIntensityMax uvIndexTime  \\\n",
       "0       North Station     Lyft  ...             0.1276  1544979600   \n",
       "1       North Station     Lyft  ...             0.1300  1543251600   \n",
       "2       North Station     Lyft  ...             0.1064  1543338000   \n",
       "3       North Station     Lyft  ...             0.0000  1543507200   \n",
       "4       North Station     Lyft  ...             0.0001  1543420800   \n",
       "...               ...      ...  ...                ...         ...   \n",
       "693066      North End     Uber  ...             0.0000  1543683600   \n",
       "693067      North End     Uber  ...             0.0000  1543683600   \n",
       "693068      North End     Uber  ...             0.0000  1543683600   \n",
       "693069      North End     Uber  ...             0.0000  1543683600   \n",
       "693070      North End     Uber  ...             0.0000  1543683600   \n",
       "\n",
       "        temperatureMin  temperatureMinTime  temperatureMax  \\\n",
       "0                39.89          1545012000           43.68   \n",
       "1                40.49          1543233600           47.30   \n",
       "2                35.36          1543377600           47.55   \n",
       "3                34.67          1543550400           45.03   \n",
       "4                33.10          1543402800           42.18   \n",
       "...                ...                 ...             ...   \n",
       "693066           31.42          1543658400           44.76   \n",
       "693067           31.42          1543658400           44.76   \n",
       "693068           31.42          1543658400           44.76   \n",
       "693069           31.42          1543658400           44.76   \n",
       "693070           31.42          1543658400           44.76   \n",
       "\n",
       "        temperatureMaxTime  apparentTemperatureMin  \\\n",
       "0               1544968800                   33.73   \n",
       "1               1543251600                   36.20   \n",
       "2               1543320000                   31.04   \n",
       "3               1543510800                   30.30   \n",
       "4               1543420800                   29.11   \n",
       "...                    ...                     ...   \n",
       "693066          1543690800                   27.77   \n",
       "693067          1543690800                   27.77   \n",
       "693068          1543690800                   27.77   \n",
       "693069          1543690800                   27.77   \n",
       "693070          1543690800                   27.77   \n",
       "\n",
       "        apparentTemperatureMinTime  apparentTemperatureMax  \\\n",
       "0                       1545012000                   38.07   \n",
       "1                       1543291200                   43.92   \n",
       "2                       1543377600                   44.12   \n",
       "3                       1543550400                   38.53   \n",
       "4                       1543392000                   35.75   \n",
       "...                            ...                     ...   \n",
       "693066                  1543658400                   44.09   \n",
       "693067                  1543658400                   44.09   \n",
       "693068                  1543658400                   44.09   \n",
       "693069                  1543658400                   44.09   \n",
       "693070                  1543658400                   44.09   \n",
       "\n",
       "       apparentTemperatureMaxTime  \n",
       "0                      1544958000  \n",
       "1                      1543251600  \n",
       "2                      1543320000  \n",
       "3                      1543510800  \n",
       "4                      1543420800  \n",
       "...                           ...  \n",
       "693066                 1543690800  \n",
       "693067                 1543690800  \n",
       "693068                 1543690800  \n",
       "693069                 1543690800  \n",
       "693070                 1543690800  \n",
       "\n",
       "[693071 rows x 57 columns]"
      ]
     },
     "execution_count": 242,
     "metadata": {
      "tags": []
     },
     "output_type": "execute_result"
    }
   ],
   "source": [
    "modified_ride_share_df"
   ]
  },
  {
   "cell_type": "markdown",
   "metadata": {
    "id": "wpr8PIYglqCt"
   },
   "source": [
    "<a id=\"3\"></a>\n",
    "<hr style=\"height:2px; border:none; color:black; background-color:black;\">"
   ]
  },
  {
   "cell_type": "markdown",
   "metadata": {
    "id": "d3gDPWlvlqCt"
   },
   "source": [
    "## 3. RESULTS"
   ]
  },
  {
   "cell_type": "markdown",
   "metadata": {
    "id": "eVX47i-0lqCt"
   },
   "source": [
    "#### Data Wrangling: Cleaning the dataframe\n",
    "Remove columns that are redundant and invalid samples"
   ]
  },
  {
   "cell_type": "code",
   "execution_count": null,
   "metadata": {
    "id": "v1T-CZQGlqCu"
   },
   "outputs": [],
   "source": [
    "# cleaning and removing some columns that are redundant or bad data\n",
    "columns_to_drop = [\"id\", \"timestamp\", \"timezone\", \"datetime\", \"product_id\", \n",
    "                   \"latitude\", \"longitude\", \"long_summary\", \n",
    "                  \"windGustTime\", \"temperatureHigh\", \"temperatureHighTime\", \"temperatureLow\",\n",
    "                  \"temperatureLowTime\", \"apparentTemperatureHigh\", \"apparentTemperatureHighTime\", \n",
    "                  \"apparentTemperatureLow\", \"apparentTemperatureLowTime\", \"icon\", \"windBearing\", \n",
    "                  \"visibility.1\", \"sunriseTime\", \"sunsetTime\", \"moonPhase\", \"precipIntensityMax\",\n",
    "                  \"uvIndexTime\", \"temperatureMin\", \"temperatureMinTime\", \"temperatureMax\", \"temperatureMaxTime\", \n",
    "                   \"apparentTemperatureMin\", \"apparentTemperatureMinTime\", \"apparentTemperatureMax\", \n",
    "                  \"apparentTemperatureMaxTime\"]\n",
    "\n",
    "modified_ride_share_df = modified_ride_share_df.drop(columns_to_drop, axis = 1)\n",
    "\n",
    "# removing invalid samples\n",
    "modified_ride_share_df.dropna(inplace=True)\n",
    "\n",
    "# fixes the indices after dropping\n",
    "modified_ride_share_df.reset_index(drop=True, inplace=True)"
   ]
  },
  {
   "cell_type": "code",
   "execution_count": null,
   "metadata": {
    "id": "wfkRvts_lqCu",
    "outputId": "3f9ddfd1-c079-4a7b-de61-1eb86bd020f4"
   },
   "outputs": [
    {
     "data": {
      "text/html": [
       "<div>\n",
       "<style scoped>\n",
       "    .dataframe tbody tr th:only-of-type {\n",
       "        vertical-align: middle;\n",
       "    }\n",
       "\n",
       "    .dataframe tbody tr th {\n",
       "        vertical-align: top;\n",
       "    }\n",
       "\n",
       "    .dataframe thead th {\n",
       "        text-align: right;\n",
       "    }\n",
       "</style>\n",
       "<table border=\"1\" class=\"dataframe\">\n",
       "  <thead>\n",
       "    <tr style=\"text-align: right;\">\n",
       "      <th></th>\n",
       "      <th>hour</th>\n",
       "      <th>day</th>\n",
       "      <th>month</th>\n",
       "      <th>source</th>\n",
       "      <th>destination</th>\n",
       "      <th>cab_type</th>\n",
       "      <th>name</th>\n",
       "      <th>price</th>\n",
       "      <th>distance</th>\n",
       "      <th>surge_multiplier</th>\n",
       "      <th>...</th>\n",
       "      <th>precipProbability</th>\n",
       "      <th>humidity</th>\n",
       "      <th>windSpeed</th>\n",
       "      <th>windGust</th>\n",
       "      <th>visibility</th>\n",
       "      <th>dewPoint</th>\n",
       "      <th>pressure</th>\n",
       "      <th>cloudCover</th>\n",
       "      <th>uvIndex</th>\n",
       "      <th>ozone</th>\n",
       "    </tr>\n",
       "  </thead>\n",
       "  <tbody>\n",
       "    <tr>\n",
       "      <td>0</td>\n",
       "      <td>9</td>\n",
       "      <td>16</td>\n",
       "      <td>12</td>\n",
       "      <td>Haymarket Square</td>\n",
       "      <td>North Station</td>\n",
       "      <td>Lyft</td>\n",
       "      <td>Shared</td>\n",
       "      <td>5.0</td>\n",
       "      <td>0.44</td>\n",
       "      <td>1.0</td>\n",
       "      <td>...</td>\n",
       "      <td>0.0</td>\n",
       "      <td>0.68</td>\n",
       "      <td>8.66</td>\n",
       "      <td>9.17</td>\n",
       "      <td>10.000</td>\n",
       "      <td>32.70</td>\n",
       "      <td>1021.98</td>\n",
       "      <td>0.72</td>\n",
       "      <td>0</td>\n",
       "      <td>303.8</td>\n",
       "    </tr>\n",
       "    <tr>\n",
       "      <td>1</td>\n",
       "      <td>2</td>\n",
       "      <td>27</td>\n",
       "      <td>11</td>\n",
       "      <td>Haymarket Square</td>\n",
       "      <td>North Station</td>\n",
       "      <td>Lyft</td>\n",
       "      <td>Lux</td>\n",
       "      <td>11.0</td>\n",
       "      <td>0.44</td>\n",
       "      <td>1.0</td>\n",
       "      <td>...</td>\n",
       "      <td>1.0</td>\n",
       "      <td>0.94</td>\n",
       "      <td>11.98</td>\n",
       "      <td>11.98</td>\n",
       "      <td>4.786</td>\n",
       "      <td>41.83</td>\n",
       "      <td>1003.97</td>\n",
       "      <td>1.00</td>\n",
       "      <td>0</td>\n",
       "      <td>291.1</td>\n",
       "    </tr>\n",
       "    <tr>\n",
       "      <td>2</td>\n",
       "      <td>1</td>\n",
       "      <td>28</td>\n",
       "      <td>11</td>\n",
       "      <td>Haymarket Square</td>\n",
       "      <td>North Station</td>\n",
       "      <td>Lyft</td>\n",
       "      <td>Lyft</td>\n",
       "      <td>7.0</td>\n",
       "      <td>0.44</td>\n",
       "      <td>1.0</td>\n",
       "      <td>...</td>\n",
       "      <td>0.0</td>\n",
       "      <td>0.75</td>\n",
       "      <td>7.33</td>\n",
       "      <td>7.33</td>\n",
       "      <td>10.000</td>\n",
       "      <td>31.10</td>\n",
       "      <td>992.28</td>\n",
       "      <td>0.03</td>\n",
       "      <td>0</td>\n",
       "      <td>315.7</td>\n",
       "    </tr>\n",
       "    <tr>\n",
       "      <td>3</td>\n",
       "      <td>4</td>\n",
       "      <td>30</td>\n",
       "      <td>11</td>\n",
       "      <td>Haymarket Square</td>\n",
       "      <td>North Station</td>\n",
       "      <td>Lyft</td>\n",
       "      <td>Lux Black XL</td>\n",
       "      <td>26.0</td>\n",
       "      <td>0.44</td>\n",
       "      <td>1.0</td>\n",
       "      <td>...</td>\n",
       "      <td>0.0</td>\n",
       "      <td>0.73</td>\n",
       "      <td>5.28</td>\n",
       "      <td>5.28</td>\n",
       "      <td>10.000</td>\n",
       "      <td>26.64</td>\n",
       "      <td>1013.73</td>\n",
       "      <td>0.00</td>\n",
       "      <td>0</td>\n",
       "      <td>291.1</td>\n",
       "    </tr>\n",
       "    <tr>\n",
       "      <td>4</td>\n",
       "      <td>3</td>\n",
       "      <td>29</td>\n",
       "      <td>11</td>\n",
       "      <td>Haymarket Square</td>\n",
       "      <td>North Station</td>\n",
       "      <td>Lyft</td>\n",
       "      <td>Lyft XL</td>\n",
       "      <td>9.0</td>\n",
       "      <td>0.44</td>\n",
       "      <td>1.0</td>\n",
       "      <td>...</td>\n",
       "      <td>0.0</td>\n",
       "      <td>0.70</td>\n",
       "      <td>9.14</td>\n",
       "      <td>9.14</td>\n",
       "      <td>10.000</td>\n",
       "      <td>28.61</td>\n",
       "      <td>998.36</td>\n",
       "      <td>0.44</td>\n",
       "      <td>0</td>\n",
       "      <td>347.7</td>\n",
       "    </tr>\n",
       "    <tr>\n",
       "      <td>...</td>\n",
       "      <td>...</td>\n",
       "      <td>...</td>\n",
       "      <td>...</td>\n",
       "      <td>...</td>\n",
       "      <td>...</td>\n",
       "      <td>...</td>\n",
       "      <td>...</td>\n",
       "      <td>...</td>\n",
       "      <td>...</td>\n",
       "      <td>...</td>\n",
       "      <td>...</td>\n",
       "      <td>...</td>\n",
       "      <td>...</td>\n",
       "      <td>...</td>\n",
       "      <td>...</td>\n",
       "      <td>...</td>\n",
       "      <td>...</td>\n",
       "      <td>...</td>\n",
       "      <td>...</td>\n",
       "      <td>...</td>\n",
       "      <td>...</td>\n",
       "    </tr>\n",
       "    <tr>\n",
       "      <td>637971</td>\n",
       "      <td>23</td>\n",
       "      <td>1</td>\n",
       "      <td>12</td>\n",
       "      <td>West End</td>\n",
       "      <td>North End</td>\n",
       "      <td>Uber</td>\n",
       "      <td>WAV</td>\n",
       "      <td>9.5</td>\n",
       "      <td>1.00</td>\n",
       "      <td>1.0</td>\n",
       "      <td>...</td>\n",
       "      <td>0.0</td>\n",
       "      <td>0.74</td>\n",
       "      <td>2.34</td>\n",
       "      <td>2.87</td>\n",
       "      <td>9.785</td>\n",
       "      <td>29.65</td>\n",
       "      <td>1023.57</td>\n",
       "      <td>0.31</td>\n",
       "      <td>0</td>\n",
       "      <td>271.5</td>\n",
       "    </tr>\n",
       "    <tr>\n",
       "      <td>637972</td>\n",
       "      <td>23</td>\n",
       "      <td>1</td>\n",
       "      <td>12</td>\n",
       "      <td>West End</td>\n",
       "      <td>North End</td>\n",
       "      <td>Uber</td>\n",
       "      <td>UberXL</td>\n",
       "      <td>13.0</td>\n",
       "      <td>1.00</td>\n",
       "      <td>1.0</td>\n",
       "      <td>...</td>\n",
       "      <td>0.0</td>\n",
       "      <td>0.74</td>\n",
       "      <td>2.34</td>\n",
       "      <td>2.87</td>\n",
       "      <td>9.785</td>\n",
       "      <td>29.65</td>\n",
       "      <td>1023.57</td>\n",
       "      <td>0.31</td>\n",
       "      <td>0</td>\n",
       "      <td>271.5</td>\n",
       "    </tr>\n",
       "    <tr>\n",
       "      <td>637973</td>\n",
       "      <td>23</td>\n",
       "      <td>1</td>\n",
       "      <td>12</td>\n",
       "      <td>West End</td>\n",
       "      <td>North End</td>\n",
       "      <td>Uber</td>\n",
       "      <td>UberX</td>\n",
       "      <td>9.5</td>\n",
       "      <td>1.00</td>\n",
       "      <td>1.0</td>\n",
       "      <td>...</td>\n",
       "      <td>0.0</td>\n",
       "      <td>0.74</td>\n",
       "      <td>2.34</td>\n",
       "      <td>2.87</td>\n",
       "      <td>9.785</td>\n",
       "      <td>29.65</td>\n",
       "      <td>1023.57</td>\n",
       "      <td>0.31</td>\n",
       "      <td>0</td>\n",
       "      <td>271.5</td>\n",
       "    </tr>\n",
       "    <tr>\n",
       "      <td>637974</td>\n",
       "      <td>23</td>\n",
       "      <td>1</td>\n",
       "      <td>12</td>\n",
       "      <td>West End</td>\n",
       "      <td>North End</td>\n",
       "      <td>Uber</td>\n",
       "      <td>Black SUV</td>\n",
       "      <td>27.0</td>\n",
       "      <td>1.00</td>\n",
       "      <td>1.0</td>\n",
       "      <td>...</td>\n",
       "      <td>0.0</td>\n",
       "      <td>0.74</td>\n",
       "      <td>2.34</td>\n",
       "      <td>2.87</td>\n",
       "      <td>9.785</td>\n",
       "      <td>29.65</td>\n",
       "      <td>1023.57</td>\n",
       "      <td>0.31</td>\n",
       "      <td>0</td>\n",
       "      <td>271.5</td>\n",
       "    </tr>\n",
       "    <tr>\n",
       "      <td>637975</td>\n",
       "      <td>23</td>\n",
       "      <td>1</td>\n",
       "      <td>12</td>\n",
       "      <td>West End</td>\n",
       "      <td>North End</td>\n",
       "      <td>Uber</td>\n",
       "      <td>UberPool</td>\n",
       "      <td>10.0</td>\n",
       "      <td>1.00</td>\n",
       "      <td>1.0</td>\n",
       "      <td>...</td>\n",
       "      <td>0.0</td>\n",
       "      <td>0.74</td>\n",
       "      <td>2.34</td>\n",
       "      <td>2.87</td>\n",
       "      <td>9.785</td>\n",
       "      <td>29.65</td>\n",
       "      <td>1023.57</td>\n",
       "      <td>0.31</td>\n",
       "      <td>0</td>\n",
       "      <td>271.5</td>\n",
       "    </tr>\n",
       "  </tbody>\n",
       "</table>\n",
       "<p>637976 rows × 24 columns</p>\n",
       "</div>"
      ],
      "text/plain": [
       "        hour  day  month            source    destination cab_type  \\\n",
       "0          9   16     12  Haymarket Square  North Station     Lyft   \n",
       "1          2   27     11  Haymarket Square  North Station     Lyft   \n",
       "2          1   28     11  Haymarket Square  North Station     Lyft   \n",
       "3          4   30     11  Haymarket Square  North Station     Lyft   \n",
       "4          3   29     11  Haymarket Square  North Station     Lyft   \n",
       "...      ...  ...    ...               ...            ...      ...   \n",
       "637971    23    1     12          West End      North End     Uber   \n",
       "637972    23    1     12          West End      North End     Uber   \n",
       "637973    23    1     12          West End      North End     Uber   \n",
       "637974    23    1     12          West End      North End     Uber   \n",
       "637975    23    1     12          West End      North End     Uber   \n",
       "\n",
       "                name  price  distance  surge_multiplier  ...  \\\n",
       "0             Shared    5.0      0.44               1.0  ...   \n",
       "1                Lux   11.0      0.44               1.0  ...   \n",
       "2               Lyft    7.0      0.44               1.0  ...   \n",
       "3       Lux Black XL   26.0      0.44               1.0  ...   \n",
       "4            Lyft XL    9.0      0.44               1.0  ...   \n",
       "...              ...    ...       ...               ...  ...   \n",
       "637971           WAV    9.5      1.00               1.0  ...   \n",
       "637972        UberXL   13.0      1.00               1.0  ...   \n",
       "637973         UberX    9.5      1.00               1.0  ...   \n",
       "637974     Black SUV   27.0      1.00               1.0  ...   \n",
       "637975      UberPool   10.0      1.00               1.0  ...   \n",
       "\n",
       "        precipProbability  humidity windSpeed  windGust  visibility  dewPoint  \\\n",
       "0                     0.0      0.68      8.66      9.17      10.000     32.70   \n",
       "1                     1.0      0.94     11.98     11.98       4.786     41.83   \n",
       "2                     0.0      0.75      7.33      7.33      10.000     31.10   \n",
       "3                     0.0      0.73      5.28      5.28      10.000     26.64   \n",
       "4                     0.0      0.70      9.14      9.14      10.000     28.61   \n",
       "...                   ...       ...       ...       ...         ...       ...   \n",
       "637971                0.0      0.74      2.34      2.87       9.785     29.65   \n",
       "637972                0.0      0.74      2.34      2.87       9.785     29.65   \n",
       "637973                0.0      0.74      2.34      2.87       9.785     29.65   \n",
       "637974                0.0      0.74      2.34      2.87       9.785     29.65   \n",
       "637975                0.0      0.74      2.34      2.87       9.785     29.65   \n",
       "\n",
       "        pressure  cloudCover  uvIndex  ozone  \n",
       "0        1021.98        0.72        0  303.8  \n",
       "1        1003.97        1.00        0  291.1  \n",
       "2         992.28        0.03        0  315.7  \n",
       "3        1013.73        0.00        0  291.1  \n",
       "4         998.36        0.44        0  347.7  \n",
       "...          ...         ...      ...    ...  \n",
       "637971   1023.57        0.31        0  271.5  \n",
       "637972   1023.57        0.31        0  271.5  \n",
       "637973   1023.57        0.31        0  271.5  \n",
       "637974   1023.57        0.31        0  271.5  \n",
       "637975   1023.57        0.31        0  271.5  \n",
       "\n",
       "[637976 rows x 24 columns]"
      ]
     },
     "execution_count": 244,
     "metadata": {
      "tags": []
     },
     "output_type": "execute_result"
    }
   ],
   "source": [
    "modified_ride_share_df"
   ]
  },
  {
   "cell_type": "markdown",
   "metadata": {
    "id": "JDs-hN84lqCv"
   },
   "source": [
    "### 3.2. Data Exploration"
   ]
  },
  {
   "cell_type": "code",
   "execution_count": null,
   "metadata": {
    "id": "aXGJpeOQlqCv",
    "outputId": "a30ff947-e33c-409d-8d03-d80f7e23482f"
   },
   "outputs": [
    {
     "data": {
      "application/vnd.plotly.v1+json": {
       "config": {
        "plotlyServerURL": "https://plot.ly"
       },
       "data": [
        {
         "hovertemplate": "hour=%{x}<br>price=%{marker.color}<extra></extra>",
         "legendgroup": "",
         "marker": {
          "color": [
           16.574769014461705,
           16.513778031166858,
           16.561803365877747,
           16.539717978848415,
           16.57931100478469,
           16.537216786257883,
           16.519326360997336,
           16.491626689925862,
           16.603326319559475,
           16.51257826266262,
           16.501020846765527,
           16.55850568954412,
           16.485526644537245,
           16.54974443292705,
           16.54988204175007,
           16.524813406057127,
           16.513990776490775,
           16.6079964381122,
           16.516846698619357,
           16.55243722943723,
           16.599207961007313,
           16.604323065482014,
           16.59535673421179,
           16.501090103900527
          ],
          "coloraxis": "coloraxis",
          "symbol": "circle"
         },
         "mode": "markers",
         "name": "",
         "orientation": "v",
         "showlegend": false,
         "type": "scatter",
         "x": [
          0,
          1,
          2,
          3,
          4,
          5,
          6,
          7,
          8,
          9,
          10,
          11,
          12,
          13,
          14,
          15,
          16,
          17,
          18,
          19,
          20,
          21,
          22,
          23
         ],
         "xaxis": "x",
         "y": [
          16.574769014461705,
          16.513778031166858,
          16.561803365877747,
          16.539717978848415,
          16.57931100478469,
          16.537216786257883,
          16.519326360997336,
          16.491626689925862,
          16.603326319559475,
          16.51257826266262,
          16.501020846765527,
          16.55850568954412,
          16.485526644537245,
          16.54974443292705,
          16.54988204175007,
          16.524813406057127,
          16.513990776490775,
          16.6079964381122,
          16.516846698619357,
          16.55243722943723,
          16.599207961007313,
          16.604323065482014,
          16.59535673421179,
          16.501090103900527
         ],
         "yaxis": "y"
        }
       ],
       "layout": {
        "coloraxis": {
         "colorbar": {
          "title": {
           "text": "price"
          }
         },
         "colorscale": [
          [
           0,
           "blue"
          ],
          [
           0.85,
           "blue"
          ],
          [
           0.85,
           "red"
          ],
          [
           1,
           "red"
          ]
         ]
        },
        "legend": {
         "tracegroupgap": 0
        },
        "template": {
         "data": {
          "bar": [
           {
            "error_x": {
             "color": "#2a3f5f"
            },
            "error_y": {
             "color": "#2a3f5f"
            },
            "marker": {
             "line": {
              "color": "#E5ECF6",
              "width": 0.5
             }
            },
            "type": "bar"
           }
          ],
          "barpolar": [
           {
            "marker": {
             "line": {
              "color": "#E5ECF6",
              "width": 0.5
             }
            },
            "type": "barpolar"
           }
          ],
          "carpet": [
           {
            "aaxis": {
             "endlinecolor": "#2a3f5f",
             "gridcolor": "white",
             "linecolor": "white",
             "minorgridcolor": "white",
             "startlinecolor": "#2a3f5f"
            },
            "baxis": {
             "endlinecolor": "#2a3f5f",
             "gridcolor": "white",
             "linecolor": "white",
             "minorgridcolor": "white",
             "startlinecolor": "#2a3f5f"
            },
            "type": "carpet"
           }
          ],
          "choropleth": [
           {
            "colorbar": {
             "outlinewidth": 0,
             "ticks": ""
            },
            "type": "choropleth"
           }
          ],
          "contour": [
           {
            "colorbar": {
             "outlinewidth": 0,
             "ticks": ""
            },
            "colorscale": [
             [
              0,
              "#0d0887"
             ],
             [
              0.1111111111111111,
              "#46039f"
             ],
             [
              0.2222222222222222,
              "#7201a8"
             ],
             [
              0.3333333333333333,
              "#9c179e"
             ],
             [
              0.4444444444444444,
              "#bd3786"
             ],
             [
              0.5555555555555556,
              "#d8576b"
             ],
             [
              0.6666666666666666,
              "#ed7953"
             ],
             [
              0.7777777777777778,
              "#fb9f3a"
             ],
             [
              0.8888888888888888,
              "#fdca26"
             ],
             [
              1,
              "#f0f921"
             ]
            ],
            "type": "contour"
           }
          ],
          "contourcarpet": [
           {
            "colorbar": {
             "outlinewidth": 0,
             "ticks": ""
            },
            "type": "contourcarpet"
           }
          ],
          "heatmap": [
           {
            "colorbar": {
             "outlinewidth": 0,
             "ticks": ""
            },
            "colorscale": [
             [
              0,
              "#0d0887"
             ],
             [
              0.1111111111111111,
              "#46039f"
             ],
             [
              0.2222222222222222,
              "#7201a8"
             ],
             [
              0.3333333333333333,
              "#9c179e"
             ],
             [
              0.4444444444444444,
              "#bd3786"
             ],
             [
              0.5555555555555556,
              "#d8576b"
             ],
             [
              0.6666666666666666,
              "#ed7953"
             ],
             [
              0.7777777777777778,
              "#fb9f3a"
             ],
             [
              0.8888888888888888,
              "#fdca26"
             ],
             [
              1,
              "#f0f921"
             ]
            ],
            "type": "heatmap"
           }
          ],
          "heatmapgl": [
           {
            "colorbar": {
             "outlinewidth": 0,
             "ticks": ""
            },
            "colorscale": [
             [
              0,
              "#0d0887"
             ],
             [
              0.1111111111111111,
              "#46039f"
             ],
             [
              0.2222222222222222,
              "#7201a8"
             ],
             [
              0.3333333333333333,
              "#9c179e"
             ],
             [
              0.4444444444444444,
              "#bd3786"
             ],
             [
              0.5555555555555556,
              "#d8576b"
             ],
             [
              0.6666666666666666,
              "#ed7953"
             ],
             [
              0.7777777777777778,
              "#fb9f3a"
             ],
             [
              0.8888888888888888,
              "#fdca26"
             ],
             [
              1,
              "#f0f921"
             ]
            ],
            "type": "heatmapgl"
           }
          ],
          "histogram": [
           {
            "marker": {
             "colorbar": {
              "outlinewidth": 0,
              "ticks": ""
             }
            },
            "type": "histogram"
           }
          ],
          "histogram2d": [
           {
            "colorbar": {
             "outlinewidth": 0,
             "ticks": ""
            },
            "colorscale": [
             [
              0,
              "#0d0887"
             ],
             [
              0.1111111111111111,
              "#46039f"
             ],
             [
              0.2222222222222222,
              "#7201a8"
             ],
             [
              0.3333333333333333,
              "#9c179e"
             ],
             [
              0.4444444444444444,
              "#bd3786"
             ],
             [
              0.5555555555555556,
              "#d8576b"
             ],
             [
              0.6666666666666666,
              "#ed7953"
             ],
             [
              0.7777777777777778,
              "#fb9f3a"
             ],
             [
              0.8888888888888888,
              "#fdca26"
             ],
             [
              1,
              "#f0f921"
             ]
            ],
            "type": "histogram2d"
           }
          ],
          "histogram2dcontour": [
           {
            "colorbar": {
             "outlinewidth": 0,
             "ticks": ""
            },
            "colorscale": [
             [
              0,
              "#0d0887"
             ],
             [
              0.1111111111111111,
              "#46039f"
             ],
             [
              0.2222222222222222,
              "#7201a8"
             ],
             [
              0.3333333333333333,
              "#9c179e"
             ],
             [
              0.4444444444444444,
              "#bd3786"
             ],
             [
              0.5555555555555556,
              "#d8576b"
             ],
             [
              0.6666666666666666,
              "#ed7953"
             ],
             [
              0.7777777777777778,
              "#fb9f3a"
             ],
             [
              0.8888888888888888,
              "#fdca26"
             ],
             [
              1,
              "#f0f921"
             ]
            ],
            "type": "histogram2dcontour"
           }
          ],
          "mesh3d": [
           {
            "colorbar": {
             "outlinewidth": 0,
             "ticks": ""
            },
            "type": "mesh3d"
           }
          ],
          "parcoords": [
           {
            "line": {
             "colorbar": {
              "outlinewidth": 0,
              "ticks": ""
             }
            },
            "type": "parcoords"
           }
          ],
          "pie": [
           {
            "automargin": true,
            "type": "pie"
           }
          ],
          "scatter": [
           {
            "marker": {
             "colorbar": {
              "outlinewidth": 0,
              "ticks": ""
             }
            },
            "type": "scatter"
           }
          ],
          "scatter3d": [
           {
            "line": {
             "colorbar": {
              "outlinewidth": 0,
              "ticks": ""
             }
            },
            "marker": {
             "colorbar": {
              "outlinewidth": 0,
              "ticks": ""
             }
            },
            "type": "scatter3d"
           }
          ],
          "scattercarpet": [
           {
            "marker": {
             "colorbar": {
              "outlinewidth": 0,
              "ticks": ""
             }
            },
            "type": "scattercarpet"
           }
          ],
          "scattergeo": [
           {
            "marker": {
             "colorbar": {
              "outlinewidth": 0,
              "ticks": ""
             }
            },
            "type": "scattergeo"
           }
          ],
          "scattergl": [
           {
            "marker": {
             "colorbar": {
              "outlinewidth": 0,
              "ticks": ""
             }
            },
            "type": "scattergl"
           }
          ],
          "scattermapbox": [
           {
            "marker": {
             "colorbar": {
              "outlinewidth": 0,
              "ticks": ""
             }
            },
            "type": "scattermapbox"
           }
          ],
          "scatterpolar": [
           {
            "marker": {
             "colorbar": {
              "outlinewidth": 0,
              "ticks": ""
             }
            },
            "type": "scatterpolar"
           }
          ],
          "scatterpolargl": [
           {
            "marker": {
             "colorbar": {
              "outlinewidth": 0,
              "ticks": ""
             }
            },
            "type": "scatterpolargl"
           }
          ],
          "scatterternary": [
           {
            "marker": {
             "colorbar": {
              "outlinewidth": 0,
              "ticks": ""
             }
            },
            "type": "scatterternary"
           }
          ],
          "surface": [
           {
            "colorbar": {
             "outlinewidth": 0,
             "ticks": ""
            },
            "colorscale": [
             [
              0,
              "#0d0887"
             ],
             [
              0.1111111111111111,
              "#46039f"
             ],
             [
              0.2222222222222222,
              "#7201a8"
             ],
             [
              0.3333333333333333,
              "#9c179e"
             ],
             [
              0.4444444444444444,
              "#bd3786"
             ],
             [
              0.5555555555555556,
              "#d8576b"
             ],
             [
              0.6666666666666666,
              "#ed7953"
             ],
             [
              0.7777777777777778,
              "#fb9f3a"
             ],
             [
              0.8888888888888888,
              "#fdca26"
             ],
             [
              1,
              "#f0f921"
             ]
            ],
            "type": "surface"
           }
          ],
          "table": [
           {
            "cells": {
             "fill": {
              "color": "#EBF0F8"
             },
             "line": {
              "color": "white"
             }
            },
            "header": {
             "fill": {
              "color": "#C8D4E3"
             },
             "line": {
              "color": "white"
             }
            },
            "type": "table"
           }
          ]
         },
         "layout": {
          "annotationdefaults": {
           "arrowcolor": "#2a3f5f",
           "arrowhead": 0,
           "arrowwidth": 1
          },
          "coloraxis": {
           "colorbar": {
            "outlinewidth": 0,
            "ticks": ""
           }
          },
          "colorscale": {
           "diverging": [
            [
             0,
             "#8e0152"
            ],
            [
             0.1,
             "#c51b7d"
            ],
            [
             0.2,
             "#de77ae"
            ],
            [
             0.3,
             "#f1b6da"
            ],
            [
             0.4,
             "#fde0ef"
            ],
            [
             0.5,
             "#f7f7f7"
            ],
            [
             0.6,
             "#e6f5d0"
            ],
            [
             0.7,
             "#b8e186"
            ],
            [
             0.8,
             "#7fbc41"
            ],
            [
             0.9,
             "#4d9221"
            ],
            [
             1,
             "#276419"
            ]
           ],
           "sequential": [
            [
             0,
             "#0d0887"
            ],
            [
             0.1111111111111111,
             "#46039f"
            ],
            [
             0.2222222222222222,
             "#7201a8"
            ],
            [
             0.3333333333333333,
             "#9c179e"
            ],
            [
             0.4444444444444444,
             "#bd3786"
            ],
            [
             0.5555555555555556,
             "#d8576b"
            ],
            [
             0.6666666666666666,
             "#ed7953"
            ],
            [
             0.7777777777777778,
             "#fb9f3a"
            ],
            [
             0.8888888888888888,
             "#fdca26"
            ],
            [
             1,
             "#f0f921"
            ]
           ],
           "sequentialminus": [
            [
             0,
             "#0d0887"
            ],
            [
             0.1111111111111111,
             "#46039f"
            ],
            [
             0.2222222222222222,
             "#7201a8"
            ],
            [
             0.3333333333333333,
             "#9c179e"
            ],
            [
             0.4444444444444444,
             "#bd3786"
            ],
            [
             0.5555555555555556,
             "#d8576b"
            ],
            [
             0.6666666666666666,
             "#ed7953"
            ],
            [
             0.7777777777777778,
             "#fb9f3a"
            ],
            [
             0.8888888888888888,
             "#fdca26"
            ],
            [
             1,
             "#f0f921"
            ]
           ]
          },
          "colorway": [
           "#636efa",
           "#EF553B",
           "#00cc96",
           "#ab63fa",
           "#FFA15A",
           "#19d3f3",
           "#FF6692",
           "#B6E880",
           "#FF97FF",
           "#FECB52"
          ],
          "font": {
           "color": "#2a3f5f"
          },
          "geo": {
           "bgcolor": "white",
           "lakecolor": "white",
           "landcolor": "#E5ECF6",
           "showlakes": true,
           "showland": true,
           "subunitcolor": "white"
          },
          "hoverlabel": {
           "align": "left"
          },
          "hovermode": "closest",
          "mapbox": {
           "style": "light"
          },
          "paper_bgcolor": "white",
          "plot_bgcolor": "#E5ECF6",
          "polar": {
           "angularaxis": {
            "gridcolor": "white",
            "linecolor": "white",
            "ticks": ""
           },
           "bgcolor": "#E5ECF6",
           "radialaxis": {
            "gridcolor": "white",
            "linecolor": "white",
            "ticks": ""
           }
          },
          "scene": {
           "xaxis": {
            "backgroundcolor": "#E5ECF6",
            "gridcolor": "white",
            "gridwidth": 2,
            "linecolor": "white",
            "showbackground": true,
            "ticks": "",
            "zerolinecolor": "white"
           },
           "yaxis": {
            "backgroundcolor": "#E5ECF6",
            "gridcolor": "white",
            "gridwidth": 2,
            "linecolor": "white",
            "showbackground": true,
            "ticks": "",
            "zerolinecolor": "white"
           },
           "zaxis": {
            "backgroundcolor": "#E5ECF6",
            "gridcolor": "white",
            "gridwidth": 2,
            "linecolor": "white",
            "showbackground": true,
            "ticks": "",
            "zerolinecolor": "white"
           }
          },
          "shapedefaults": {
           "line": {
            "color": "#2a3f5f"
           }
          },
          "ternary": {
           "aaxis": {
            "gridcolor": "white",
            "linecolor": "white",
            "ticks": ""
           },
           "baxis": {
            "gridcolor": "white",
            "linecolor": "white",
            "ticks": ""
           },
           "bgcolor": "#E5ECF6",
           "caxis": {
            "gridcolor": "white",
            "linecolor": "white",
            "ticks": ""
           }
          },
          "title": {
           "x": 0.05
          },
          "xaxis": {
           "automargin": true,
           "gridcolor": "white",
           "linecolor": "white",
           "ticks": "",
           "title": {
            "standoff": 15
           },
           "zerolinecolor": "white",
           "zerolinewidth": 2
          },
          "yaxis": {
           "automargin": true,
           "gridcolor": "white",
           "linecolor": "white",
           "ticks": "",
           "title": {
            "standoff": 15
           },
           "zerolinecolor": "white",
           "zerolinewidth": 2
          }
         }
        },
        "title": {
         "text": "Average Price By Hour"
        },
        "xaxis": {
         "anchor": "y",
         "domain": [
          0,
          1
         ],
         "title": {
          "text": "hour"
         }
        },
        "yaxis": {
         "anchor": "x",
         "domain": [
          0,
          1
         ],
         "title": {
          "text": "Average Price"
         }
        }
       }
      },
      "text/html": [
       "<div>                            <div id=\"a4d6e9cf-f844-4355-b07f-c7ff00b40d63\" class=\"plotly-graph-div\" style=\"height:525px; width:100%;\"></div>            <script type=\"text/javascript\">                require([\"plotly\"], function(Plotly) {                    window.PLOTLYENV=window.PLOTLYENV || {};                                    if (document.getElementById(\"a4d6e9cf-f844-4355-b07f-c7ff00b40d63\")) {                    Plotly.newPlot(                        \"a4d6e9cf-f844-4355-b07f-c7ff00b40d63\",                        [{\"hovertemplate\": \"hour=%{x}<br>price=%{marker.color}<extra></extra>\", \"legendgroup\": \"\", \"marker\": {\"color\": [16.574769014461705, 16.513778031166858, 16.561803365877747, 16.539717978848415, 16.57931100478469, 16.537216786257883, 16.519326360997336, 16.491626689925862, 16.603326319559475, 16.51257826266262, 16.501020846765527, 16.55850568954412, 16.485526644537245, 16.54974443292705, 16.54988204175007, 16.524813406057127, 16.513990776490775, 16.6079964381122, 16.516846698619357, 16.55243722943723, 16.599207961007313, 16.604323065482014, 16.59535673421179, 16.501090103900527], \"coloraxis\": \"coloraxis\", \"symbol\": \"circle\"}, \"mode\": \"markers\", \"name\": \"\", \"orientation\": \"v\", \"showlegend\": false, \"type\": \"scatter\", \"x\": [0, 1, 2, 3, 4, 5, 6, 7, 8, 9, 10, 11, 12, 13, 14, 15, 16, 17, 18, 19, 20, 21, 22, 23], \"xaxis\": \"x\", \"y\": [16.574769014461705, 16.513778031166858, 16.561803365877747, 16.539717978848415, 16.57931100478469, 16.537216786257883, 16.519326360997336, 16.491626689925862, 16.603326319559475, 16.51257826266262, 16.501020846765527, 16.55850568954412, 16.485526644537245, 16.54974443292705, 16.54988204175007, 16.524813406057127, 16.513990776490775, 16.6079964381122, 16.516846698619357, 16.55243722943723, 16.599207961007313, 16.604323065482014, 16.59535673421179, 16.501090103900527], \"yaxis\": \"y\"}],                        {\"coloraxis\": {\"colorbar\": {\"title\": {\"text\": \"price\"}}, \"colorscale\": [[0, \"blue\"], [0.85, \"blue\"], [0.85, \"red\"], [1, \"red\"]]}, \"legend\": {\"tracegroupgap\": 0}, \"template\": {\"data\": {\"bar\": [{\"error_x\": {\"color\": \"#2a3f5f\"}, \"error_y\": {\"color\": \"#2a3f5f\"}, \"marker\": {\"line\": {\"color\": \"#E5ECF6\", \"width\": 0.5}}, \"type\": \"bar\"}], \"barpolar\": [{\"marker\": {\"line\": {\"color\": \"#E5ECF6\", \"width\": 0.5}}, \"type\": \"barpolar\"}], \"carpet\": [{\"aaxis\": {\"endlinecolor\": \"#2a3f5f\", \"gridcolor\": \"white\", \"linecolor\": \"white\", \"minorgridcolor\": \"white\", \"startlinecolor\": \"#2a3f5f\"}, \"baxis\": {\"endlinecolor\": \"#2a3f5f\", \"gridcolor\": \"white\", \"linecolor\": \"white\", \"minorgridcolor\": \"white\", \"startlinecolor\": \"#2a3f5f\"}, \"type\": \"carpet\"}], \"choropleth\": [{\"colorbar\": {\"outlinewidth\": 0, \"ticks\": \"\"}, \"type\": \"choropleth\"}], \"contour\": [{\"colorbar\": {\"outlinewidth\": 0, \"ticks\": \"\"}, \"colorscale\": [[0.0, \"#0d0887\"], [0.1111111111111111, \"#46039f\"], [0.2222222222222222, \"#7201a8\"], [0.3333333333333333, \"#9c179e\"], [0.4444444444444444, \"#bd3786\"], [0.5555555555555556, \"#d8576b\"], [0.6666666666666666, \"#ed7953\"], [0.7777777777777778, \"#fb9f3a\"], [0.8888888888888888, \"#fdca26\"], [1.0, \"#f0f921\"]], \"type\": \"contour\"}], \"contourcarpet\": [{\"colorbar\": {\"outlinewidth\": 0, \"ticks\": \"\"}, \"type\": \"contourcarpet\"}], \"heatmap\": [{\"colorbar\": {\"outlinewidth\": 0, \"ticks\": \"\"}, \"colorscale\": [[0.0, \"#0d0887\"], [0.1111111111111111, \"#46039f\"], [0.2222222222222222, \"#7201a8\"], [0.3333333333333333, \"#9c179e\"], [0.4444444444444444, \"#bd3786\"], [0.5555555555555556, \"#d8576b\"], [0.6666666666666666, \"#ed7953\"], [0.7777777777777778, \"#fb9f3a\"], [0.8888888888888888, \"#fdca26\"], [1.0, \"#f0f921\"]], \"type\": \"heatmap\"}], \"heatmapgl\": [{\"colorbar\": {\"outlinewidth\": 0, \"ticks\": \"\"}, \"colorscale\": [[0.0, \"#0d0887\"], [0.1111111111111111, \"#46039f\"], [0.2222222222222222, \"#7201a8\"], [0.3333333333333333, \"#9c179e\"], [0.4444444444444444, \"#bd3786\"], [0.5555555555555556, \"#d8576b\"], [0.6666666666666666, \"#ed7953\"], [0.7777777777777778, \"#fb9f3a\"], [0.8888888888888888, \"#fdca26\"], [1.0, \"#f0f921\"]], \"type\": \"heatmapgl\"}], \"histogram\": [{\"marker\": {\"colorbar\": {\"outlinewidth\": 0, \"ticks\": \"\"}}, \"type\": \"histogram\"}], \"histogram2d\": [{\"colorbar\": {\"outlinewidth\": 0, \"ticks\": \"\"}, \"colorscale\": [[0.0, \"#0d0887\"], [0.1111111111111111, \"#46039f\"], [0.2222222222222222, \"#7201a8\"], [0.3333333333333333, \"#9c179e\"], [0.4444444444444444, \"#bd3786\"], [0.5555555555555556, \"#d8576b\"], [0.6666666666666666, \"#ed7953\"], [0.7777777777777778, \"#fb9f3a\"], [0.8888888888888888, \"#fdca26\"], [1.0, \"#f0f921\"]], \"type\": \"histogram2d\"}], \"histogram2dcontour\": [{\"colorbar\": {\"outlinewidth\": 0, \"ticks\": \"\"}, \"colorscale\": [[0.0, \"#0d0887\"], [0.1111111111111111, \"#46039f\"], [0.2222222222222222, \"#7201a8\"], [0.3333333333333333, \"#9c179e\"], [0.4444444444444444, \"#bd3786\"], [0.5555555555555556, \"#d8576b\"], [0.6666666666666666, \"#ed7953\"], [0.7777777777777778, \"#fb9f3a\"], [0.8888888888888888, \"#fdca26\"], [1.0, \"#f0f921\"]], \"type\": \"histogram2dcontour\"}], \"mesh3d\": [{\"colorbar\": {\"outlinewidth\": 0, \"ticks\": \"\"}, \"type\": \"mesh3d\"}], \"parcoords\": [{\"line\": {\"colorbar\": {\"outlinewidth\": 0, \"ticks\": \"\"}}, \"type\": \"parcoords\"}], \"pie\": [{\"automargin\": true, \"type\": \"pie\"}], \"scatter\": [{\"marker\": {\"colorbar\": {\"outlinewidth\": 0, \"ticks\": \"\"}}, \"type\": \"scatter\"}], \"scatter3d\": [{\"line\": {\"colorbar\": {\"outlinewidth\": 0, \"ticks\": \"\"}}, \"marker\": {\"colorbar\": {\"outlinewidth\": 0, \"ticks\": \"\"}}, \"type\": \"scatter3d\"}], \"scattercarpet\": [{\"marker\": {\"colorbar\": {\"outlinewidth\": 0, \"ticks\": \"\"}}, \"type\": \"scattercarpet\"}], \"scattergeo\": [{\"marker\": {\"colorbar\": {\"outlinewidth\": 0, \"ticks\": \"\"}}, \"type\": \"scattergeo\"}], \"scattergl\": [{\"marker\": {\"colorbar\": {\"outlinewidth\": 0, \"ticks\": \"\"}}, \"type\": \"scattergl\"}], \"scattermapbox\": [{\"marker\": {\"colorbar\": {\"outlinewidth\": 0, \"ticks\": \"\"}}, \"type\": \"scattermapbox\"}], \"scatterpolar\": [{\"marker\": {\"colorbar\": {\"outlinewidth\": 0, \"ticks\": \"\"}}, \"type\": \"scatterpolar\"}], \"scatterpolargl\": [{\"marker\": {\"colorbar\": {\"outlinewidth\": 0, \"ticks\": \"\"}}, \"type\": \"scatterpolargl\"}], \"scatterternary\": [{\"marker\": {\"colorbar\": {\"outlinewidth\": 0, \"ticks\": \"\"}}, \"type\": \"scatterternary\"}], \"surface\": [{\"colorbar\": {\"outlinewidth\": 0, \"ticks\": \"\"}, \"colorscale\": [[0.0, \"#0d0887\"], [0.1111111111111111, \"#46039f\"], [0.2222222222222222, \"#7201a8\"], [0.3333333333333333, \"#9c179e\"], [0.4444444444444444, \"#bd3786\"], [0.5555555555555556, \"#d8576b\"], [0.6666666666666666, \"#ed7953\"], [0.7777777777777778, \"#fb9f3a\"], [0.8888888888888888, \"#fdca26\"], [1.0, \"#f0f921\"]], \"type\": \"surface\"}], \"table\": [{\"cells\": {\"fill\": {\"color\": \"#EBF0F8\"}, \"line\": {\"color\": \"white\"}}, \"header\": {\"fill\": {\"color\": \"#C8D4E3\"}, \"line\": {\"color\": \"white\"}}, \"type\": \"table\"}]}, \"layout\": {\"annotationdefaults\": {\"arrowcolor\": \"#2a3f5f\", \"arrowhead\": 0, \"arrowwidth\": 1}, \"coloraxis\": {\"colorbar\": {\"outlinewidth\": 0, \"ticks\": \"\"}}, \"colorscale\": {\"diverging\": [[0, \"#8e0152\"], [0.1, \"#c51b7d\"], [0.2, \"#de77ae\"], [0.3, \"#f1b6da\"], [0.4, \"#fde0ef\"], [0.5, \"#f7f7f7\"], [0.6, \"#e6f5d0\"], [0.7, \"#b8e186\"], [0.8, \"#7fbc41\"], [0.9, \"#4d9221\"], [1, \"#276419\"]], \"sequential\": [[0.0, \"#0d0887\"], [0.1111111111111111, \"#46039f\"], [0.2222222222222222, \"#7201a8\"], [0.3333333333333333, \"#9c179e\"], [0.4444444444444444, \"#bd3786\"], [0.5555555555555556, \"#d8576b\"], [0.6666666666666666, \"#ed7953\"], [0.7777777777777778, \"#fb9f3a\"], [0.8888888888888888, \"#fdca26\"], [1.0, \"#f0f921\"]], \"sequentialminus\": [[0.0, \"#0d0887\"], [0.1111111111111111, \"#46039f\"], [0.2222222222222222, \"#7201a8\"], [0.3333333333333333, \"#9c179e\"], [0.4444444444444444, \"#bd3786\"], [0.5555555555555556, \"#d8576b\"], [0.6666666666666666, \"#ed7953\"], [0.7777777777777778, \"#fb9f3a\"], [0.8888888888888888, \"#fdca26\"], [1.0, \"#f0f921\"]]}, \"colorway\": [\"#636efa\", \"#EF553B\", \"#00cc96\", \"#ab63fa\", \"#FFA15A\", \"#19d3f3\", \"#FF6692\", \"#B6E880\", \"#FF97FF\", \"#FECB52\"], \"font\": {\"color\": \"#2a3f5f\"}, \"geo\": {\"bgcolor\": \"white\", \"lakecolor\": \"white\", \"landcolor\": \"#E5ECF6\", \"showlakes\": true, \"showland\": true, \"subunitcolor\": \"white\"}, \"hoverlabel\": {\"align\": \"left\"}, \"hovermode\": \"closest\", \"mapbox\": {\"style\": \"light\"}, \"paper_bgcolor\": \"white\", \"plot_bgcolor\": \"#E5ECF6\", \"polar\": {\"angularaxis\": {\"gridcolor\": \"white\", \"linecolor\": \"white\", \"ticks\": \"\"}, \"bgcolor\": \"#E5ECF6\", \"radialaxis\": {\"gridcolor\": \"white\", \"linecolor\": \"white\", \"ticks\": \"\"}}, \"scene\": {\"xaxis\": {\"backgroundcolor\": \"#E5ECF6\", \"gridcolor\": \"white\", \"gridwidth\": 2, \"linecolor\": \"white\", \"showbackground\": true, \"ticks\": \"\", \"zerolinecolor\": \"white\"}, \"yaxis\": {\"backgroundcolor\": \"#E5ECF6\", \"gridcolor\": \"white\", \"gridwidth\": 2, \"linecolor\": \"white\", \"showbackground\": true, \"ticks\": \"\", \"zerolinecolor\": \"white\"}, \"zaxis\": {\"backgroundcolor\": \"#E5ECF6\", \"gridcolor\": \"white\", \"gridwidth\": 2, \"linecolor\": \"white\", \"showbackground\": true, \"ticks\": \"\", \"zerolinecolor\": \"white\"}}, \"shapedefaults\": {\"line\": {\"color\": \"#2a3f5f\"}}, \"ternary\": {\"aaxis\": {\"gridcolor\": \"white\", \"linecolor\": \"white\", \"ticks\": \"\"}, \"baxis\": {\"gridcolor\": \"white\", \"linecolor\": \"white\", \"ticks\": \"\"}, \"bgcolor\": \"#E5ECF6\", \"caxis\": {\"gridcolor\": \"white\", \"linecolor\": \"white\", \"ticks\": \"\"}}, \"title\": {\"x\": 0.05}, \"xaxis\": {\"automargin\": true, \"gridcolor\": \"white\", \"linecolor\": \"white\", \"ticks\": \"\", \"title\": {\"standoff\": 15}, \"zerolinecolor\": \"white\", \"zerolinewidth\": 2}, \"yaxis\": {\"automargin\": true, \"gridcolor\": \"white\", \"linecolor\": \"white\", \"ticks\": \"\", \"title\": {\"standoff\": 15}, \"zerolinecolor\": \"white\", \"zerolinewidth\": 2}}}, \"title\": {\"text\": \"Average Price By Hour\"}, \"xaxis\": {\"anchor\": \"y\", \"domain\": [0.0, 1.0], \"title\": {\"text\": \"hour\"}}, \"yaxis\": {\"anchor\": \"x\", \"domain\": [0.0, 1.0], \"title\": {\"text\": \"Average Price\"}}},                        {\"responsive\": true}                    ).then(function(){\n",
       "                            \n",
       "var gd = document.getElementById('a4d6e9cf-f844-4355-b07f-c7ff00b40d63');\n",
       "var x = new MutationObserver(function (mutations, observer) {{\n",
       "        var display = window.getComputedStyle(gd).display;\n",
       "        if (!display || display === 'none') {{\n",
       "            console.log([gd, 'removed!']);\n",
       "            Plotly.purge(gd);\n",
       "            observer.disconnect();\n",
       "        }}\n",
       "}});\n",
       "\n",
       "// Listen for the removal of the full notebook cells\n",
       "var notebookContainer = gd.closest('#notebook-container');\n",
       "if (notebookContainer) {{\n",
       "    x.observe(notebookContainer, {childList: true});\n",
       "}}\n",
       "\n",
       "// Listen for the clearing of the current output cell\n",
       "var outputEl = gd.closest('.output');\n",
       "if (outputEl) {{\n",
       "    x.observe(outputEl, {childList: true});\n",
       "}}\n",
       "\n",
       "                        })                };                });            </script>        </div>"
      ]
     },
     "metadata": {
      "tags": []
     },
     "output_type": "display_data"
    }
   ],
   "source": [
    "import plotly.express as px\n",
    "\n",
    "# groups the dataframe by the hour column and displays the means of each feature\n",
    "hour_df = modified_ride_share_df.groupby([\"hour\"]).mean()\n",
    "\n",
    "# creates a scatter plot of average price based on the hour and highlights the upper \n",
    "# 15% of data points\n",
    "fig = px.scatter(hour_df, x=hour_df.index, y=\"price\", title=\"Average Price By Hour\", color=\"price\", \n",
    "             color_continuous_scale = [(0, \"blue\"), (0.85, \"blue\"), (0.85, \"red\"), (1, \"red\")])\n",
    "\n",
    "fig.update_yaxes(title=\"Average Price\")\n",
    "\n",
    "fig.show()"
   ]
  },
  {
   "cell_type": "markdown",
   "metadata": {
    "id": "IrjloMoQlqCv"
   },
   "source": [
    "<center><img src = https://raw.githubusercontent.com/aneesh1/ds3000project/main/apbh2.png width=900></center>"
   ]
  },
  {
   "cell_type": "markdown",
   "metadata": {
    "id": "6HWT7VUnlqCw"
   },
   "source": [
    "### Figure 1: Average Price by Hour\n",
    "\n",
    "The purpose of this graph was to display the average price at each hour in the day and to highlight the\n",
    "upper 15% of data points. The reason why the upper 15% of data points were highlighted was to show that\n",
    "these times represent \"rush hour\" times during which people are trying to get home from work or are going\n",
    "out to for the night. It also is meant to highlight that at these times the average prices are significantly\n",
    "higher than those of other times during the day. For example, at hours 8, 17, 20, 21, 22 the prices were deemed to be in this top 15% which is why they were later labeled as \"Rush Hour\" times.  "
   ]
  },
  {
   "cell_type": "code",
   "execution_count": null,
   "metadata": {
    "id": "kHET6eUxlqCw",
    "outputId": "76255199-97fd-4ab2-bb0e-c5e67970b901"
   },
   "outputs": [
    {
     "data": {
      "application/vnd.plotly.v1+json": {
       "config": {
        "plotlyServerURL": "https://plot.ly"
       },
       "data": [
        {
         "alignmentgroup": "True",
         "hovertemplate": "type=Uber<br>Type of Ride=%{x}<br>price=%{y}<extra></extra>",
         "legendgroup": "Uber",
         "marker": {
          "color": "black"
         },
         "name": "Uber",
         "offsetgroup": "Uber",
         "orientation": "v",
         "showlegend": true,
         "textposition": "auto",
         "type": "bar",
         "x": [
          "Black",
          "Black SUV",
          "UberPool",
          "UberX",
          "UberXL",
          "WAV"
         ],
         "xaxis": "x",
         "y": [
          20.523786187494327,
          30.286763104399594,
          8.752500408415168,
          9.765074236758993,
          15.678143603891389,
          9.765019239146218
         ],
         "yaxis": "y"
        },
        {
         "alignmentgroup": "True",
         "hovertemplate": "type=Lyft<br>Type of Ride=%{x}<br>price=%{y}<extra></extra>",
         "legendgroup": "Lyft",
         "marker": {
          "color": "rgb(255, 0, 191)"
         },
         "name": "Lyft",
         "offsetgroup": "Lyft",
         "orientation": "v",
         "showlegend": true,
         "textposition": "auto",
         "type": "bar",
         "x": [
          "Lux",
          "Lux Black",
          "Lux Black XL",
          "Lyft",
          "Lyft XL",
          "Shared"
         ],
         "xaxis": "x",
         "y": [
          17.771240363033083,
          23.062468039426175,
          32.32408607397287,
          9.610884746755147,
          15.309362740314237,
          6.029892842503855
         ],
         "yaxis": "y"
        }
       ],
       "layout": {
        "barmode": "relative",
        "legend": {
         "title": {
          "text": "type"
         },
         "tracegroupgap": 0
        },
        "template": {
         "data": {
          "bar": [
           {
            "error_x": {
             "color": "#2a3f5f"
            },
            "error_y": {
             "color": "#2a3f5f"
            },
            "marker": {
             "line": {
              "color": "#E5ECF6",
              "width": 0.5
             }
            },
            "type": "bar"
           }
          ],
          "barpolar": [
           {
            "marker": {
             "line": {
              "color": "#E5ECF6",
              "width": 0.5
             }
            },
            "type": "barpolar"
           }
          ],
          "carpet": [
           {
            "aaxis": {
             "endlinecolor": "#2a3f5f",
             "gridcolor": "white",
             "linecolor": "white",
             "minorgridcolor": "white",
             "startlinecolor": "#2a3f5f"
            },
            "baxis": {
             "endlinecolor": "#2a3f5f",
             "gridcolor": "white",
             "linecolor": "white",
             "minorgridcolor": "white",
             "startlinecolor": "#2a3f5f"
            },
            "type": "carpet"
           }
          ],
          "choropleth": [
           {
            "colorbar": {
             "outlinewidth": 0,
             "ticks": ""
            },
            "type": "choropleth"
           }
          ],
          "contour": [
           {
            "colorbar": {
             "outlinewidth": 0,
             "ticks": ""
            },
            "colorscale": [
             [
              0,
              "#0d0887"
             ],
             [
              0.1111111111111111,
              "#46039f"
             ],
             [
              0.2222222222222222,
              "#7201a8"
             ],
             [
              0.3333333333333333,
              "#9c179e"
             ],
             [
              0.4444444444444444,
              "#bd3786"
             ],
             [
              0.5555555555555556,
              "#d8576b"
             ],
             [
              0.6666666666666666,
              "#ed7953"
             ],
             [
              0.7777777777777778,
              "#fb9f3a"
             ],
             [
              0.8888888888888888,
              "#fdca26"
             ],
             [
              1,
              "#f0f921"
             ]
            ],
            "type": "contour"
           }
          ],
          "contourcarpet": [
           {
            "colorbar": {
             "outlinewidth": 0,
             "ticks": ""
            },
            "type": "contourcarpet"
           }
          ],
          "heatmap": [
           {
            "colorbar": {
             "outlinewidth": 0,
             "ticks": ""
            },
            "colorscale": [
             [
              0,
              "#0d0887"
             ],
             [
              0.1111111111111111,
              "#46039f"
             ],
             [
              0.2222222222222222,
              "#7201a8"
             ],
             [
              0.3333333333333333,
              "#9c179e"
             ],
             [
              0.4444444444444444,
              "#bd3786"
             ],
             [
              0.5555555555555556,
              "#d8576b"
             ],
             [
              0.6666666666666666,
              "#ed7953"
             ],
             [
              0.7777777777777778,
              "#fb9f3a"
             ],
             [
              0.8888888888888888,
              "#fdca26"
             ],
             [
              1,
              "#f0f921"
             ]
            ],
            "type": "heatmap"
           }
          ],
          "heatmapgl": [
           {
            "colorbar": {
             "outlinewidth": 0,
             "ticks": ""
            },
            "colorscale": [
             [
              0,
              "#0d0887"
             ],
             [
              0.1111111111111111,
              "#46039f"
             ],
             [
              0.2222222222222222,
              "#7201a8"
             ],
             [
              0.3333333333333333,
              "#9c179e"
             ],
             [
              0.4444444444444444,
              "#bd3786"
             ],
             [
              0.5555555555555556,
              "#d8576b"
             ],
             [
              0.6666666666666666,
              "#ed7953"
             ],
             [
              0.7777777777777778,
              "#fb9f3a"
             ],
             [
              0.8888888888888888,
              "#fdca26"
             ],
             [
              1,
              "#f0f921"
             ]
            ],
            "type": "heatmapgl"
           }
          ],
          "histogram": [
           {
            "marker": {
             "colorbar": {
              "outlinewidth": 0,
              "ticks": ""
             }
            },
            "type": "histogram"
           }
          ],
          "histogram2d": [
           {
            "colorbar": {
             "outlinewidth": 0,
             "ticks": ""
            },
            "colorscale": [
             [
              0,
              "#0d0887"
             ],
             [
              0.1111111111111111,
              "#46039f"
             ],
             [
              0.2222222222222222,
              "#7201a8"
             ],
             [
              0.3333333333333333,
              "#9c179e"
             ],
             [
              0.4444444444444444,
              "#bd3786"
             ],
             [
              0.5555555555555556,
              "#d8576b"
             ],
             [
              0.6666666666666666,
              "#ed7953"
             ],
             [
              0.7777777777777778,
              "#fb9f3a"
             ],
             [
              0.8888888888888888,
              "#fdca26"
             ],
             [
              1,
              "#f0f921"
             ]
            ],
            "type": "histogram2d"
           }
          ],
          "histogram2dcontour": [
           {
            "colorbar": {
             "outlinewidth": 0,
             "ticks": ""
            },
            "colorscale": [
             [
              0,
              "#0d0887"
             ],
             [
              0.1111111111111111,
              "#46039f"
             ],
             [
              0.2222222222222222,
              "#7201a8"
             ],
             [
              0.3333333333333333,
              "#9c179e"
             ],
             [
              0.4444444444444444,
              "#bd3786"
             ],
             [
              0.5555555555555556,
              "#d8576b"
             ],
             [
              0.6666666666666666,
              "#ed7953"
             ],
             [
              0.7777777777777778,
              "#fb9f3a"
             ],
             [
              0.8888888888888888,
              "#fdca26"
             ],
             [
              1,
              "#f0f921"
             ]
            ],
            "type": "histogram2dcontour"
           }
          ],
          "mesh3d": [
           {
            "colorbar": {
             "outlinewidth": 0,
             "ticks": ""
            },
            "type": "mesh3d"
           }
          ],
          "parcoords": [
           {
            "line": {
             "colorbar": {
              "outlinewidth": 0,
              "ticks": ""
             }
            },
            "type": "parcoords"
           }
          ],
          "pie": [
           {
            "automargin": true,
            "type": "pie"
           }
          ],
          "scatter": [
           {
            "marker": {
             "colorbar": {
              "outlinewidth": 0,
              "ticks": ""
             }
            },
            "type": "scatter"
           }
          ],
          "scatter3d": [
           {
            "line": {
             "colorbar": {
              "outlinewidth": 0,
              "ticks": ""
             }
            },
            "marker": {
             "colorbar": {
              "outlinewidth": 0,
              "ticks": ""
             }
            },
            "type": "scatter3d"
           }
          ],
          "scattercarpet": [
           {
            "marker": {
             "colorbar": {
              "outlinewidth": 0,
              "ticks": ""
             }
            },
            "type": "scattercarpet"
           }
          ],
          "scattergeo": [
           {
            "marker": {
             "colorbar": {
              "outlinewidth": 0,
              "ticks": ""
             }
            },
            "type": "scattergeo"
           }
          ],
          "scattergl": [
           {
            "marker": {
             "colorbar": {
              "outlinewidth": 0,
              "ticks": ""
             }
            },
            "type": "scattergl"
           }
          ],
          "scattermapbox": [
           {
            "marker": {
             "colorbar": {
              "outlinewidth": 0,
              "ticks": ""
             }
            },
            "type": "scattermapbox"
           }
          ],
          "scatterpolar": [
           {
            "marker": {
             "colorbar": {
              "outlinewidth": 0,
              "ticks": ""
             }
            },
            "type": "scatterpolar"
           }
          ],
          "scatterpolargl": [
           {
            "marker": {
             "colorbar": {
              "outlinewidth": 0,
              "ticks": ""
             }
            },
            "type": "scatterpolargl"
           }
          ],
          "scatterternary": [
           {
            "marker": {
             "colorbar": {
              "outlinewidth": 0,
              "ticks": ""
             }
            },
            "type": "scatterternary"
           }
          ],
          "surface": [
           {
            "colorbar": {
             "outlinewidth": 0,
             "ticks": ""
            },
            "colorscale": [
             [
              0,
              "#0d0887"
             ],
             [
              0.1111111111111111,
              "#46039f"
             ],
             [
              0.2222222222222222,
              "#7201a8"
             ],
             [
              0.3333333333333333,
              "#9c179e"
             ],
             [
              0.4444444444444444,
              "#bd3786"
             ],
             [
              0.5555555555555556,
              "#d8576b"
             ],
             [
              0.6666666666666666,
              "#ed7953"
             ],
             [
              0.7777777777777778,
              "#fb9f3a"
             ],
             [
              0.8888888888888888,
              "#fdca26"
             ],
             [
              1,
              "#f0f921"
             ]
            ],
            "type": "surface"
           }
          ],
          "table": [
           {
            "cells": {
             "fill": {
              "color": "#EBF0F8"
             },
             "line": {
              "color": "white"
             }
            },
            "header": {
             "fill": {
              "color": "#C8D4E3"
             },
             "line": {
              "color": "white"
             }
            },
            "type": "table"
           }
          ]
         },
         "layout": {
          "annotationdefaults": {
           "arrowcolor": "#2a3f5f",
           "arrowhead": 0,
           "arrowwidth": 1
          },
          "coloraxis": {
           "colorbar": {
            "outlinewidth": 0,
            "ticks": ""
           }
          },
          "colorscale": {
           "diverging": [
            [
             0,
             "#8e0152"
            ],
            [
             0.1,
             "#c51b7d"
            ],
            [
             0.2,
             "#de77ae"
            ],
            [
             0.3,
             "#f1b6da"
            ],
            [
             0.4,
             "#fde0ef"
            ],
            [
             0.5,
             "#f7f7f7"
            ],
            [
             0.6,
             "#e6f5d0"
            ],
            [
             0.7,
             "#b8e186"
            ],
            [
             0.8,
             "#7fbc41"
            ],
            [
             0.9,
             "#4d9221"
            ],
            [
             1,
             "#276419"
            ]
           ],
           "sequential": [
            [
             0,
             "#0d0887"
            ],
            [
             0.1111111111111111,
             "#46039f"
            ],
            [
             0.2222222222222222,
             "#7201a8"
            ],
            [
             0.3333333333333333,
             "#9c179e"
            ],
            [
             0.4444444444444444,
             "#bd3786"
            ],
            [
             0.5555555555555556,
             "#d8576b"
            ],
            [
             0.6666666666666666,
             "#ed7953"
            ],
            [
             0.7777777777777778,
             "#fb9f3a"
            ],
            [
             0.8888888888888888,
             "#fdca26"
            ],
            [
             1,
             "#f0f921"
            ]
           ],
           "sequentialminus": [
            [
             0,
             "#0d0887"
            ],
            [
             0.1111111111111111,
             "#46039f"
            ],
            [
             0.2222222222222222,
             "#7201a8"
            ],
            [
             0.3333333333333333,
             "#9c179e"
            ],
            [
             0.4444444444444444,
             "#bd3786"
            ],
            [
             0.5555555555555556,
             "#d8576b"
            ],
            [
             0.6666666666666666,
             "#ed7953"
            ],
            [
             0.7777777777777778,
             "#fb9f3a"
            ],
            [
             0.8888888888888888,
             "#fdca26"
            ],
            [
             1,
             "#f0f921"
            ]
           ]
          },
          "colorway": [
           "#636efa",
           "#EF553B",
           "#00cc96",
           "#ab63fa",
           "#FFA15A",
           "#19d3f3",
           "#FF6692",
           "#B6E880",
           "#FF97FF",
           "#FECB52"
          ],
          "font": {
           "color": "#2a3f5f"
          },
          "geo": {
           "bgcolor": "white",
           "lakecolor": "white",
           "landcolor": "#E5ECF6",
           "showlakes": true,
           "showland": true,
           "subunitcolor": "white"
          },
          "hoverlabel": {
           "align": "left"
          },
          "hovermode": "closest",
          "mapbox": {
           "style": "light"
          },
          "paper_bgcolor": "white",
          "plot_bgcolor": "#E5ECF6",
          "polar": {
           "angularaxis": {
            "gridcolor": "white",
            "linecolor": "white",
            "ticks": ""
           },
           "bgcolor": "#E5ECF6",
           "radialaxis": {
            "gridcolor": "white",
            "linecolor": "white",
            "ticks": ""
           }
          },
          "scene": {
           "xaxis": {
            "backgroundcolor": "#E5ECF6",
            "gridcolor": "white",
            "gridwidth": 2,
            "linecolor": "white",
            "showbackground": true,
            "ticks": "",
            "zerolinecolor": "white"
           },
           "yaxis": {
            "backgroundcolor": "#E5ECF6",
            "gridcolor": "white",
            "gridwidth": 2,
            "linecolor": "white",
            "showbackground": true,
            "ticks": "",
            "zerolinecolor": "white"
           },
           "zaxis": {
            "backgroundcolor": "#E5ECF6",
            "gridcolor": "white",
            "gridwidth": 2,
            "linecolor": "white",
            "showbackground": true,
            "ticks": "",
            "zerolinecolor": "white"
           }
          },
          "shapedefaults": {
           "line": {
            "color": "#2a3f5f"
           }
          },
          "ternary": {
           "aaxis": {
            "gridcolor": "white",
            "linecolor": "white",
            "ticks": ""
           },
           "baxis": {
            "gridcolor": "white",
            "linecolor": "white",
            "ticks": ""
           },
           "bgcolor": "#E5ECF6",
           "caxis": {
            "gridcolor": "white",
            "linecolor": "white",
            "ticks": ""
           }
          },
          "title": {
           "x": 0.05
          },
          "xaxis": {
           "automargin": true,
           "gridcolor": "white",
           "linecolor": "white",
           "ticks": "",
           "title": {
            "standoff": 15
           },
           "zerolinecolor": "white",
           "zerolinewidth": 2
          },
          "yaxis": {
           "automargin": true,
           "gridcolor": "white",
           "linecolor": "white",
           "ticks": "",
           "title": {
            "standoff": 15
           },
           "zerolinecolor": "white",
           "zerolinewidth": 2
          }
         }
        },
        "title": {
         "text": "Average Price Based on Type of Ride"
        },
        "xaxis": {
         "anchor": "y",
         "domain": [
          0,
          1
         ],
         "title": {
          "text": "Type of Ride"
         }
        },
        "yaxis": {
         "anchor": "x",
         "domain": [
          0,
          1
         ],
         "title": {
          "text": "Average Price"
         }
        }
       }
      },
      "text/html": [
       "<div>                            <div id=\"c890dc1d-8a1f-49a0-bf8d-fd08b2a46457\" class=\"plotly-graph-div\" style=\"height:525px; width:100%;\"></div>            <script type=\"text/javascript\">                require([\"plotly\"], function(Plotly) {                    window.PLOTLYENV=window.PLOTLYENV || {};                                    if (document.getElementById(\"c890dc1d-8a1f-49a0-bf8d-fd08b2a46457\")) {                    Plotly.newPlot(                        \"c890dc1d-8a1f-49a0-bf8d-fd08b2a46457\",                        [{\"alignmentgroup\": \"True\", \"hovertemplate\": \"type=Uber<br>Type of Ride=%{x}<br>price=%{y}<extra></extra>\", \"legendgroup\": \"Uber\", \"marker\": {\"color\": \"black\"}, \"name\": \"Uber\", \"offsetgroup\": \"Uber\", \"orientation\": \"v\", \"showlegend\": true, \"textposition\": \"auto\", \"type\": \"bar\", \"x\": [\"Black\", \"Black SUV\", \"UberPool\", \"UberX\", \"UberXL\", \"WAV\"], \"xaxis\": \"x\", \"y\": [20.523786187494327, 30.286763104399594, 8.752500408415168, 9.765074236758993, 15.678143603891389, 9.765019239146218], \"yaxis\": \"y\"}, {\"alignmentgroup\": \"True\", \"hovertemplate\": \"type=Lyft<br>Type of Ride=%{x}<br>price=%{y}<extra></extra>\", \"legendgroup\": \"Lyft\", \"marker\": {\"color\": \"rgb(255, 0, 191)\"}, \"name\": \"Lyft\", \"offsetgroup\": \"Lyft\", \"orientation\": \"v\", \"showlegend\": true, \"textposition\": \"auto\", \"type\": \"bar\", \"x\": [\"Lux\", \"Lux Black\", \"Lux Black XL\", \"Lyft\", \"Lyft XL\", \"Shared\"], \"xaxis\": \"x\", \"y\": [17.771240363033083, 23.062468039426175, 32.32408607397287, 9.610884746755147, 15.309362740314237, 6.029892842503855], \"yaxis\": \"y\"}],                        {\"barmode\": \"relative\", \"legend\": {\"title\": {\"text\": \"type\"}, \"tracegroupgap\": 0}, \"template\": {\"data\": {\"bar\": [{\"error_x\": {\"color\": \"#2a3f5f\"}, \"error_y\": {\"color\": \"#2a3f5f\"}, \"marker\": {\"line\": {\"color\": \"#E5ECF6\", \"width\": 0.5}}, \"type\": \"bar\"}], \"barpolar\": [{\"marker\": {\"line\": {\"color\": \"#E5ECF6\", \"width\": 0.5}}, \"type\": \"barpolar\"}], \"carpet\": [{\"aaxis\": {\"endlinecolor\": \"#2a3f5f\", \"gridcolor\": \"white\", \"linecolor\": \"white\", \"minorgridcolor\": \"white\", \"startlinecolor\": \"#2a3f5f\"}, \"baxis\": {\"endlinecolor\": \"#2a3f5f\", \"gridcolor\": \"white\", \"linecolor\": \"white\", \"minorgridcolor\": \"white\", \"startlinecolor\": \"#2a3f5f\"}, \"type\": \"carpet\"}], \"choropleth\": [{\"colorbar\": {\"outlinewidth\": 0, \"ticks\": \"\"}, \"type\": \"choropleth\"}], \"contour\": [{\"colorbar\": {\"outlinewidth\": 0, \"ticks\": \"\"}, \"colorscale\": [[0.0, \"#0d0887\"], [0.1111111111111111, \"#46039f\"], [0.2222222222222222, \"#7201a8\"], [0.3333333333333333, \"#9c179e\"], [0.4444444444444444, \"#bd3786\"], [0.5555555555555556, \"#d8576b\"], [0.6666666666666666, \"#ed7953\"], [0.7777777777777778, \"#fb9f3a\"], [0.8888888888888888, \"#fdca26\"], [1.0, \"#f0f921\"]], \"type\": \"contour\"}], \"contourcarpet\": [{\"colorbar\": {\"outlinewidth\": 0, \"ticks\": \"\"}, \"type\": \"contourcarpet\"}], \"heatmap\": [{\"colorbar\": {\"outlinewidth\": 0, \"ticks\": \"\"}, \"colorscale\": [[0.0, \"#0d0887\"], [0.1111111111111111, \"#46039f\"], [0.2222222222222222, \"#7201a8\"], [0.3333333333333333, \"#9c179e\"], [0.4444444444444444, \"#bd3786\"], [0.5555555555555556, \"#d8576b\"], [0.6666666666666666, \"#ed7953\"], [0.7777777777777778, \"#fb9f3a\"], [0.8888888888888888, \"#fdca26\"], [1.0, \"#f0f921\"]], \"type\": \"heatmap\"}], \"heatmapgl\": [{\"colorbar\": {\"outlinewidth\": 0, \"ticks\": \"\"}, \"colorscale\": [[0.0, \"#0d0887\"], [0.1111111111111111, \"#46039f\"], [0.2222222222222222, \"#7201a8\"], [0.3333333333333333, \"#9c179e\"], [0.4444444444444444, \"#bd3786\"], [0.5555555555555556, \"#d8576b\"], [0.6666666666666666, \"#ed7953\"], [0.7777777777777778, \"#fb9f3a\"], [0.8888888888888888, \"#fdca26\"], [1.0, \"#f0f921\"]], \"type\": \"heatmapgl\"}], \"histogram\": [{\"marker\": {\"colorbar\": {\"outlinewidth\": 0, \"ticks\": \"\"}}, \"type\": \"histogram\"}], \"histogram2d\": [{\"colorbar\": {\"outlinewidth\": 0, \"ticks\": \"\"}, \"colorscale\": [[0.0, \"#0d0887\"], [0.1111111111111111, \"#46039f\"], [0.2222222222222222, \"#7201a8\"], [0.3333333333333333, \"#9c179e\"], [0.4444444444444444, \"#bd3786\"], [0.5555555555555556, \"#d8576b\"], [0.6666666666666666, \"#ed7953\"], [0.7777777777777778, \"#fb9f3a\"], [0.8888888888888888, \"#fdca26\"], [1.0, \"#f0f921\"]], \"type\": \"histogram2d\"}], \"histogram2dcontour\": [{\"colorbar\": {\"outlinewidth\": 0, \"ticks\": \"\"}, \"colorscale\": [[0.0, \"#0d0887\"], [0.1111111111111111, \"#46039f\"], [0.2222222222222222, \"#7201a8\"], [0.3333333333333333, \"#9c179e\"], [0.4444444444444444, \"#bd3786\"], [0.5555555555555556, \"#d8576b\"], [0.6666666666666666, \"#ed7953\"], [0.7777777777777778, \"#fb9f3a\"], [0.8888888888888888, \"#fdca26\"], [1.0, \"#f0f921\"]], \"type\": \"histogram2dcontour\"}], \"mesh3d\": [{\"colorbar\": {\"outlinewidth\": 0, \"ticks\": \"\"}, \"type\": \"mesh3d\"}], \"parcoords\": [{\"line\": {\"colorbar\": {\"outlinewidth\": 0, \"ticks\": \"\"}}, \"type\": \"parcoords\"}], \"pie\": [{\"automargin\": true, \"type\": \"pie\"}], \"scatter\": [{\"marker\": {\"colorbar\": {\"outlinewidth\": 0, \"ticks\": \"\"}}, \"type\": \"scatter\"}], \"scatter3d\": [{\"line\": {\"colorbar\": {\"outlinewidth\": 0, \"ticks\": \"\"}}, \"marker\": {\"colorbar\": {\"outlinewidth\": 0, \"ticks\": \"\"}}, \"type\": \"scatter3d\"}], \"scattercarpet\": [{\"marker\": {\"colorbar\": {\"outlinewidth\": 0, \"ticks\": \"\"}}, \"type\": \"scattercarpet\"}], \"scattergeo\": [{\"marker\": {\"colorbar\": {\"outlinewidth\": 0, \"ticks\": \"\"}}, \"type\": \"scattergeo\"}], \"scattergl\": [{\"marker\": {\"colorbar\": {\"outlinewidth\": 0, \"ticks\": \"\"}}, \"type\": \"scattergl\"}], \"scattermapbox\": [{\"marker\": {\"colorbar\": {\"outlinewidth\": 0, \"ticks\": \"\"}}, \"type\": \"scattermapbox\"}], \"scatterpolar\": [{\"marker\": {\"colorbar\": {\"outlinewidth\": 0, \"ticks\": \"\"}}, \"type\": \"scatterpolar\"}], \"scatterpolargl\": [{\"marker\": {\"colorbar\": {\"outlinewidth\": 0, \"ticks\": \"\"}}, \"type\": \"scatterpolargl\"}], \"scatterternary\": [{\"marker\": {\"colorbar\": {\"outlinewidth\": 0, \"ticks\": \"\"}}, \"type\": \"scatterternary\"}], \"surface\": [{\"colorbar\": {\"outlinewidth\": 0, \"ticks\": \"\"}, \"colorscale\": [[0.0, \"#0d0887\"], [0.1111111111111111, \"#46039f\"], [0.2222222222222222, \"#7201a8\"], [0.3333333333333333, \"#9c179e\"], [0.4444444444444444, \"#bd3786\"], [0.5555555555555556, \"#d8576b\"], [0.6666666666666666, \"#ed7953\"], [0.7777777777777778, \"#fb9f3a\"], [0.8888888888888888, \"#fdca26\"], [1.0, \"#f0f921\"]], \"type\": \"surface\"}], \"table\": [{\"cells\": {\"fill\": {\"color\": \"#EBF0F8\"}, \"line\": {\"color\": \"white\"}}, \"header\": {\"fill\": {\"color\": \"#C8D4E3\"}, \"line\": {\"color\": \"white\"}}, \"type\": \"table\"}]}, \"layout\": {\"annotationdefaults\": {\"arrowcolor\": \"#2a3f5f\", \"arrowhead\": 0, \"arrowwidth\": 1}, \"coloraxis\": {\"colorbar\": {\"outlinewidth\": 0, \"ticks\": \"\"}}, \"colorscale\": {\"diverging\": [[0, \"#8e0152\"], [0.1, \"#c51b7d\"], [0.2, \"#de77ae\"], [0.3, \"#f1b6da\"], [0.4, \"#fde0ef\"], [0.5, \"#f7f7f7\"], [0.6, \"#e6f5d0\"], [0.7, \"#b8e186\"], [0.8, \"#7fbc41\"], [0.9, \"#4d9221\"], [1, \"#276419\"]], \"sequential\": [[0.0, \"#0d0887\"], [0.1111111111111111, \"#46039f\"], [0.2222222222222222, \"#7201a8\"], [0.3333333333333333, \"#9c179e\"], [0.4444444444444444, \"#bd3786\"], [0.5555555555555556, \"#d8576b\"], [0.6666666666666666, \"#ed7953\"], [0.7777777777777778, \"#fb9f3a\"], [0.8888888888888888, \"#fdca26\"], [1.0, \"#f0f921\"]], \"sequentialminus\": [[0.0, \"#0d0887\"], [0.1111111111111111, \"#46039f\"], [0.2222222222222222, \"#7201a8\"], [0.3333333333333333, \"#9c179e\"], [0.4444444444444444, \"#bd3786\"], [0.5555555555555556, \"#d8576b\"], [0.6666666666666666, \"#ed7953\"], [0.7777777777777778, \"#fb9f3a\"], [0.8888888888888888, \"#fdca26\"], [1.0, \"#f0f921\"]]}, \"colorway\": [\"#636efa\", \"#EF553B\", \"#00cc96\", \"#ab63fa\", \"#FFA15A\", \"#19d3f3\", \"#FF6692\", \"#B6E880\", \"#FF97FF\", \"#FECB52\"], \"font\": {\"color\": \"#2a3f5f\"}, \"geo\": {\"bgcolor\": \"white\", \"lakecolor\": \"white\", \"landcolor\": \"#E5ECF6\", \"showlakes\": true, \"showland\": true, \"subunitcolor\": \"white\"}, \"hoverlabel\": {\"align\": \"left\"}, \"hovermode\": \"closest\", \"mapbox\": {\"style\": \"light\"}, \"paper_bgcolor\": \"white\", \"plot_bgcolor\": \"#E5ECF6\", \"polar\": {\"angularaxis\": {\"gridcolor\": \"white\", \"linecolor\": \"white\", \"ticks\": \"\"}, \"bgcolor\": \"#E5ECF6\", \"radialaxis\": {\"gridcolor\": \"white\", \"linecolor\": \"white\", \"ticks\": \"\"}}, \"scene\": {\"xaxis\": {\"backgroundcolor\": \"#E5ECF6\", \"gridcolor\": \"white\", \"gridwidth\": 2, \"linecolor\": \"white\", \"showbackground\": true, \"ticks\": \"\", \"zerolinecolor\": \"white\"}, \"yaxis\": {\"backgroundcolor\": \"#E5ECF6\", \"gridcolor\": \"white\", \"gridwidth\": 2, \"linecolor\": \"white\", \"showbackground\": true, \"ticks\": \"\", \"zerolinecolor\": \"white\"}, \"zaxis\": {\"backgroundcolor\": \"#E5ECF6\", \"gridcolor\": \"white\", \"gridwidth\": 2, \"linecolor\": \"white\", \"showbackground\": true, \"ticks\": \"\", \"zerolinecolor\": \"white\"}}, \"shapedefaults\": {\"line\": {\"color\": \"#2a3f5f\"}}, \"ternary\": {\"aaxis\": {\"gridcolor\": \"white\", \"linecolor\": \"white\", \"ticks\": \"\"}, \"baxis\": {\"gridcolor\": \"white\", \"linecolor\": \"white\", \"ticks\": \"\"}, \"bgcolor\": \"#E5ECF6\", \"caxis\": {\"gridcolor\": \"white\", \"linecolor\": \"white\", \"ticks\": \"\"}}, \"title\": {\"x\": 0.05}, \"xaxis\": {\"automargin\": true, \"gridcolor\": \"white\", \"linecolor\": \"white\", \"ticks\": \"\", \"title\": {\"standoff\": 15}, \"zerolinecolor\": \"white\", \"zerolinewidth\": 2}, \"yaxis\": {\"automargin\": true, \"gridcolor\": \"white\", \"linecolor\": \"white\", \"ticks\": \"\", \"title\": {\"standoff\": 15}, \"zerolinecolor\": \"white\", \"zerolinewidth\": 2}}}, \"title\": {\"text\": \"Average Price Based on Type of Ride\"}, \"xaxis\": {\"anchor\": \"y\", \"domain\": [0.0, 1.0], \"title\": {\"text\": \"Type of Ride\"}}, \"yaxis\": {\"anchor\": \"x\", \"domain\": [0.0, 1.0], \"title\": {\"text\": \"Average Price\"}}},                        {\"responsive\": true}                    ).then(function(){\n",
       "                            \n",
       "var gd = document.getElementById('c890dc1d-8a1f-49a0-bf8d-fd08b2a46457');\n",
       "var x = new MutationObserver(function (mutations, observer) {{\n",
       "        var display = window.getComputedStyle(gd).display;\n",
       "        if (!display || display === 'none') {{\n",
       "            console.log([gd, 'removed!']);\n",
       "            Plotly.purge(gd);\n",
       "            observer.disconnect();\n",
       "        }}\n",
       "}});\n",
       "\n",
       "// Listen for the removal of the full notebook cells\n",
       "var notebookContainer = gd.closest('#notebook-container');\n",
       "if (notebookContainer) {{\n",
       "    x.observe(notebookContainer, {childList: true});\n",
       "}}\n",
       "\n",
       "// Listen for the clearing of the current output cell\n",
       "var outputEl = gd.closest('.output');\n",
       "if (outputEl) {{\n",
       "    x.observe(outputEl, {childList: true});\n",
       "}}\n",
       "\n",
       "                        })                };                });            </script>        </div>"
      ]
     },
     "metadata": {
      "tags": []
     },
     "output_type": "display_data"
    }
   ],
   "source": [
    "# creates a dataframe that is grouped by the \"name\" or service provided by each of the rideshare providers\n",
    "# services are defined as Black, Black SUV, UberPool, UberXL, Lux, Lux Black, etc.\n",
    "name_df = modified_ride_share_df.groupby([\"name\"]).mean()\n",
    "\n",
    "# created to map the different ride \"names\" to the company which provides these services\n",
    "name_df[\"type\"] = [\"Uber\", \"Uber\", \"Lyft\", \"Lyft\", \"Lyft\", \"Lyft\", \"Lyft\", \"Lyft\", \"Uber\", \"Uber\", \"Uber\", \"Uber\"]\n",
    "\n",
    "# a bar plot that displays the different services (types of rides) provided by Uber and Lyft\n",
    "# and displays their average prices. The graph is color-coded by the company providing the services\n",
    "fig = px.bar(name_df, x=name_df.index, y=\"price\", title=\"Average Price Based on Type of Ride\", color=\"type\", \n",
    "             color_discrete_sequence = [\"black\", \"rgb(255, 0, 191)\"], labels= {\"name\" : \"Type of Ride\"})\n",
    "\n",
    "fig.update_yaxes(title=\"Average Price\")\n",
    "\n",
    "fig.show()"
   ]
  },
  {
   "cell_type": "markdown",
   "metadata": {
    "id": "NsjnHG-IlqCw"
   },
   "source": [
    "<center><img src = https://raw.githubusercontent.com/aneesh1/ds3000project/main/apbotor2.png width=1000></center>"
   ]
  },
  {
   "cell_type": "markdown",
   "metadata": {
    "id": "Bicq35KElqCx"
   },
   "source": [
    "### Figure 2: Average Price by Type of Ride\n",
    "\n",
    "This bar plot was intended to show how the average price varies not only across Uber and Lyft, but also\n",
    "across the type of rides within each rideshare provider. It can be seen from the graph that the most expensive\n",
    "rides in both providers is the premium SUV option. In Uber, this is the \"Black SUV\" option and in Lyft this is the\n",
    "\"Lux Black XL\" option. This graphic allows viewers to understand the price breakdowns within each provider. This graph showed that similar services provided by the rideshare services were relatively the same. For example, UberXL and LyftXL had roughly the same average price. UberX and Lyft also had average prices that were very similar.  "
   ]
  },
  {
   "cell_type": "markdown",
   "metadata": {
    "id": "4Ce-90sLlqCx"
   },
   "source": [
    "Constructing a dictionary to be converted into a heatmap that would show the number of rides from a particular location at a certain time.  "
   ]
  },
  {
   "cell_type": "code",
   "execution_count": null,
   "metadata": {
    "id": "OW1_C_PzlqCx",
    "outputId": "bdaa7a7f-26c0-4da2-f4f1-82f62d2f0853"
   },
   "outputs": [
    {
     "data": {
      "application/vnd.plotly.v1+json": {
       "config": {
        "plotlyServerURL": "https://plot.ly"
       },
       "data": [
        {
         "coloraxis": "coloraxis",
         "hovertemplate": "Hour: %{x}<br>Source Location: %{y}<br>Number of Trips: %{z}<extra></extra>",
         "type": "heatmap",
         "x": [
          0,
          1,
          2,
          3,
          4,
          5,
          6,
          7,
          8,
          9,
          10,
          11,
          12,
          13,
          14,
          15,
          16,
          17,
          18,
          19,
          20,
          21,
          22,
          23
         ],
         "y": [
          "Financial District",
          "Back Bay",
          "Theatre District",
          "Boston University",
          "North End",
          "Fenway",
          "Northeastern University",
          "South Station",
          "Haymarket Square",
          "West End",
          "Beacon Hill",
          "North Station"
         ],
         "z": [
          [
           2532,
           2178,
           2294,
           2032,
           2231,
           1994,
           2099,
           1932,
           1919,
           2363,
           2444,
           2241,
           2330,
           2385,
           2494,
           2305,
           2350,
           2431,
           2295,
           2231,
           2180,
           2231,
           2157,
           2549
          ],
          [
           2525,
           2221,
           2164,
           2093,
           2160,
           1888,
           2164,
           1942,
           2019,
           2182,
           2157,
           2397,
           2301,
           2477,
           2194,
           2397,
           2286,
           2309,
           2456,
           2063,
           2042,
           2083,
           2168,
           2513
          ],
          [
           2463,
           2084,
           2135,
           2177,
           2310,
           1988,
           2050,
           1941,
           1881,
           2153,
           2375,
           2384,
           2409,
           2247,
           2137,
           2295,
           2405,
           2240,
           2487,
           2034,
           2024,
           2245,
           2303,
           2434
          ],
          [
           2582,
           2252,
           2290,
           2192,
           2205,
           1900,
           2008,
           1923,
           1759,
           2228,
           2327,
           2220,
           2383,
           2219,
           2414,
           2379,
           2340,
           2367,
           2317,
           2141,
           2097,
           2012,
           2190,
           2427
          ],
          [
           2548,
           2193,
           2182,
           2110,
           2168,
           1839,
           2081,
           1961,
           1817,
           2114,
           2471,
           2348,
           2458,
           2413,
           2246,
           2183,
           2271,
           2468,
           2251,
           2148,
           2097,
           2123,
           2263,
           2418
          ],
          [
           2438,
           2107,
           2166,
           1997,
           2281,
           1889,
           2170,
           1883,
           1923,
           2118,
           2336,
           2237,
           2266,
           2297,
           2387,
           2250,
           2358,
           2428,
           2315,
           2180,
           2043,
           2214,
           2368,
           2515
          ],
          [
           2388,
           2264,
           2174,
           2158,
           2083,
           1926,
           2085,
           1776,
           1925,
           2299,
           2282,
           2225,
           2337,
           2359,
           2338,
           2397,
           2332,
           2364,
           2335,
           2166,
           2180,
           2096,
           2404,
           2271
          ],
          [
           2389,
           2178,
           2188,
           2230,
           2119,
           1797,
           2289,
           1715,
           1868,
           2237,
           2260,
           2489,
           2341,
           2247,
           2359,
           2291,
           2363,
           2344,
           2395,
           2174,
           2043,
           2078,
           2245,
           2521
          ],
          [
           2477,
           2177,
           2244,
           2184,
           2090,
           2077,
           2111,
           2079,
           1769,
           2125,
           2297,
           2364,
           2312,
           2462,
           2366,
           2399,
           2448,
           2261,
           2267,
           2103,
           1955,
           2040,
           2144,
           2396
          ],
          [
           2537,
           2327,
           2203,
           2026,
           2086,
           1954,
           2144,
           1888,
           1781,
           2212,
           2262,
           2392,
           2371,
           2222,
           2369,
           2306,
           2295,
           2332,
           2175,
           2152,
           2001,
           2251,
           2296,
           2398
          ],
          [
           2472,
           2223,
           2233,
           2243,
           2229,
           1927,
           1996,
           1900,
           1886,
           2416,
           2300,
           2327,
           2276,
           2328,
           2424,
           2307,
           2173,
           2164,
           2298,
           1983,
           1889,
           2138,
           2284,
           2425
          ],
          [
           2521,
           2106,
           2050,
           2088,
           2163,
           1816,
           1950,
           1990,
           1790,
           2226,
           2407,
           2322,
           2233,
           2321,
           2248,
           2359,
           2351,
           2367,
           2367,
           2035,
           2069,
           2038,
           2271,
           2488
          ]
         ]
        }
       ],
       "layout": {
        "coloraxis": {
         "colorbar": {
          "title": {
           "text": "Number of Trips"
          }
         },
         "colorscale": [
          [
           0,
           "#0d0887"
          ],
          [
           0.1111111111111111,
           "#46039f"
          ],
          [
           0.2222222222222222,
           "#7201a8"
          ],
          [
           0.3333333333333333,
           "#9c179e"
          ],
          [
           0.4444444444444444,
           "#bd3786"
          ],
          [
           0.5555555555555556,
           "#d8576b"
          ],
          [
           0.6666666666666666,
           "#ed7953"
          ],
          [
           0.7777777777777778,
           "#fb9f3a"
          ],
          [
           0.8888888888888888,
           "#fdca26"
          ],
          [
           1,
           "#f0f921"
          ]
         ]
        },
        "template": {
         "data": {
          "bar": [
           {
            "error_x": {
             "color": "#2a3f5f"
            },
            "error_y": {
             "color": "#2a3f5f"
            },
            "marker": {
             "line": {
              "color": "#E5ECF6",
              "width": 0.5
             }
            },
            "type": "bar"
           }
          ],
          "barpolar": [
           {
            "marker": {
             "line": {
              "color": "#E5ECF6",
              "width": 0.5
             }
            },
            "type": "barpolar"
           }
          ],
          "carpet": [
           {
            "aaxis": {
             "endlinecolor": "#2a3f5f",
             "gridcolor": "white",
             "linecolor": "white",
             "minorgridcolor": "white",
             "startlinecolor": "#2a3f5f"
            },
            "baxis": {
             "endlinecolor": "#2a3f5f",
             "gridcolor": "white",
             "linecolor": "white",
             "minorgridcolor": "white",
             "startlinecolor": "#2a3f5f"
            },
            "type": "carpet"
           }
          ],
          "choropleth": [
           {
            "colorbar": {
             "outlinewidth": 0,
             "ticks": ""
            },
            "type": "choropleth"
           }
          ],
          "contour": [
           {
            "colorbar": {
             "outlinewidth": 0,
             "ticks": ""
            },
            "colorscale": [
             [
              0,
              "#0d0887"
             ],
             [
              0.1111111111111111,
              "#46039f"
             ],
             [
              0.2222222222222222,
              "#7201a8"
             ],
             [
              0.3333333333333333,
              "#9c179e"
             ],
             [
              0.4444444444444444,
              "#bd3786"
             ],
             [
              0.5555555555555556,
              "#d8576b"
             ],
             [
              0.6666666666666666,
              "#ed7953"
             ],
             [
              0.7777777777777778,
              "#fb9f3a"
             ],
             [
              0.8888888888888888,
              "#fdca26"
             ],
             [
              1,
              "#f0f921"
             ]
            ],
            "type": "contour"
           }
          ],
          "contourcarpet": [
           {
            "colorbar": {
             "outlinewidth": 0,
             "ticks": ""
            },
            "type": "contourcarpet"
           }
          ],
          "heatmap": [
           {
            "colorbar": {
             "outlinewidth": 0,
             "ticks": ""
            },
            "colorscale": [
             [
              0,
              "#0d0887"
             ],
             [
              0.1111111111111111,
              "#46039f"
             ],
             [
              0.2222222222222222,
              "#7201a8"
             ],
             [
              0.3333333333333333,
              "#9c179e"
             ],
             [
              0.4444444444444444,
              "#bd3786"
             ],
             [
              0.5555555555555556,
              "#d8576b"
             ],
             [
              0.6666666666666666,
              "#ed7953"
             ],
             [
              0.7777777777777778,
              "#fb9f3a"
             ],
             [
              0.8888888888888888,
              "#fdca26"
             ],
             [
              1,
              "#f0f921"
             ]
            ],
            "type": "heatmap"
           }
          ],
          "heatmapgl": [
           {
            "colorbar": {
             "outlinewidth": 0,
             "ticks": ""
            },
            "colorscale": [
             [
              0,
              "#0d0887"
             ],
             [
              0.1111111111111111,
              "#46039f"
             ],
             [
              0.2222222222222222,
              "#7201a8"
             ],
             [
              0.3333333333333333,
              "#9c179e"
             ],
             [
              0.4444444444444444,
              "#bd3786"
             ],
             [
              0.5555555555555556,
              "#d8576b"
             ],
             [
              0.6666666666666666,
              "#ed7953"
             ],
             [
              0.7777777777777778,
              "#fb9f3a"
             ],
             [
              0.8888888888888888,
              "#fdca26"
             ],
             [
              1,
              "#f0f921"
             ]
            ],
            "type": "heatmapgl"
           }
          ],
          "histogram": [
           {
            "marker": {
             "colorbar": {
              "outlinewidth": 0,
              "ticks": ""
             }
            },
            "type": "histogram"
           }
          ],
          "histogram2d": [
           {
            "colorbar": {
             "outlinewidth": 0,
             "ticks": ""
            },
            "colorscale": [
             [
              0,
              "#0d0887"
             ],
             [
              0.1111111111111111,
              "#46039f"
             ],
             [
              0.2222222222222222,
              "#7201a8"
             ],
             [
              0.3333333333333333,
              "#9c179e"
             ],
             [
              0.4444444444444444,
              "#bd3786"
             ],
             [
              0.5555555555555556,
              "#d8576b"
             ],
             [
              0.6666666666666666,
              "#ed7953"
             ],
             [
              0.7777777777777778,
              "#fb9f3a"
             ],
             [
              0.8888888888888888,
              "#fdca26"
             ],
             [
              1,
              "#f0f921"
             ]
            ],
            "type": "histogram2d"
           }
          ],
          "histogram2dcontour": [
           {
            "colorbar": {
             "outlinewidth": 0,
             "ticks": ""
            },
            "colorscale": [
             [
              0,
              "#0d0887"
             ],
             [
              0.1111111111111111,
              "#46039f"
             ],
             [
              0.2222222222222222,
              "#7201a8"
             ],
             [
              0.3333333333333333,
              "#9c179e"
             ],
             [
              0.4444444444444444,
              "#bd3786"
             ],
             [
              0.5555555555555556,
              "#d8576b"
             ],
             [
              0.6666666666666666,
              "#ed7953"
             ],
             [
              0.7777777777777778,
              "#fb9f3a"
             ],
             [
              0.8888888888888888,
              "#fdca26"
             ],
             [
              1,
              "#f0f921"
             ]
            ],
            "type": "histogram2dcontour"
           }
          ],
          "mesh3d": [
           {
            "colorbar": {
             "outlinewidth": 0,
             "ticks": ""
            },
            "type": "mesh3d"
           }
          ],
          "parcoords": [
           {
            "line": {
             "colorbar": {
              "outlinewidth": 0,
              "ticks": ""
             }
            },
            "type": "parcoords"
           }
          ],
          "pie": [
           {
            "automargin": true,
            "type": "pie"
           }
          ],
          "scatter": [
           {
            "marker": {
             "colorbar": {
              "outlinewidth": 0,
              "ticks": ""
             }
            },
            "type": "scatter"
           }
          ],
          "scatter3d": [
           {
            "line": {
             "colorbar": {
              "outlinewidth": 0,
              "ticks": ""
             }
            },
            "marker": {
             "colorbar": {
              "outlinewidth": 0,
              "ticks": ""
             }
            },
            "type": "scatter3d"
           }
          ],
          "scattercarpet": [
           {
            "marker": {
             "colorbar": {
              "outlinewidth": 0,
              "ticks": ""
             }
            },
            "type": "scattercarpet"
           }
          ],
          "scattergeo": [
           {
            "marker": {
             "colorbar": {
              "outlinewidth": 0,
              "ticks": ""
             }
            },
            "type": "scattergeo"
           }
          ],
          "scattergl": [
           {
            "marker": {
             "colorbar": {
              "outlinewidth": 0,
              "ticks": ""
             }
            },
            "type": "scattergl"
           }
          ],
          "scattermapbox": [
           {
            "marker": {
             "colorbar": {
              "outlinewidth": 0,
              "ticks": ""
             }
            },
            "type": "scattermapbox"
           }
          ],
          "scatterpolar": [
           {
            "marker": {
             "colorbar": {
              "outlinewidth": 0,
              "ticks": ""
             }
            },
            "type": "scatterpolar"
           }
          ],
          "scatterpolargl": [
           {
            "marker": {
             "colorbar": {
              "outlinewidth": 0,
              "ticks": ""
             }
            },
            "type": "scatterpolargl"
           }
          ],
          "scatterternary": [
           {
            "marker": {
             "colorbar": {
              "outlinewidth": 0,
              "ticks": ""
             }
            },
            "type": "scatterternary"
           }
          ],
          "surface": [
           {
            "colorbar": {
             "outlinewidth": 0,
             "ticks": ""
            },
            "colorscale": [
             [
              0,
              "#0d0887"
             ],
             [
              0.1111111111111111,
              "#46039f"
             ],
             [
              0.2222222222222222,
              "#7201a8"
             ],
             [
              0.3333333333333333,
              "#9c179e"
             ],
             [
              0.4444444444444444,
              "#bd3786"
             ],
             [
              0.5555555555555556,
              "#d8576b"
             ],
             [
              0.6666666666666666,
              "#ed7953"
             ],
             [
              0.7777777777777778,
              "#fb9f3a"
             ],
             [
              0.8888888888888888,
              "#fdca26"
             ],
             [
              1,
              "#f0f921"
             ]
            ],
            "type": "surface"
           }
          ],
          "table": [
           {
            "cells": {
             "fill": {
              "color": "#EBF0F8"
             },
             "line": {
              "color": "white"
             }
            },
            "header": {
             "fill": {
              "color": "#C8D4E3"
             },
             "line": {
              "color": "white"
             }
            },
            "type": "table"
           }
          ]
         },
         "layout": {
          "annotationdefaults": {
           "arrowcolor": "#2a3f5f",
           "arrowhead": 0,
           "arrowwidth": 1
          },
          "coloraxis": {
           "colorbar": {
            "outlinewidth": 0,
            "ticks": ""
           }
          },
          "colorscale": {
           "diverging": [
            [
             0,
             "#8e0152"
            ],
            [
             0.1,
             "#c51b7d"
            ],
            [
             0.2,
             "#de77ae"
            ],
            [
             0.3,
             "#f1b6da"
            ],
            [
             0.4,
             "#fde0ef"
            ],
            [
             0.5,
             "#f7f7f7"
            ],
            [
             0.6,
             "#e6f5d0"
            ],
            [
             0.7,
             "#b8e186"
            ],
            [
             0.8,
             "#7fbc41"
            ],
            [
             0.9,
             "#4d9221"
            ],
            [
             1,
             "#276419"
            ]
           ],
           "sequential": [
            [
             0,
             "#0d0887"
            ],
            [
             0.1111111111111111,
             "#46039f"
            ],
            [
             0.2222222222222222,
             "#7201a8"
            ],
            [
             0.3333333333333333,
             "#9c179e"
            ],
            [
             0.4444444444444444,
             "#bd3786"
            ],
            [
             0.5555555555555556,
             "#d8576b"
            ],
            [
             0.6666666666666666,
             "#ed7953"
            ],
            [
             0.7777777777777778,
             "#fb9f3a"
            ],
            [
             0.8888888888888888,
             "#fdca26"
            ],
            [
             1,
             "#f0f921"
            ]
           ],
           "sequentialminus": [
            [
             0,
             "#0d0887"
            ],
            [
             0.1111111111111111,
             "#46039f"
            ],
            [
             0.2222222222222222,
             "#7201a8"
            ],
            [
             0.3333333333333333,
             "#9c179e"
            ],
            [
             0.4444444444444444,
             "#bd3786"
            ],
            [
             0.5555555555555556,
             "#d8576b"
            ],
            [
             0.6666666666666666,
             "#ed7953"
            ],
            [
             0.7777777777777778,
             "#fb9f3a"
            ],
            [
             0.8888888888888888,
             "#fdca26"
            ],
            [
             1,
             "#f0f921"
            ]
           ]
          },
          "colorway": [
           "#636efa",
           "#EF553B",
           "#00cc96",
           "#ab63fa",
           "#FFA15A",
           "#19d3f3",
           "#FF6692",
           "#B6E880",
           "#FF97FF",
           "#FECB52"
          ],
          "font": {
           "color": "#2a3f5f"
          },
          "geo": {
           "bgcolor": "white",
           "lakecolor": "white",
           "landcolor": "#E5ECF6",
           "showlakes": true,
           "showland": true,
           "subunitcolor": "white"
          },
          "hoverlabel": {
           "align": "left"
          },
          "hovermode": "closest",
          "mapbox": {
           "style": "light"
          },
          "paper_bgcolor": "white",
          "plot_bgcolor": "#E5ECF6",
          "polar": {
           "angularaxis": {
            "gridcolor": "white",
            "linecolor": "white",
            "ticks": ""
           },
           "bgcolor": "#E5ECF6",
           "radialaxis": {
            "gridcolor": "white",
            "linecolor": "white",
            "ticks": ""
           }
          },
          "scene": {
           "xaxis": {
            "backgroundcolor": "#E5ECF6",
            "gridcolor": "white",
            "gridwidth": 2,
            "linecolor": "white",
            "showbackground": true,
            "ticks": "",
            "zerolinecolor": "white"
           },
           "yaxis": {
            "backgroundcolor": "#E5ECF6",
            "gridcolor": "white",
            "gridwidth": 2,
            "linecolor": "white",
            "showbackground": true,
            "ticks": "",
            "zerolinecolor": "white"
           },
           "zaxis": {
            "backgroundcolor": "#E5ECF6",
            "gridcolor": "white",
            "gridwidth": 2,
            "linecolor": "white",
            "showbackground": true,
            "ticks": "",
            "zerolinecolor": "white"
           }
          },
          "shapedefaults": {
           "line": {
            "color": "#2a3f5f"
           }
          },
          "ternary": {
           "aaxis": {
            "gridcolor": "white",
            "linecolor": "white",
            "ticks": ""
           },
           "baxis": {
            "gridcolor": "white",
            "linecolor": "white",
            "ticks": ""
           },
           "bgcolor": "#E5ECF6",
           "caxis": {
            "gridcolor": "white",
            "linecolor": "white",
            "ticks": ""
           }
          },
          "title": {
           "x": 0.05
          },
          "xaxis": {
           "automargin": true,
           "gridcolor": "white",
           "linecolor": "white",
           "ticks": "",
           "title": {
            "standoff": 15
           },
           "zerolinecolor": "white",
           "zerolinewidth": 2
          },
          "yaxis": {
           "automargin": true,
           "gridcolor": "white",
           "linecolor": "white",
           "ticks": "",
           "title": {
            "standoff": 15
           },
           "zerolinecolor": "white",
           "zerolinewidth": 2
          }
         }
        },
        "title": {
         "text": "Heatmap for Number of Trips by Location by Hour"
        },
        "xaxis": {
         "constrain": "domain",
         "scaleanchor": "y",
         "title": {
          "text": "Hour"
         }
        },
        "yaxis": {
         "autorange": "reversed",
         "constrain": "domain",
         "title": {
          "text": "Source Location"
         }
        }
       }
      },
      "text/html": [
       "<div>                            <div id=\"d141bf4e-5c8b-4c4d-b3ce-25eb8d944274\" class=\"plotly-graph-div\" style=\"height:525px; width:100%;\"></div>            <script type=\"text/javascript\">                require([\"plotly\"], function(Plotly) {                    window.PLOTLYENV=window.PLOTLYENV || {};                                    if (document.getElementById(\"d141bf4e-5c8b-4c4d-b3ce-25eb8d944274\")) {                    Plotly.newPlot(                        \"d141bf4e-5c8b-4c4d-b3ce-25eb8d944274\",                        [{\"coloraxis\": \"coloraxis\", \"hovertemplate\": \"Hour: %{x}<br>Source Location: %{y}<br>Number of Trips: %{z}<extra></extra>\", \"type\": \"heatmap\", \"x\": [0, 1, 2, 3, 4, 5, 6, 7, 8, 9, 10, 11, 12, 13, 14, 15, 16, 17, 18, 19, 20, 21, 22, 23], \"y\": [\"Financial District\", \"Back Bay\", \"Theatre District\", \"Boston University\", \"North End\", \"Fenway\", \"Northeastern University\", \"South Station\", \"Haymarket Square\", \"West End\", \"Beacon Hill\", \"North Station\"], \"z\": [[2532, 2178, 2294, 2032, 2231, 1994, 2099, 1932, 1919, 2363, 2444, 2241, 2330, 2385, 2494, 2305, 2350, 2431, 2295, 2231, 2180, 2231, 2157, 2549], [2525, 2221, 2164, 2093, 2160, 1888, 2164, 1942, 2019, 2182, 2157, 2397, 2301, 2477, 2194, 2397, 2286, 2309, 2456, 2063, 2042, 2083, 2168, 2513], [2463, 2084, 2135, 2177, 2310, 1988, 2050, 1941, 1881, 2153, 2375, 2384, 2409, 2247, 2137, 2295, 2405, 2240, 2487, 2034, 2024, 2245, 2303, 2434], [2582, 2252, 2290, 2192, 2205, 1900, 2008, 1923, 1759, 2228, 2327, 2220, 2383, 2219, 2414, 2379, 2340, 2367, 2317, 2141, 2097, 2012, 2190, 2427], [2548, 2193, 2182, 2110, 2168, 1839, 2081, 1961, 1817, 2114, 2471, 2348, 2458, 2413, 2246, 2183, 2271, 2468, 2251, 2148, 2097, 2123, 2263, 2418], [2438, 2107, 2166, 1997, 2281, 1889, 2170, 1883, 1923, 2118, 2336, 2237, 2266, 2297, 2387, 2250, 2358, 2428, 2315, 2180, 2043, 2214, 2368, 2515], [2388, 2264, 2174, 2158, 2083, 1926, 2085, 1776, 1925, 2299, 2282, 2225, 2337, 2359, 2338, 2397, 2332, 2364, 2335, 2166, 2180, 2096, 2404, 2271], [2389, 2178, 2188, 2230, 2119, 1797, 2289, 1715, 1868, 2237, 2260, 2489, 2341, 2247, 2359, 2291, 2363, 2344, 2395, 2174, 2043, 2078, 2245, 2521], [2477, 2177, 2244, 2184, 2090, 2077, 2111, 2079, 1769, 2125, 2297, 2364, 2312, 2462, 2366, 2399, 2448, 2261, 2267, 2103, 1955, 2040, 2144, 2396], [2537, 2327, 2203, 2026, 2086, 1954, 2144, 1888, 1781, 2212, 2262, 2392, 2371, 2222, 2369, 2306, 2295, 2332, 2175, 2152, 2001, 2251, 2296, 2398], [2472, 2223, 2233, 2243, 2229, 1927, 1996, 1900, 1886, 2416, 2300, 2327, 2276, 2328, 2424, 2307, 2173, 2164, 2298, 1983, 1889, 2138, 2284, 2425], [2521, 2106, 2050, 2088, 2163, 1816, 1950, 1990, 1790, 2226, 2407, 2322, 2233, 2321, 2248, 2359, 2351, 2367, 2367, 2035, 2069, 2038, 2271, 2488]]}],                        {\"coloraxis\": {\"colorbar\": {\"title\": {\"text\": \"Number of Trips\"}}, \"colorscale\": [[0.0, \"#0d0887\"], [0.1111111111111111, \"#46039f\"], [0.2222222222222222, \"#7201a8\"], [0.3333333333333333, \"#9c179e\"], [0.4444444444444444, \"#bd3786\"], [0.5555555555555556, \"#d8576b\"], [0.6666666666666666, \"#ed7953\"], [0.7777777777777778, \"#fb9f3a\"], [0.8888888888888888, \"#fdca26\"], [1.0, \"#f0f921\"]]}, \"template\": {\"data\": {\"bar\": [{\"error_x\": {\"color\": \"#2a3f5f\"}, \"error_y\": {\"color\": \"#2a3f5f\"}, \"marker\": {\"line\": {\"color\": \"#E5ECF6\", \"width\": 0.5}}, \"type\": \"bar\"}], \"barpolar\": [{\"marker\": {\"line\": {\"color\": \"#E5ECF6\", \"width\": 0.5}}, \"type\": \"barpolar\"}], \"carpet\": [{\"aaxis\": {\"endlinecolor\": \"#2a3f5f\", \"gridcolor\": \"white\", \"linecolor\": \"white\", \"minorgridcolor\": \"white\", \"startlinecolor\": \"#2a3f5f\"}, \"baxis\": {\"endlinecolor\": \"#2a3f5f\", \"gridcolor\": \"white\", \"linecolor\": \"white\", \"minorgridcolor\": \"white\", \"startlinecolor\": \"#2a3f5f\"}, \"type\": \"carpet\"}], \"choropleth\": [{\"colorbar\": {\"outlinewidth\": 0, \"ticks\": \"\"}, \"type\": \"choropleth\"}], \"contour\": [{\"colorbar\": {\"outlinewidth\": 0, \"ticks\": \"\"}, \"colorscale\": [[0.0, \"#0d0887\"], [0.1111111111111111, \"#46039f\"], [0.2222222222222222, \"#7201a8\"], [0.3333333333333333, \"#9c179e\"], [0.4444444444444444, \"#bd3786\"], [0.5555555555555556, \"#d8576b\"], [0.6666666666666666, \"#ed7953\"], [0.7777777777777778, \"#fb9f3a\"], [0.8888888888888888, \"#fdca26\"], [1.0, \"#f0f921\"]], \"type\": \"contour\"}], \"contourcarpet\": [{\"colorbar\": {\"outlinewidth\": 0, \"ticks\": \"\"}, \"type\": \"contourcarpet\"}], \"heatmap\": [{\"colorbar\": {\"outlinewidth\": 0, \"ticks\": \"\"}, \"colorscale\": [[0.0, \"#0d0887\"], [0.1111111111111111, \"#46039f\"], [0.2222222222222222, \"#7201a8\"], [0.3333333333333333, \"#9c179e\"], [0.4444444444444444, \"#bd3786\"], [0.5555555555555556, \"#d8576b\"], [0.6666666666666666, \"#ed7953\"], [0.7777777777777778, \"#fb9f3a\"], [0.8888888888888888, \"#fdca26\"], [1.0, \"#f0f921\"]], \"type\": \"heatmap\"}], \"heatmapgl\": [{\"colorbar\": {\"outlinewidth\": 0, \"ticks\": \"\"}, \"colorscale\": [[0.0, \"#0d0887\"], [0.1111111111111111, \"#46039f\"], [0.2222222222222222, \"#7201a8\"], [0.3333333333333333, \"#9c179e\"], [0.4444444444444444, \"#bd3786\"], [0.5555555555555556, \"#d8576b\"], [0.6666666666666666, \"#ed7953\"], [0.7777777777777778, \"#fb9f3a\"], [0.8888888888888888, \"#fdca26\"], [1.0, \"#f0f921\"]], \"type\": \"heatmapgl\"}], \"histogram\": [{\"marker\": {\"colorbar\": {\"outlinewidth\": 0, \"ticks\": \"\"}}, \"type\": \"histogram\"}], \"histogram2d\": [{\"colorbar\": {\"outlinewidth\": 0, \"ticks\": \"\"}, \"colorscale\": [[0.0, \"#0d0887\"], [0.1111111111111111, \"#46039f\"], [0.2222222222222222, \"#7201a8\"], [0.3333333333333333, \"#9c179e\"], [0.4444444444444444, \"#bd3786\"], [0.5555555555555556, \"#d8576b\"], [0.6666666666666666, \"#ed7953\"], [0.7777777777777778, \"#fb9f3a\"], [0.8888888888888888, \"#fdca26\"], [1.0, \"#f0f921\"]], \"type\": \"histogram2d\"}], \"histogram2dcontour\": [{\"colorbar\": {\"outlinewidth\": 0, \"ticks\": \"\"}, \"colorscale\": [[0.0, \"#0d0887\"], [0.1111111111111111, \"#46039f\"], [0.2222222222222222, \"#7201a8\"], [0.3333333333333333, \"#9c179e\"], [0.4444444444444444, \"#bd3786\"], [0.5555555555555556, \"#d8576b\"], [0.6666666666666666, \"#ed7953\"], [0.7777777777777778, \"#fb9f3a\"], [0.8888888888888888, \"#fdca26\"], [1.0, \"#f0f921\"]], \"type\": \"histogram2dcontour\"}], \"mesh3d\": [{\"colorbar\": {\"outlinewidth\": 0, \"ticks\": \"\"}, \"type\": \"mesh3d\"}], \"parcoords\": [{\"line\": {\"colorbar\": {\"outlinewidth\": 0, \"ticks\": \"\"}}, \"type\": \"parcoords\"}], \"pie\": [{\"automargin\": true, \"type\": \"pie\"}], \"scatter\": [{\"marker\": {\"colorbar\": {\"outlinewidth\": 0, \"ticks\": \"\"}}, \"type\": \"scatter\"}], \"scatter3d\": [{\"line\": {\"colorbar\": {\"outlinewidth\": 0, \"ticks\": \"\"}}, \"marker\": {\"colorbar\": {\"outlinewidth\": 0, \"ticks\": \"\"}}, \"type\": \"scatter3d\"}], \"scattercarpet\": [{\"marker\": {\"colorbar\": {\"outlinewidth\": 0, \"ticks\": \"\"}}, \"type\": \"scattercarpet\"}], \"scattergeo\": [{\"marker\": {\"colorbar\": {\"outlinewidth\": 0, \"ticks\": \"\"}}, \"type\": \"scattergeo\"}], \"scattergl\": [{\"marker\": {\"colorbar\": {\"outlinewidth\": 0, \"ticks\": \"\"}}, \"type\": \"scattergl\"}], \"scattermapbox\": [{\"marker\": {\"colorbar\": {\"outlinewidth\": 0, \"ticks\": \"\"}}, \"type\": \"scattermapbox\"}], \"scatterpolar\": [{\"marker\": {\"colorbar\": {\"outlinewidth\": 0, \"ticks\": \"\"}}, \"type\": \"scatterpolar\"}], \"scatterpolargl\": [{\"marker\": {\"colorbar\": {\"outlinewidth\": 0, \"ticks\": \"\"}}, \"type\": \"scatterpolargl\"}], \"scatterternary\": [{\"marker\": {\"colorbar\": {\"outlinewidth\": 0, \"ticks\": \"\"}}, \"type\": \"scatterternary\"}], \"surface\": [{\"colorbar\": {\"outlinewidth\": 0, \"ticks\": \"\"}, \"colorscale\": [[0.0, \"#0d0887\"], [0.1111111111111111, \"#46039f\"], [0.2222222222222222, \"#7201a8\"], [0.3333333333333333, \"#9c179e\"], [0.4444444444444444, \"#bd3786\"], [0.5555555555555556, \"#d8576b\"], [0.6666666666666666, \"#ed7953\"], [0.7777777777777778, \"#fb9f3a\"], [0.8888888888888888, \"#fdca26\"], [1.0, \"#f0f921\"]], \"type\": \"surface\"}], \"table\": [{\"cells\": {\"fill\": {\"color\": \"#EBF0F8\"}, \"line\": {\"color\": \"white\"}}, \"header\": {\"fill\": {\"color\": \"#C8D4E3\"}, \"line\": {\"color\": \"white\"}}, \"type\": \"table\"}]}, \"layout\": {\"annotationdefaults\": {\"arrowcolor\": \"#2a3f5f\", \"arrowhead\": 0, \"arrowwidth\": 1}, \"coloraxis\": {\"colorbar\": {\"outlinewidth\": 0, \"ticks\": \"\"}}, \"colorscale\": {\"diverging\": [[0, \"#8e0152\"], [0.1, \"#c51b7d\"], [0.2, \"#de77ae\"], [0.3, \"#f1b6da\"], [0.4, \"#fde0ef\"], [0.5, \"#f7f7f7\"], [0.6, \"#e6f5d0\"], [0.7, \"#b8e186\"], [0.8, \"#7fbc41\"], [0.9, \"#4d9221\"], [1, \"#276419\"]], \"sequential\": [[0.0, \"#0d0887\"], [0.1111111111111111, \"#46039f\"], [0.2222222222222222, \"#7201a8\"], [0.3333333333333333, \"#9c179e\"], [0.4444444444444444, \"#bd3786\"], [0.5555555555555556, \"#d8576b\"], [0.6666666666666666, \"#ed7953\"], [0.7777777777777778, \"#fb9f3a\"], [0.8888888888888888, \"#fdca26\"], [1.0, \"#f0f921\"]], \"sequentialminus\": [[0.0, \"#0d0887\"], [0.1111111111111111, \"#46039f\"], [0.2222222222222222, \"#7201a8\"], [0.3333333333333333, \"#9c179e\"], [0.4444444444444444, \"#bd3786\"], [0.5555555555555556, \"#d8576b\"], [0.6666666666666666, \"#ed7953\"], [0.7777777777777778, \"#fb9f3a\"], [0.8888888888888888, \"#fdca26\"], [1.0, \"#f0f921\"]]}, \"colorway\": [\"#636efa\", \"#EF553B\", \"#00cc96\", \"#ab63fa\", \"#FFA15A\", \"#19d3f3\", \"#FF6692\", \"#B6E880\", \"#FF97FF\", \"#FECB52\"], \"font\": {\"color\": \"#2a3f5f\"}, \"geo\": {\"bgcolor\": \"white\", \"lakecolor\": \"white\", \"landcolor\": \"#E5ECF6\", \"showlakes\": true, \"showland\": true, \"subunitcolor\": \"white\"}, \"hoverlabel\": {\"align\": \"left\"}, \"hovermode\": \"closest\", \"mapbox\": {\"style\": \"light\"}, \"paper_bgcolor\": \"white\", \"plot_bgcolor\": \"#E5ECF6\", \"polar\": {\"angularaxis\": {\"gridcolor\": \"white\", \"linecolor\": \"white\", \"ticks\": \"\"}, \"bgcolor\": \"#E5ECF6\", \"radialaxis\": {\"gridcolor\": \"white\", \"linecolor\": \"white\", \"ticks\": \"\"}}, \"scene\": {\"xaxis\": {\"backgroundcolor\": \"#E5ECF6\", \"gridcolor\": \"white\", \"gridwidth\": 2, \"linecolor\": \"white\", \"showbackground\": true, \"ticks\": \"\", \"zerolinecolor\": \"white\"}, \"yaxis\": {\"backgroundcolor\": \"#E5ECF6\", \"gridcolor\": \"white\", \"gridwidth\": 2, \"linecolor\": \"white\", \"showbackground\": true, \"ticks\": \"\", \"zerolinecolor\": \"white\"}, \"zaxis\": {\"backgroundcolor\": \"#E5ECF6\", \"gridcolor\": \"white\", \"gridwidth\": 2, \"linecolor\": \"white\", \"showbackground\": true, \"ticks\": \"\", \"zerolinecolor\": \"white\"}}, \"shapedefaults\": {\"line\": {\"color\": \"#2a3f5f\"}}, \"ternary\": {\"aaxis\": {\"gridcolor\": \"white\", \"linecolor\": \"white\", \"ticks\": \"\"}, \"baxis\": {\"gridcolor\": \"white\", \"linecolor\": \"white\", \"ticks\": \"\"}, \"bgcolor\": \"#E5ECF6\", \"caxis\": {\"gridcolor\": \"white\", \"linecolor\": \"white\", \"ticks\": \"\"}}, \"title\": {\"x\": 0.05}, \"xaxis\": {\"automargin\": true, \"gridcolor\": \"white\", \"linecolor\": \"white\", \"ticks\": \"\", \"title\": {\"standoff\": 15}, \"zerolinecolor\": \"white\", \"zerolinewidth\": 2}, \"yaxis\": {\"automargin\": true, \"gridcolor\": \"white\", \"linecolor\": \"white\", \"ticks\": \"\", \"title\": {\"standoff\": 15}, \"zerolinecolor\": \"white\", \"zerolinewidth\": 2}}}, \"title\": {\"text\": \"Heatmap for Number of Trips by Location by Hour\"}, \"xaxis\": {\"constrain\": \"domain\", \"scaleanchor\": \"y\", \"title\": {\"text\": \"Hour\"}}, \"yaxis\": {\"autorange\": \"reversed\", \"constrain\": \"domain\", \"title\": {\"text\": \"Source Location\"}}},                        {\"responsive\": true}                    ).then(function(){\n",
       "                            \n",
       "var gd = document.getElementById('d141bf4e-5c8b-4c4d-b3ce-25eb8d944274');\n",
       "var x = new MutationObserver(function (mutations, observer) {{\n",
       "        var display = window.getComputedStyle(gd).display;\n",
       "        if (!display || display === 'none') {{\n",
       "            console.log([gd, 'removed!']);\n",
       "            Plotly.purge(gd);\n",
       "            observer.disconnect();\n",
       "        }}\n",
       "}});\n",
       "\n",
       "// Listen for the removal of the full notebook cells\n",
       "var notebookContainer = gd.closest('#notebook-container');\n",
       "if (notebookContainer) {{\n",
       "    x.observe(notebookContainer, {childList: true});\n",
       "}}\n",
       "\n",
       "// Listen for the clearing of the current output cell\n",
       "var outputEl = gd.closest('.output');\n",
       "if (outputEl) {{\n",
       "    x.observe(outputEl, {childList: true});\n",
       "}}\n",
       "\n",
       "                        })                };                });            </script>        </div>"
      ]
     },
     "metadata": {
      "tags": []
     },
     "output_type": "display_data"
    }
   ],
   "source": [
    "# looks only at the hours and the source locations in order \n",
    "# to create a heatmap with the number of rides at a particular hour\n",
    "# starting from a particular source\n",
    "heatmap_df = modified_ride_share_df[[\"hour\", \"source\"]]\n",
    "\n",
    "# dictionary in which the keys represent the hours, and each index in the list\n",
    "# represents how many rides are happening at a particular stations\n",
    "values = {}\n",
    "\n",
    "# maps the list indices for the above dictionary to specific locations\n",
    "locations = {}\n",
    "for i in range(0, 24):\n",
    "    values[i] = [0] * 12\n",
    "\n",
    "# creates the mappings for particular list indices to source locations\n",
    "counter = 0\n",
    "for i in heatmap_df[\"source\"].value_counts().index.to_list():\n",
    "    locations[i] = counter\n",
    "    counter += 1\n",
    "\n",
    "# goes through all of the rides and keeps track of which\n",
    "# hour the ride is in and updates the values dictionary accordingly\n",
    "counter = 0\n",
    "for row in heatmap_df.itertuples():\n",
    "    hour = row[1]\n",
    "    source = row[2]\n",
    "    values[hour][locations[source]] += 1\n",
    "\n",
    "# converts values into a dataframe\n",
    "to_show_df = pd.DataFrame.from_dict(values)\n",
    "\n",
    "# changes the indices of the dataframe to be the names of the source locations\n",
    "to_show_df.index = heatmap_df[\"source\"].value_counts().index.to_list()\n",
    "\n",
    "# creates a figure for the heatmap that shows the source locations and the number \n",
    "# of rides starting at these locations at particular hours\n",
    "fig = px.imshow(to_show_df, title=\"Heatmap for Number of Trips by Location by Hour\", \n",
    "                labels=dict(x=\"Hour\", y=\"Source Location\", color=\"Number of Trips\"))\n",
    "\n",
    "# updates the x-axes to read \"Hour\"\n",
    "fig.update_xaxes(title=\"Hour\")\n",
    "\n",
    "# updates the x-axes to read \"Source Location\"\n",
    "fig.update_yaxes(title=\"Source Location\")\n",
    "fig.show()"
   ]
  },
  {
   "cell_type": "markdown",
   "metadata": {
    "id": "BN2Ixb1flqCy"
   },
   "source": [
    "<center><img src = https://raw.githubusercontent.com/aneesh1/ds3000project/main/heatmap.png width=1000></center>"
   ]
  },
  {
   "cell_type": "markdown",
   "metadata": {
    "id": "gyB1lnKnlqCy"
   },
   "source": [
    "### Figure 3: Heatmap for Number of Trips by Location\n",
    "\n",
    "Unlike the previous two graphics, this one provided a 3-D representation of data. The three components represented by this graph were: the hour, the source location, and the number of rides originating from a particular source location at a particular hour. The main purpose of this graph was to see which locations were people leaving from at particular times in order to get an idea of which times would be highly trafficked. This graph shows how people travel within the city from a particular location at a particular time. For example, it can be seen that at hour 17, or 5 P.M. the number of trips from the Financial District was among the highest in that specific hour. It can also be observed that at hour 0, a lot of trips were originating from Boston University which is most likely a lot of students are up late being involved in a lot of extra-curricular activities.  "
   ]
  },
  {
   "cell_type": "markdown",
   "metadata": {
    "id": "0rD5SOjHlqCy"
   },
   "source": [
    "#### Model Construction: Hypothesis Test 1\n",
    "\n",
    "The purpose of this hypothesis test was to compare the price of an Uber Pool ride to a Lyft shared ride in order to determine if the difference between the two rides was statsitically significant. "
   ]
  },
  {
   "cell_type": "code",
   "execution_count": null,
   "metadata": {
    "id": "YQ6tzCg-lqCy",
    "outputId": "ad413fa8-65f3-4e31-acbd-d0287dd7b722"
   },
   "outputs": [
    {
     "name": "stdout",
     "output_type": "stream",
     "text": [
      "-----------------------\n",
      "Independent Samples T-test\n",
      "-----------------------\n",
      "\n",
      "Assumption Checks\n",
      "-------------------\n",
      "\n",
      "Assumption of Equality of Variances\n",
      "\tLeveneResult(statistic=387.04646997320197, pvalue=5.179236745067926e-86)\n",
      "\tAssumption is not met. p < .05\n",
      "\tIndependent Samples T-test cannot be conducted, so Mann-Whitney will be used instead.\n",
      "\n",
      "Assumption of Normality\n",
      "\tUber Prices Shapiro-Wilk's Test Results: (0.9095629453659058, 0.0)\n",
      "\t\tAssumption is not met. p < .05\n",
      "\t\tIndependent Samples T-test cannot be conducted, so Mann-Whitney will be used instead.\n",
      "\n",
      "\tLyft Prices Shapiro-Wilk's Test Results: (0.9007724523544312, 0.0)\n",
      "\t\tAssumption is not met. p < .05\n",
      "\t\tIndependent Samples T-test cannot be conducted, so Mann-Whitney will be used instead.\n",
      "\n",
      "UberPool: n=55091, M=8.752500408415168, SE=0.008973662859992694\n",
      "Shared (Lyft): n=51233, M=6.029892842503855, SE=0.009311937955354309\n",
      "\n",
      "-----------------------\n",
      "Mann-Whitney U-Test\n",
      "-----------------------\n",
      "\n",
      "\n",
      "Null Hypothesis: The probability of the price of one random sample from the Uber Pool\n",
      "data being greater than that of the Shared (Lyft) data is equal to 50%\n",
      "\n",
      "Alternate Hypothesis: The probability of the price of one random sample from the Uber Pool\n",
      "data being greater than that of the Shared (Lyft) data is not equal to 50%\n",
      "\n",
      "U=459827728.5, p=0.0\n",
      "\n",
      "Reject the null hypothesis because p < alpha=0.05\n"
     ]
    }
   ],
   "source": [
    "from scipy import stats\n",
    "\n",
    "# gets the price of Uber Pool rides\n",
    "uber_prices =  modified_ride_share_df[modified_ride_share_df[\"name\"] == \"UberPool\"][\"price\"]\n",
    "\n",
    "# gets the price of Lyft Shared rides \n",
    "lyft_prices =  modified_ride_share_df[modified_ride_share_df[\"name\"] == \"Shared\"][\"price\"]\n",
    "\n",
    "# determines if a MannWhitney test ought to be run\n",
    "runWhitney = False\n",
    "\n",
    "print(\"-----------------------\")\n",
    "print(\"Independent Samples T-test\")\n",
    "print(\"-----------------------\\n\")\n",
    "\n",
    "print(\"Assumption Checks\")\n",
    "print(\"-------------------\\n\")\n",
    "\n",
    "# performs an assumption check using Levene's Test of Equality of Variances \n",
    "levene_result_1 = stats.levene(uber_prices, lyft_prices)\n",
    "\n",
    "print(\"Assumption of Equality of Variances\")\n",
    "print(f'\\t{levene_result_1}')\n",
    "\n",
    "# determines if the assumption is true\n",
    "if levene_results_1[1] > 0.05:\n",
    "    print(\"\\tAssumption is met. p > .05\\n\")\n",
    "else:\n",
    "    print(\"\\tAssumption is not met. p < .05\")\n",
    "    print(\"\\tIndependent Samples T-test cannot be conducted, so Mann-Whitney will be used instead.\\n\")\n",
    "    # if the program gets here, the assumption check has failed so a non-parametric version of the\n",
    "    # independent samples t-test, namely, the Mann-Whitney test needs to be performed\n",
    "    runWhitney = True\n",
    "\n",
    "print(\"Assumption of Normality\")\n",
    "\n",
    "# performs the Shapiro-Wilk test for normality on both of our distributions\n",
    "shapiro_results_uber = stats.shapiro(uber_prices)\n",
    "shapiro_results_lyft = stats.shapiro(lyft_prices)\n",
    "\n",
    "print(f'\\tUber Prices Shapiro-Wilk\\'s Test Results: {shapiro_results_uber}')\n",
    "\n",
    "if shapiro_results_uber[1] > 0.05:\n",
    "    print('\\t\\tAssumption is met. p > .05\\n')\n",
    "else:\n",
    "    print('\\t\\tAssumption is not met. p < .05')\n",
    "    print(\"\\t\\tIndependent Samples T-test cannot be conducted, so Mann-Whitney will be used instead.\\n\")\n",
    "    runWhitney=True\n",
    "\n",
    "print(f'\\tLyft Prices Shapiro-Wilk\\'s Test Results: {shapiro_results_lyft}')\n",
    "\n",
    "if shapiro_results_lyft[1] > 0.05:\n",
    "    print('\\t\\tAssumption is met. p > .05\\n')\n",
    "else:\n",
    "    print('\\t\\tAssumption is not met. p < .05')\n",
    "    print(\"\\t\\tIndependent Samples T-test cannot be conducted, so Mann-Whitney will be used instead.\\n\")\n",
    "    runWhitney=True\n",
    "\n",
    "print(f'UberPool: n={uber_prices.count()}, M={uber_prices.mean()}, SE={uber_prices.sem()}')\n",
    "print(f'Shared (Lyft): n={lyft_prices.count()}, M={lyft_prices.mean()}, SE={lyft_prices.sem()}\\n')\n",
    "# runs only if one of the assumption checks fails\n",
    "if runWhitney:\n",
    "    \n",
    "    print(\"-----------------------\")\n",
    "    print(\"Mann-Whitney U-Test\")\n",
    "    print(\"-----------------------\\n\\n\")\n",
    "    \n",
    "    print(f'Null Hypothesis: The probability of the price of one random sample from the Uber Pool')\n",
    "    print(f'data being greater than that of the Shared (Lyft) data is equal to 50%\\n')\n",
    "    \n",
    "    print(f'Alternate Hypothesis: The probability of the price of one random sample from the Uber Pool')\n",
    "    print(f'data being greater than that of the Shared (Lyft) data is not equal to 50%\\n')\n",
    "    \n",
    "    # runs a Mann-Whitney test\n",
    "    mann_whitney_results = stats.mannwhitneyu(uber_prices, lyft_prices)\n",
    "    \n",
    "    # prints the results\n",
    "    print(f'U={mann_whitney_results[0]}, p={mann_whitney_results[1]}\\n')\n",
    "    \n",
    "    # interprets the results based on the pvalue and determines what to do \n",
    "    # with the null hypothesis\n",
    "    if mann_whitney_results[1] > 0.05:\n",
    "        print(\"Fail to reject the null hypothesis because p > alpha=0.05\")\n",
    "    else:\n",
    "        print(\"Reject the null hypothesis because p < alpha=0.05\")\n",
    "else:\n",
    "    ttestresults = stats.ttest_ind(lyft_prices, uber_prices)\n",
    "\n",
    "    print(f'Null Hypothesis: There is no difference in the mean price of an Uber Pool ride in comparison to the Shared (Lyft) ride')\n",
    "    print(f'Alternative Hypothesis: There is a difference in the mean price of an Uber Pool ride in comparison to the Shared (Lyft) ride')\n",
    "    \n",
    "    print(f'T={ttestresults[0]}, p={ttestresults[1]}, df = {uber_prices.count() + lyft_prices.count() - 2}\\n')\n",
    "\n",
    "    if ttestresults[1] > 0.05:\n",
    "        print(\"Fail to reject the null hypothesis because p > alpha=0.05\")\n",
    "    else:\n",
    "        print(\"Reject the null hypothesis because p < alpha=0.05\")\n"
   ]
  },
  {
   "cell_type": "markdown",
   "metadata": {
    "id": "qhlirwbmlqCz"
   },
   "source": [
    "### Interpreting the Results from the T-test/Mann-Whitney Test for Hypothesis 1\n",
    "\n",
    "We attempted to conduct an independent samples t test to compare the mean price of an UberPool ride and a Lyft Shared ride. However, because the assumptions of equality of variances and the assumptions of normality failed, we instead conducted a Mann Whitney U test. Results showed a statistically significant difference in the prices, with a U statistic of 459,827,728.5 and a p value of 0 which was less than the alpha value of 0.05. This means that we could reject the null hypothesis and conclude that the odds of picking an UberPool ride that had a greater price than a Lyft Shared ride was not equal to 50%. An examination of the prices revealed that UberPool (n = 55091, M = 8.75, SE = 0.00897) had a higher mean price than the Lyft shared (n = 51233, M = 6.03, SE = 0.0093). Overall, the statistically significant results show that we have confidence that an UberPool ride is more expensive than a Lyft shared ride in Boston."
   ]
  },
  {
   "cell_type": "markdown",
   "metadata": {
    "id": "tTn4BIqUlqCz"
   },
   "source": [
    "### Data Wrangling: Feature Extraction\n",
    "Performing some feature engineering to convert our \"hour\" data into a categorial variable that describes whether a particular ride is occuring at rush hour or not. This is a form of feature extraction since the Rush or Not Rush parameter is determined from the hour variable. This was done as a result of the Fig. 1 in the exploratory data analysis section"
   ]
  },
  {
   "cell_type": "code",
   "execution_count": null,
   "metadata": {
    "id": "bHR2diy4lqCz"
   },
   "outputs": [],
   "source": [
    "# classifying the hours as rush or not rush (creating new features from existing ones)\n",
    "rushOrNotRush = modified_ride_share_df[\"hour\"].apply(lambda x: \"Rush\" if x in [8, 17, 20, 21, 22] else \"Not Rush\")\n",
    "\n",
    "# drops the hour column since its values have been encoded\n",
    "modified_ride_share_df.drop(\"hour\", axis = 1, inplace=True)\n",
    "\n",
    "# adds the newly created features into a new column called \"Rush Hour\"\n",
    "modified_ride_share_df[\"Rush Hour\"] = rushOrNotRush"
   ]
  },
  {
   "cell_type": "code",
   "execution_count": null,
   "metadata": {
    "id": "j3M19zMTlqC0",
    "outputId": "27ae65d9-6415-4da0-f944-7a592148ef66"
   },
   "outputs": [
    {
     "data": {
      "text/html": [
       "<div>\n",
       "<style scoped>\n",
       "    .dataframe tbody tr th:only-of-type {\n",
       "        vertical-align: middle;\n",
       "    }\n",
       "\n",
       "    .dataframe tbody tr th {\n",
       "        vertical-align: top;\n",
       "    }\n",
       "\n",
       "    .dataframe thead th {\n",
       "        text-align: right;\n",
       "    }\n",
       "</style>\n",
       "<table border=\"1\" class=\"dataframe\">\n",
       "  <thead>\n",
       "    <tr style=\"text-align: right;\">\n",
       "      <th></th>\n",
       "      <th>day</th>\n",
       "      <th>month</th>\n",
       "      <th>source</th>\n",
       "      <th>destination</th>\n",
       "      <th>cab_type</th>\n",
       "      <th>name</th>\n",
       "      <th>price</th>\n",
       "      <th>distance</th>\n",
       "      <th>surge_multiplier</th>\n",
       "      <th>temperature</th>\n",
       "      <th>...</th>\n",
       "      <th>humidity</th>\n",
       "      <th>windSpeed</th>\n",
       "      <th>windGust</th>\n",
       "      <th>visibility</th>\n",
       "      <th>dewPoint</th>\n",
       "      <th>pressure</th>\n",
       "      <th>cloudCover</th>\n",
       "      <th>uvIndex</th>\n",
       "      <th>ozone</th>\n",
       "      <th>Rush Hour</th>\n",
       "    </tr>\n",
       "  </thead>\n",
       "  <tbody>\n",
       "    <tr>\n",
       "      <td>0</td>\n",
       "      <td>16</td>\n",
       "      <td>12</td>\n",
       "      <td>Haymarket Square</td>\n",
       "      <td>North Station</td>\n",
       "      <td>Lyft</td>\n",
       "      <td>Shared</td>\n",
       "      <td>5.0</td>\n",
       "      <td>0.44</td>\n",
       "      <td>1.0</td>\n",
       "      <td>42.34</td>\n",
       "      <td>...</td>\n",
       "      <td>0.68</td>\n",
       "      <td>8.66</td>\n",
       "      <td>9.17</td>\n",
       "      <td>10.000</td>\n",
       "      <td>32.70</td>\n",
       "      <td>1021.98</td>\n",
       "      <td>0.72</td>\n",
       "      <td>0</td>\n",
       "      <td>303.8</td>\n",
       "      <td>Not Rush</td>\n",
       "    </tr>\n",
       "    <tr>\n",
       "      <td>1</td>\n",
       "      <td>27</td>\n",
       "      <td>11</td>\n",
       "      <td>Haymarket Square</td>\n",
       "      <td>North Station</td>\n",
       "      <td>Lyft</td>\n",
       "      <td>Lux</td>\n",
       "      <td>11.0</td>\n",
       "      <td>0.44</td>\n",
       "      <td>1.0</td>\n",
       "      <td>43.58</td>\n",
       "      <td>...</td>\n",
       "      <td>0.94</td>\n",
       "      <td>11.98</td>\n",
       "      <td>11.98</td>\n",
       "      <td>4.786</td>\n",
       "      <td>41.83</td>\n",
       "      <td>1003.97</td>\n",
       "      <td>1.00</td>\n",
       "      <td>0</td>\n",
       "      <td>291.1</td>\n",
       "      <td>Not Rush</td>\n",
       "    </tr>\n",
       "    <tr>\n",
       "      <td>2</td>\n",
       "      <td>28</td>\n",
       "      <td>11</td>\n",
       "      <td>Haymarket Square</td>\n",
       "      <td>North Station</td>\n",
       "      <td>Lyft</td>\n",
       "      <td>Lyft</td>\n",
       "      <td>7.0</td>\n",
       "      <td>0.44</td>\n",
       "      <td>1.0</td>\n",
       "      <td>38.33</td>\n",
       "      <td>...</td>\n",
       "      <td>0.75</td>\n",
       "      <td>7.33</td>\n",
       "      <td>7.33</td>\n",
       "      <td>10.000</td>\n",
       "      <td>31.10</td>\n",
       "      <td>992.28</td>\n",
       "      <td>0.03</td>\n",
       "      <td>0</td>\n",
       "      <td>315.7</td>\n",
       "      <td>Not Rush</td>\n",
       "    </tr>\n",
       "    <tr>\n",
       "      <td>3</td>\n",
       "      <td>30</td>\n",
       "      <td>11</td>\n",
       "      <td>Haymarket Square</td>\n",
       "      <td>North Station</td>\n",
       "      <td>Lyft</td>\n",
       "      <td>Lux Black XL</td>\n",
       "      <td>26.0</td>\n",
       "      <td>0.44</td>\n",
       "      <td>1.0</td>\n",
       "      <td>34.38</td>\n",
       "      <td>...</td>\n",
       "      <td>0.73</td>\n",
       "      <td>5.28</td>\n",
       "      <td>5.28</td>\n",
       "      <td>10.000</td>\n",
       "      <td>26.64</td>\n",
       "      <td>1013.73</td>\n",
       "      <td>0.00</td>\n",
       "      <td>0</td>\n",
       "      <td>291.1</td>\n",
       "      <td>Not Rush</td>\n",
       "    </tr>\n",
       "    <tr>\n",
       "      <td>4</td>\n",
       "      <td>29</td>\n",
       "      <td>11</td>\n",
       "      <td>Haymarket Square</td>\n",
       "      <td>North Station</td>\n",
       "      <td>Lyft</td>\n",
       "      <td>Lyft XL</td>\n",
       "      <td>9.0</td>\n",
       "      <td>0.44</td>\n",
       "      <td>1.0</td>\n",
       "      <td>37.44</td>\n",
       "      <td>...</td>\n",
       "      <td>0.70</td>\n",
       "      <td>9.14</td>\n",
       "      <td>9.14</td>\n",
       "      <td>10.000</td>\n",
       "      <td>28.61</td>\n",
       "      <td>998.36</td>\n",
       "      <td>0.44</td>\n",
       "      <td>0</td>\n",
       "      <td>347.7</td>\n",
       "      <td>Not Rush</td>\n",
       "    </tr>\n",
       "    <tr>\n",
       "      <td>...</td>\n",
       "      <td>...</td>\n",
       "      <td>...</td>\n",
       "      <td>...</td>\n",
       "      <td>...</td>\n",
       "      <td>...</td>\n",
       "      <td>...</td>\n",
       "      <td>...</td>\n",
       "      <td>...</td>\n",
       "      <td>...</td>\n",
       "      <td>...</td>\n",
       "      <td>...</td>\n",
       "      <td>...</td>\n",
       "      <td>...</td>\n",
       "      <td>...</td>\n",
       "      <td>...</td>\n",
       "      <td>...</td>\n",
       "      <td>...</td>\n",
       "      <td>...</td>\n",
       "      <td>...</td>\n",
       "      <td>...</td>\n",
       "      <td>...</td>\n",
       "    </tr>\n",
       "    <tr>\n",
       "      <td>637971</td>\n",
       "      <td>1</td>\n",
       "      <td>12</td>\n",
       "      <td>West End</td>\n",
       "      <td>North End</td>\n",
       "      <td>Uber</td>\n",
       "      <td>WAV</td>\n",
       "      <td>9.5</td>\n",
       "      <td>1.00</td>\n",
       "      <td>1.0</td>\n",
       "      <td>37.05</td>\n",
       "      <td>...</td>\n",
       "      <td>0.74</td>\n",
       "      <td>2.34</td>\n",
       "      <td>2.87</td>\n",
       "      <td>9.785</td>\n",
       "      <td>29.65</td>\n",
       "      <td>1023.57</td>\n",
       "      <td>0.31</td>\n",
       "      <td>0</td>\n",
       "      <td>271.5</td>\n",
       "      <td>Not Rush</td>\n",
       "    </tr>\n",
       "    <tr>\n",
       "      <td>637972</td>\n",
       "      <td>1</td>\n",
       "      <td>12</td>\n",
       "      <td>West End</td>\n",
       "      <td>North End</td>\n",
       "      <td>Uber</td>\n",
       "      <td>UberXL</td>\n",
       "      <td>13.0</td>\n",
       "      <td>1.00</td>\n",
       "      <td>1.0</td>\n",
       "      <td>37.05</td>\n",
       "      <td>...</td>\n",
       "      <td>0.74</td>\n",
       "      <td>2.34</td>\n",
       "      <td>2.87</td>\n",
       "      <td>9.785</td>\n",
       "      <td>29.65</td>\n",
       "      <td>1023.57</td>\n",
       "      <td>0.31</td>\n",
       "      <td>0</td>\n",
       "      <td>271.5</td>\n",
       "      <td>Not Rush</td>\n",
       "    </tr>\n",
       "    <tr>\n",
       "      <td>637973</td>\n",
       "      <td>1</td>\n",
       "      <td>12</td>\n",
       "      <td>West End</td>\n",
       "      <td>North End</td>\n",
       "      <td>Uber</td>\n",
       "      <td>UberX</td>\n",
       "      <td>9.5</td>\n",
       "      <td>1.00</td>\n",
       "      <td>1.0</td>\n",
       "      <td>37.05</td>\n",
       "      <td>...</td>\n",
       "      <td>0.74</td>\n",
       "      <td>2.34</td>\n",
       "      <td>2.87</td>\n",
       "      <td>9.785</td>\n",
       "      <td>29.65</td>\n",
       "      <td>1023.57</td>\n",
       "      <td>0.31</td>\n",
       "      <td>0</td>\n",
       "      <td>271.5</td>\n",
       "      <td>Not Rush</td>\n",
       "    </tr>\n",
       "    <tr>\n",
       "      <td>637974</td>\n",
       "      <td>1</td>\n",
       "      <td>12</td>\n",
       "      <td>West End</td>\n",
       "      <td>North End</td>\n",
       "      <td>Uber</td>\n",
       "      <td>Black SUV</td>\n",
       "      <td>27.0</td>\n",
       "      <td>1.00</td>\n",
       "      <td>1.0</td>\n",
       "      <td>37.05</td>\n",
       "      <td>...</td>\n",
       "      <td>0.74</td>\n",
       "      <td>2.34</td>\n",
       "      <td>2.87</td>\n",
       "      <td>9.785</td>\n",
       "      <td>29.65</td>\n",
       "      <td>1023.57</td>\n",
       "      <td>0.31</td>\n",
       "      <td>0</td>\n",
       "      <td>271.5</td>\n",
       "      <td>Not Rush</td>\n",
       "    </tr>\n",
       "    <tr>\n",
       "      <td>637975</td>\n",
       "      <td>1</td>\n",
       "      <td>12</td>\n",
       "      <td>West End</td>\n",
       "      <td>North End</td>\n",
       "      <td>Uber</td>\n",
       "      <td>UberPool</td>\n",
       "      <td>10.0</td>\n",
       "      <td>1.00</td>\n",
       "      <td>1.0</td>\n",
       "      <td>37.05</td>\n",
       "      <td>...</td>\n",
       "      <td>0.74</td>\n",
       "      <td>2.34</td>\n",
       "      <td>2.87</td>\n",
       "      <td>9.785</td>\n",
       "      <td>29.65</td>\n",
       "      <td>1023.57</td>\n",
       "      <td>0.31</td>\n",
       "      <td>0</td>\n",
       "      <td>271.5</td>\n",
       "      <td>Not Rush</td>\n",
       "    </tr>\n",
       "  </tbody>\n",
       "</table>\n",
       "<p>637976 rows × 24 columns</p>\n",
       "</div>"
      ],
      "text/plain": [
       "        day  month            source    destination cab_type          name  \\\n",
       "0        16     12  Haymarket Square  North Station     Lyft        Shared   \n",
       "1        27     11  Haymarket Square  North Station     Lyft           Lux   \n",
       "2        28     11  Haymarket Square  North Station     Lyft          Lyft   \n",
       "3        30     11  Haymarket Square  North Station     Lyft  Lux Black XL   \n",
       "4        29     11  Haymarket Square  North Station     Lyft       Lyft XL   \n",
       "...     ...    ...               ...            ...      ...           ...   \n",
       "637971    1     12          West End      North End     Uber           WAV   \n",
       "637972    1     12          West End      North End     Uber        UberXL   \n",
       "637973    1     12          West End      North End     Uber         UberX   \n",
       "637974    1     12          West End      North End     Uber     Black SUV   \n",
       "637975    1     12          West End      North End     Uber      UberPool   \n",
       "\n",
       "        price  distance  surge_multiplier  temperature  ...  humidity  \\\n",
       "0         5.0      0.44               1.0        42.34  ...      0.68   \n",
       "1        11.0      0.44               1.0        43.58  ...      0.94   \n",
       "2         7.0      0.44               1.0        38.33  ...      0.75   \n",
       "3        26.0      0.44               1.0        34.38  ...      0.73   \n",
       "4         9.0      0.44               1.0        37.44  ...      0.70   \n",
       "...       ...       ...               ...          ...  ...       ...   \n",
       "637971    9.5      1.00               1.0        37.05  ...      0.74   \n",
       "637972   13.0      1.00               1.0        37.05  ...      0.74   \n",
       "637973    9.5      1.00               1.0        37.05  ...      0.74   \n",
       "637974   27.0      1.00               1.0        37.05  ...      0.74   \n",
       "637975   10.0      1.00               1.0        37.05  ...      0.74   \n",
       "\n",
       "       windSpeed  windGust  visibility  dewPoint  pressure  cloudCover  \\\n",
       "0           8.66      9.17      10.000     32.70   1021.98        0.72   \n",
       "1          11.98     11.98       4.786     41.83   1003.97        1.00   \n",
       "2           7.33      7.33      10.000     31.10    992.28        0.03   \n",
       "3           5.28      5.28      10.000     26.64   1013.73        0.00   \n",
       "4           9.14      9.14      10.000     28.61    998.36        0.44   \n",
       "...          ...       ...         ...       ...       ...         ...   \n",
       "637971      2.34      2.87       9.785     29.65   1023.57        0.31   \n",
       "637972      2.34      2.87       9.785     29.65   1023.57        0.31   \n",
       "637973      2.34      2.87       9.785     29.65   1023.57        0.31   \n",
       "637974      2.34      2.87       9.785     29.65   1023.57        0.31   \n",
       "637975      2.34      2.87       9.785     29.65   1023.57        0.31   \n",
       "\n",
       "        uvIndex  ozone  Rush Hour  \n",
       "0             0  303.8   Not Rush  \n",
       "1             0  291.1   Not Rush  \n",
       "2             0  315.7   Not Rush  \n",
       "3             0  291.1   Not Rush  \n",
       "4             0  347.7   Not Rush  \n",
       "...         ...    ...        ...  \n",
       "637971        0  271.5   Not Rush  \n",
       "637972        0  271.5   Not Rush  \n",
       "637973        0  271.5   Not Rush  \n",
       "637974        0  271.5   Not Rush  \n",
       "637975        0  271.5   Not Rush  \n",
       "\n",
       "[637976 rows x 24 columns]"
      ]
     },
     "execution_count": 250,
     "metadata": {
      "tags": []
     },
     "output_type": "execute_result"
    }
   ],
   "source": [
    "modified_ride_share_df"
   ]
  },
  {
   "cell_type": "markdown",
   "metadata": {
    "id": "zPD5ZVWPlqC0"
   },
   "source": [
    "#### Model Construction: Hypothesis Test 2\n",
    "The purpose of this hypothesis test was to compare the price of a ride during a Rush Hour time to a ride during a Non-Rush hour to determine if the difference between the rides at the two times was statsitically significant."
   ]
  },
  {
   "cell_type": "code",
   "execution_count": null,
   "metadata": {
    "id": "Ocgfoh4ulqC1",
    "outputId": "9aaa4b26-64cd-4baf-c41b-340a089d4d6b"
   },
   "outputs": [
    {
     "name": "stdout",
     "output_type": "stream",
     "text": [
      "-----------------------\n",
      "Independent Samples T-test\n",
      "-----------------------\n",
      "\n",
      "Assumption Checks\n",
      "-------------------\n",
      "\n",
      "Assumption of Equality of Variances\n",
      "\tLeveneResult(statistic=7.918996607320633, pvalue=0.004891989195525785)\n",
      "\tAssumption is not met. p < .05\n",
      "\tIndependent Samples T-test cannot be conducted, so Mann-Whitney will be used instead.\n",
      "\n",
      "Assumption of Normality\n",
      "\tRush Hour Prices Shapiro-Wilk's Test Results: (0.9115809202194214, 0.0)\n",
      "\t\tAssumption is not met. p < .05\n",
      "\t\tIndependent Samples T-test cannot be conducted, so Mann-Whitney will be used instead.\n",
      "\n",
      "\tNot Rush Hour Prices Shapiro-Wilk's Test Results: (0.9122379422187805, 0.0)\n",
      "\t\tAssumption is not met. p < .05\n",
      "\t\tIndependent Samples T-test cannot be conducted, so Mann-Whitney will be used instead.\n",
      "\n",
      "Rush Hour: n=127674, M=16.60206737471999, SE=0.026261518156938835\n",
      "Not Rush Hour: n=510302, M=16.530879028496848, SE=0.013031943144442056\n",
      "\n",
      "-----------------------\n",
      "Mann-Whitney U-Test\n",
      "-----------------------\n",
      "\n",
      "\n",
      "Null Hypothesis: The probability of the price of one random sample from the Rush Hour\n",
      "data being greater than that of the Not Rush Hour data is equal to 50%\n",
      "\n",
      "Alternate Hypothesis: The probability of the price of one random sample from the Rush Hour\n",
      "data being greater than that of the Not Rush Hour data is not equal to 50%\n",
      "\n",
      "U=32475888288.5, p=0.044081941032386655\n",
      "\n",
      "Reject the null hypothesis because p < alpha=0.05\n"
     ]
    }
   ],
   "source": [
    "# gets the price of rides that occur during Rush Hour\n",
    "rush_hour_prices =  modified_ride_share_df[modified_ride_share_df[\"Rush Hour\"] == \"Rush\"][\"price\"]\n",
    "\n",
    "# gets the price of ridges that occur during Non-Rush hour times\n",
    "not_rush_prices =  modified_ride_share_df[modified_ride_share_df[\"Rush Hour\"] == \"Not Rush\"][\"price\"]\n",
    "\n",
    "# determines if a MannWhitney test ought to be run\n",
    "runWhitney2 = False\n",
    "\n",
    "print(\"-----------------------\")\n",
    "print(\"Independent Samples T-test\")\n",
    "print(\"-----------------------\\n\")\n",
    "\n",
    "print(\"Assumption Checks\")\n",
    "print(\"-------------------\\n\")\n",
    "\n",
    "# performs an assumption check using Levene's Test of Equality of Variances \n",
    "levene_result_2 = stats.levene(rush_hour_prices, not_rush_prices)\n",
    "\n",
    "print(\"Assumption of Equality of Variances\")\n",
    "print(f'\\t{levene_result_2}')\n",
    "\n",
    "# determines if the assumption is true\n",
    "if levene_results_2[1] > 0.05:\n",
    "    print(\"\\tAssumption is met. p > .05\\n\")\n",
    "else:\n",
    "    print(\"\\tAssumption is not met. p < .05\")\n",
    "    print(\"\\tIndependent Samples T-test cannot be conducted, so Mann-Whitney will be used instead.\\n\")\n",
    "    # if the program gets here, the assumption check has failed so a non-parametric version of the\n",
    "    # independent samples t-test, namely, the Mann-Whitney test needs to be performed\n",
    "    runWhitney2 = True\n",
    "\n",
    "print(\"Assumption of Normality\")\n",
    "\n",
    "# performs the Shapiro-Wilk test for normality on both of our distributions\n",
    "shapiro_results_rush = stats.shapiro(rush_hour_prices)\n",
    "shapiro_results_not_rush = stats.shapiro(not_rush_prices)\n",
    "\n",
    "print(f'\\tRush Hour Prices Shapiro-Wilk\\'s Test Results: {shapiro_results_rush}')\n",
    "\n",
    "if shapiro_results_rush[1] > 0.05:\n",
    "    print('\\t\\tAssumption is met. p > .05\\n')\n",
    "else:\n",
    "    print('\\t\\tAssumption is not met. p < .05')\n",
    "    print(\"\\t\\tIndependent Samples T-test cannot be conducted, so Mann-Whitney will be used instead.\\n\")\n",
    "    runWhitney2=True\n",
    "\n",
    "print(f'\\tNot Rush Hour Prices Shapiro-Wilk\\'s Test Results: {shapiro_results_not_rush}')\n",
    "\n",
    "if shapiro_results_not_rush[1] > 0.05:\n",
    "    print('\\t\\tAssumption is met. p > .05\\n')\n",
    "else:\n",
    "    print('\\t\\tAssumption is not met. p < .05')\n",
    "    print(\"\\t\\tIndependent Samples T-test cannot be conducted, so Mann-Whitney will be used instead.\\n\")\n",
    "    runWhitney2=True\n",
    "\n",
    "print(f'Rush Hour: n={rush_hour_prices.count()}, M={rush_hour_prices.mean()}, SE={rush_hour_prices.sem()}')\n",
    "print(f'Not Rush Hour: n={not_rush_prices.count()}, M={not_rush_prices.mean()}, SE={not_rush_prices.sem()}\\n')\n",
    "\n",
    "# runs only if one of the assumption checks fails\n",
    "if runWhitney2:\n",
    "    \n",
    "    print(\"-----------------------\")\n",
    "    print(\"Mann-Whitney U-Test\")\n",
    "    print(\"-----------------------\\n\\n\")\n",
    "    \n",
    "    print(f'Null Hypothesis: The probability of the price of one random sample from the Rush Hour')\n",
    "    print(f'data being greater than that of the Not Rush Hour data is equal to 50%\\n')\n",
    "    \n",
    "    print(f'Alternate Hypothesis: The probability of the price of one random sample from the Rush Hour')\n",
    "    print(f'data being greater than that of the Not Rush Hour data is not equal to 50%\\n')\n",
    "    \n",
    "    # runs a Mann-Whitney test\n",
    "    mann_whitney_results2 = stats.mannwhitneyu(rush_hour_prices, not_rush_prices)\n",
    "    \n",
    "    # prints the results\n",
    "    print(f'U={mann_whitney_results2[0]}, p={mann_whitney_results2[1]}\\n')\n",
    "    \n",
    "    # interprets the results based on the pvalue and determines what to do \n",
    "    # with the null hypothesis\n",
    "    if mann_whitney_results2[1] > 0.05:\n",
    "        print(\"Fail to reject the null hypothesis because p > alpha=0.05\")\n",
    "    else:\n",
    "        print(\"Reject the null hypothesis because p < alpha=0.05\")\n",
    "else:\n",
    "    ttestresults2 = stats.ttest_ind(rush_hour_prices, not_rush_prices)\n",
    "\n",
    "    print(f'Null Hypothesis: There is no difference in the mean price of a Rush Hour ride in comparison to a Not Rush Hour ride.')\n",
    "    print(f'Alternative Hypothesis: There is a difference in the mean price of a Rush Hour ride in comparison to a Not Rush Hour ride.')\n",
    "    \n",
    "    print(f'T={ttestresults2[0]}, p={ttestresults2[1]}, df = {rush_hour_prices.count() + not_rush_prices.count() - 2}\\n')\n",
    "    \n",
    "    if ttestresults2[1] > 0.05:\n",
    "        print(\"Fail to reject the null hypothesis because p > alpha=0.05\")\n",
    "    else:\n",
    "        print(\"Reject the null hypothesis because p < alpha=0.05\")"
   ]
  },
  {
   "cell_type": "markdown",
   "metadata": {
    "id": "Hv8553lalqC1"
   },
   "source": [
    "### Interpreting the Results from the T-test/Mann-Whitney Test for Hypothesis 2\n",
    "\n",
    "We attempted to conduct an independent samples t test to compare the mean price of a Rush Hour ride and a non Rush Hour ride. However, because the assumptions of equality of variances and the assumptions of normality failed, we instead conducted a Mann Whitney U test. Results showed a statistically significant difference in the prices, with a U statistic of 32,475,888,288.5 and a p value of 0.044 which was less than the alpha value of 0.05. This means that we could reject the null hypothesis and conclude that the odds of picking a Rush Hour ride that had a greater price than a non Rush Hour ride was not equal to 50%. An examination of the prices revealed that Rush Hour rides (n = 127,674, M = 16.6, SE = 0.026) had a higher mean price than the non Rush Hour rides (n = 510,302, M = 16.53, SE = 0.013). Overall, the statistically significant results show that we have confidence that a Rush Hour ride is more expensive than a non Rush Hour ride."
   ]
  },
  {
   "cell_type": "markdown",
   "metadata": {
    "id": "YZDf2Ji6lqC1"
   },
   "source": [
    "#### Splitting the dataset into features and targets"
   ]
  },
  {
   "cell_type": "code",
   "execution_count": null,
   "metadata": {
    "id": "YwIj8H1dlqC2"
   },
   "outputs": [],
   "source": [
    "features, target = modified_ride_share_df.drop(\"price\", axis = 1), modified_ride_share_df[\"price\"]"
   ]
  },
  {
   "cell_type": "code",
   "execution_count": null,
   "metadata": {
    "id": "ozGIneWrlqC2",
    "outputId": "4357a9cb-0a66-4a0b-b164-70e3aafa3f3e"
   },
   "outputs": [
    {
     "data": {
      "text/html": [
       "<div>\n",
       "<style scoped>\n",
       "    .dataframe tbody tr th:only-of-type {\n",
       "        vertical-align: middle;\n",
       "    }\n",
       "\n",
       "    .dataframe tbody tr th {\n",
       "        vertical-align: top;\n",
       "    }\n",
       "\n",
       "    .dataframe thead th {\n",
       "        text-align: right;\n",
       "    }\n",
       "</style>\n",
       "<table border=\"1\" class=\"dataframe\">\n",
       "  <thead>\n",
       "    <tr style=\"text-align: right;\">\n",
       "      <th></th>\n",
       "      <th>day</th>\n",
       "      <th>month</th>\n",
       "      <th>source</th>\n",
       "      <th>destination</th>\n",
       "      <th>cab_type</th>\n",
       "      <th>name</th>\n",
       "      <th>distance</th>\n",
       "      <th>surge_multiplier</th>\n",
       "      <th>temperature</th>\n",
       "      <th>apparentTemperature</th>\n",
       "      <th>...</th>\n",
       "      <th>humidity</th>\n",
       "      <th>windSpeed</th>\n",
       "      <th>windGust</th>\n",
       "      <th>visibility</th>\n",
       "      <th>dewPoint</th>\n",
       "      <th>pressure</th>\n",
       "      <th>cloudCover</th>\n",
       "      <th>uvIndex</th>\n",
       "      <th>ozone</th>\n",
       "      <th>Rush Hour</th>\n",
       "    </tr>\n",
       "  </thead>\n",
       "  <tbody>\n",
       "    <tr>\n",
       "      <td>0</td>\n",
       "      <td>16</td>\n",
       "      <td>12</td>\n",
       "      <td>Haymarket Square</td>\n",
       "      <td>North Station</td>\n",
       "      <td>Lyft</td>\n",
       "      <td>Shared</td>\n",
       "      <td>0.44</td>\n",
       "      <td>1.0</td>\n",
       "      <td>42.34</td>\n",
       "      <td>37.12</td>\n",
       "      <td>...</td>\n",
       "      <td>0.68</td>\n",
       "      <td>8.66</td>\n",
       "      <td>9.17</td>\n",
       "      <td>10.000</td>\n",
       "      <td>32.70</td>\n",
       "      <td>1021.98</td>\n",
       "      <td>0.72</td>\n",
       "      <td>0</td>\n",
       "      <td>303.8</td>\n",
       "      <td>Not Rush</td>\n",
       "    </tr>\n",
       "    <tr>\n",
       "      <td>1</td>\n",
       "      <td>27</td>\n",
       "      <td>11</td>\n",
       "      <td>Haymarket Square</td>\n",
       "      <td>North Station</td>\n",
       "      <td>Lyft</td>\n",
       "      <td>Lux</td>\n",
       "      <td>0.44</td>\n",
       "      <td>1.0</td>\n",
       "      <td>43.58</td>\n",
       "      <td>37.35</td>\n",
       "      <td>...</td>\n",
       "      <td>0.94</td>\n",
       "      <td>11.98</td>\n",
       "      <td>11.98</td>\n",
       "      <td>4.786</td>\n",
       "      <td>41.83</td>\n",
       "      <td>1003.97</td>\n",
       "      <td>1.00</td>\n",
       "      <td>0</td>\n",
       "      <td>291.1</td>\n",
       "      <td>Not Rush</td>\n",
       "    </tr>\n",
       "    <tr>\n",
       "      <td>2</td>\n",
       "      <td>28</td>\n",
       "      <td>11</td>\n",
       "      <td>Haymarket Square</td>\n",
       "      <td>North Station</td>\n",
       "      <td>Lyft</td>\n",
       "      <td>Lyft</td>\n",
       "      <td>0.44</td>\n",
       "      <td>1.0</td>\n",
       "      <td>38.33</td>\n",
       "      <td>32.93</td>\n",
       "      <td>...</td>\n",
       "      <td>0.75</td>\n",
       "      <td>7.33</td>\n",
       "      <td>7.33</td>\n",
       "      <td>10.000</td>\n",
       "      <td>31.10</td>\n",
       "      <td>992.28</td>\n",
       "      <td>0.03</td>\n",
       "      <td>0</td>\n",
       "      <td>315.7</td>\n",
       "      <td>Not Rush</td>\n",
       "    </tr>\n",
       "    <tr>\n",
       "      <td>3</td>\n",
       "      <td>30</td>\n",
       "      <td>11</td>\n",
       "      <td>Haymarket Square</td>\n",
       "      <td>North Station</td>\n",
       "      <td>Lyft</td>\n",
       "      <td>Lux Black XL</td>\n",
       "      <td>0.44</td>\n",
       "      <td>1.0</td>\n",
       "      <td>34.38</td>\n",
       "      <td>29.63</td>\n",
       "      <td>...</td>\n",
       "      <td>0.73</td>\n",
       "      <td>5.28</td>\n",
       "      <td>5.28</td>\n",
       "      <td>10.000</td>\n",
       "      <td>26.64</td>\n",
       "      <td>1013.73</td>\n",
       "      <td>0.00</td>\n",
       "      <td>0</td>\n",
       "      <td>291.1</td>\n",
       "      <td>Not Rush</td>\n",
       "    </tr>\n",
       "    <tr>\n",
       "      <td>4</td>\n",
       "      <td>29</td>\n",
       "      <td>11</td>\n",
       "      <td>Haymarket Square</td>\n",
       "      <td>North Station</td>\n",
       "      <td>Lyft</td>\n",
       "      <td>Lyft XL</td>\n",
       "      <td>0.44</td>\n",
       "      <td>1.0</td>\n",
       "      <td>37.44</td>\n",
       "      <td>30.88</td>\n",
       "      <td>...</td>\n",
       "      <td>0.70</td>\n",
       "      <td>9.14</td>\n",
       "      <td>9.14</td>\n",
       "      <td>10.000</td>\n",
       "      <td>28.61</td>\n",
       "      <td>998.36</td>\n",
       "      <td>0.44</td>\n",
       "      <td>0</td>\n",
       "      <td>347.7</td>\n",
       "      <td>Not Rush</td>\n",
       "    </tr>\n",
       "    <tr>\n",
       "      <td>...</td>\n",
       "      <td>...</td>\n",
       "      <td>...</td>\n",
       "      <td>...</td>\n",
       "      <td>...</td>\n",
       "      <td>...</td>\n",
       "      <td>...</td>\n",
       "      <td>...</td>\n",
       "      <td>...</td>\n",
       "      <td>...</td>\n",
       "      <td>...</td>\n",
       "      <td>...</td>\n",
       "      <td>...</td>\n",
       "      <td>...</td>\n",
       "      <td>...</td>\n",
       "      <td>...</td>\n",
       "      <td>...</td>\n",
       "      <td>...</td>\n",
       "      <td>...</td>\n",
       "      <td>...</td>\n",
       "      <td>...</td>\n",
       "      <td>...</td>\n",
       "    </tr>\n",
       "    <tr>\n",
       "      <td>637971</td>\n",
       "      <td>1</td>\n",
       "      <td>12</td>\n",
       "      <td>West End</td>\n",
       "      <td>North End</td>\n",
       "      <td>Uber</td>\n",
       "      <td>WAV</td>\n",
       "      <td>1.00</td>\n",
       "      <td>1.0</td>\n",
       "      <td>37.05</td>\n",
       "      <td>37.05</td>\n",
       "      <td>...</td>\n",
       "      <td>0.74</td>\n",
       "      <td>2.34</td>\n",
       "      <td>2.87</td>\n",
       "      <td>9.785</td>\n",
       "      <td>29.65</td>\n",
       "      <td>1023.57</td>\n",
       "      <td>0.31</td>\n",
       "      <td>0</td>\n",
       "      <td>271.5</td>\n",
       "      <td>Not Rush</td>\n",
       "    </tr>\n",
       "    <tr>\n",
       "      <td>637972</td>\n",
       "      <td>1</td>\n",
       "      <td>12</td>\n",
       "      <td>West End</td>\n",
       "      <td>North End</td>\n",
       "      <td>Uber</td>\n",
       "      <td>UberXL</td>\n",
       "      <td>1.00</td>\n",
       "      <td>1.0</td>\n",
       "      <td>37.05</td>\n",
       "      <td>37.05</td>\n",
       "      <td>...</td>\n",
       "      <td>0.74</td>\n",
       "      <td>2.34</td>\n",
       "      <td>2.87</td>\n",
       "      <td>9.785</td>\n",
       "      <td>29.65</td>\n",
       "      <td>1023.57</td>\n",
       "      <td>0.31</td>\n",
       "      <td>0</td>\n",
       "      <td>271.5</td>\n",
       "      <td>Not Rush</td>\n",
       "    </tr>\n",
       "    <tr>\n",
       "      <td>637973</td>\n",
       "      <td>1</td>\n",
       "      <td>12</td>\n",
       "      <td>West End</td>\n",
       "      <td>North End</td>\n",
       "      <td>Uber</td>\n",
       "      <td>UberX</td>\n",
       "      <td>1.00</td>\n",
       "      <td>1.0</td>\n",
       "      <td>37.05</td>\n",
       "      <td>37.05</td>\n",
       "      <td>...</td>\n",
       "      <td>0.74</td>\n",
       "      <td>2.34</td>\n",
       "      <td>2.87</td>\n",
       "      <td>9.785</td>\n",
       "      <td>29.65</td>\n",
       "      <td>1023.57</td>\n",
       "      <td>0.31</td>\n",
       "      <td>0</td>\n",
       "      <td>271.5</td>\n",
       "      <td>Not Rush</td>\n",
       "    </tr>\n",
       "    <tr>\n",
       "      <td>637974</td>\n",
       "      <td>1</td>\n",
       "      <td>12</td>\n",
       "      <td>West End</td>\n",
       "      <td>North End</td>\n",
       "      <td>Uber</td>\n",
       "      <td>Black SUV</td>\n",
       "      <td>1.00</td>\n",
       "      <td>1.0</td>\n",
       "      <td>37.05</td>\n",
       "      <td>37.05</td>\n",
       "      <td>...</td>\n",
       "      <td>0.74</td>\n",
       "      <td>2.34</td>\n",
       "      <td>2.87</td>\n",
       "      <td>9.785</td>\n",
       "      <td>29.65</td>\n",
       "      <td>1023.57</td>\n",
       "      <td>0.31</td>\n",
       "      <td>0</td>\n",
       "      <td>271.5</td>\n",
       "      <td>Not Rush</td>\n",
       "    </tr>\n",
       "    <tr>\n",
       "      <td>637975</td>\n",
       "      <td>1</td>\n",
       "      <td>12</td>\n",
       "      <td>West End</td>\n",
       "      <td>North End</td>\n",
       "      <td>Uber</td>\n",
       "      <td>UberPool</td>\n",
       "      <td>1.00</td>\n",
       "      <td>1.0</td>\n",
       "      <td>37.05</td>\n",
       "      <td>37.05</td>\n",
       "      <td>...</td>\n",
       "      <td>0.74</td>\n",
       "      <td>2.34</td>\n",
       "      <td>2.87</td>\n",
       "      <td>9.785</td>\n",
       "      <td>29.65</td>\n",
       "      <td>1023.57</td>\n",
       "      <td>0.31</td>\n",
       "      <td>0</td>\n",
       "      <td>271.5</td>\n",
       "      <td>Not Rush</td>\n",
       "    </tr>\n",
       "  </tbody>\n",
       "</table>\n",
       "<p>637976 rows × 23 columns</p>\n",
       "</div>"
      ],
      "text/plain": [
       "        day  month            source    destination cab_type          name  \\\n",
       "0        16     12  Haymarket Square  North Station     Lyft        Shared   \n",
       "1        27     11  Haymarket Square  North Station     Lyft           Lux   \n",
       "2        28     11  Haymarket Square  North Station     Lyft          Lyft   \n",
       "3        30     11  Haymarket Square  North Station     Lyft  Lux Black XL   \n",
       "4        29     11  Haymarket Square  North Station     Lyft       Lyft XL   \n",
       "...     ...    ...               ...            ...      ...           ...   \n",
       "637971    1     12          West End      North End     Uber           WAV   \n",
       "637972    1     12          West End      North End     Uber        UberXL   \n",
       "637973    1     12          West End      North End     Uber         UberX   \n",
       "637974    1     12          West End      North End     Uber     Black SUV   \n",
       "637975    1     12          West End      North End     Uber      UberPool   \n",
       "\n",
       "        distance  surge_multiplier  temperature  apparentTemperature  ...  \\\n",
       "0           0.44               1.0        42.34                37.12  ...   \n",
       "1           0.44               1.0        43.58                37.35  ...   \n",
       "2           0.44               1.0        38.33                32.93  ...   \n",
       "3           0.44               1.0        34.38                29.63  ...   \n",
       "4           0.44               1.0        37.44                30.88  ...   \n",
       "...          ...               ...          ...                  ...  ...   \n",
       "637971      1.00               1.0        37.05                37.05  ...   \n",
       "637972      1.00               1.0        37.05                37.05  ...   \n",
       "637973      1.00               1.0        37.05                37.05  ...   \n",
       "637974      1.00               1.0        37.05                37.05  ...   \n",
       "637975      1.00               1.0        37.05                37.05  ...   \n",
       "\n",
       "       humidity  windSpeed  windGust  visibility  dewPoint  pressure  \\\n",
       "0          0.68       8.66      9.17      10.000     32.70   1021.98   \n",
       "1          0.94      11.98     11.98       4.786     41.83   1003.97   \n",
       "2          0.75       7.33      7.33      10.000     31.10    992.28   \n",
       "3          0.73       5.28      5.28      10.000     26.64   1013.73   \n",
       "4          0.70       9.14      9.14      10.000     28.61    998.36   \n",
       "...         ...        ...       ...         ...       ...       ...   \n",
       "637971     0.74       2.34      2.87       9.785     29.65   1023.57   \n",
       "637972     0.74       2.34      2.87       9.785     29.65   1023.57   \n",
       "637973     0.74       2.34      2.87       9.785     29.65   1023.57   \n",
       "637974     0.74       2.34      2.87       9.785     29.65   1023.57   \n",
       "637975     0.74       2.34      2.87       9.785     29.65   1023.57   \n",
       "\n",
       "        cloudCover  uvIndex  ozone  Rush Hour  \n",
       "0             0.72        0  303.8   Not Rush  \n",
       "1             1.00        0  291.1   Not Rush  \n",
       "2             0.03        0  315.7   Not Rush  \n",
       "3             0.00        0  291.1   Not Rush  \n",
       "4             0.44        0  347.7   Not Rush  \n",
       "...            ...      ...    ...        ...  \n",
       "637971        0.31        0  271.5   Not Rush  \n",
       "637972        0.31        0  271.5   Not Rush  \n",
       "637973        0.31        0  271.5   Not Rush  \n",
       "637974        0.31        0  271.5   Not Rush  \n",
       "637975        0.31        0  271.5   Not Rush  \n",
       "\n",
       "[637976 rows x 23 columns]"
      ]
     },
     "execution_count": 253,
     "metadata": {
      "tags": []
     },
     "output_type": "execute_result"
    }
   ],
   "source": [
    "features"
   ]
  },
  {
   "cell_type": "code",
   "execution_count": null,
   "metadata": {
    "id": "TMuYMRSBlqC2",
    "outputId": "48aad8ea-5630-40bf-f6a4-6c01876ccee4"
   },
   "outputs": [
    {
     "data": {
      "text/plain": [
       "0          5.0\n",
       "1         11.0\n",
       "2          7.0\n",
       "3         26.0\n",
       "4          9.0\n",
       "          ... \n",
       "637971     9.5\n",
       "637972    13.0\n",
       "637973     9.5\n",
       "637974    27.0\n",
       "637975    10.0\n",
       "Name: price, Length: 637976, dtype: float64"
      ]
     },
     "execution_count": 254,
     "metadata": {
      "tags": []
     },
     "output_type": "execute_result"
    }
   ],
   "source": [
    "target"
   ]
  },
  {
   "cell_type": "markdown",
   "metadata": {
    "id": "g5u5JDPQlqC3"
   },
   "source": [
    "#### Model Construction: Splitting the data into training and testing sets "
   ]
  },
  {
   "cell_type": "code",
   "execution_count": null,
   "metadata": {
    "id": "fObO1gFMlqC3"
   },
   "outputs": [],
   "source": [
    "from sklearn.model_selection import train_test_split\n",
    "from sklearn.compose import ColumnTransformer\n",
    "\n",
    "# splits the data using the train-test split approach\n",
    "X_train, X_test, y_train, y_test = train_test_split(features, target, random_state=3000)"
   ]
  },
  {
   "cell_type": "code",
   "execution_count": null,
   "metadata": {
    "id": "zZAmUIn-lqC3",
    "outputId": "45056fa3-dd48-40bb-edd3-38e755092f62"
   },
   "outputs": [
    {
     "data": {
      "text/html": [
       "<div>\n",
       "<style scoped>\n",
       "    .dataframe tbody tr th:only-of-type {\n",
       "        vertical-align: middle;\n",
       "    }\n",
       "\n",
       "    .dataframe tbody tr th {\n",
       "        vertical-align: top;\n",
       "    }\n",
       "\n",
       "    .dataframe thead th {\n",
       "        text-align: right;\n",
       "    }\n",
       "</style>\n",
       "<table border=\"1\" class=\"dataframe\">\n",
       "  <thead>\n",
       "    <tr style=\"text-align: right;\">\n",
       "      <th></th>\n",
       "      <th>day</th>\n",
       "      <th>month</th>\n",
       "      <th>source</th>\n",
       "      <th>destination</th>\n",
       "      <th>cab_type</th>\n",
       "      <th>name</th>\n",
       "      <th>distance</th>\n",
       "      <th>surge_multiplier</th>\n",
       "      <th>temperature</th>\n",
       "      <th>apparentTemperature</th>\n",
       "      <th>...</th>\n",
       "      <th>humidity</th>\n",
       "      <th>windSpeed</th>\n",
       "      <th>windGust</th>\n",
       "      <th>visibility</th>\n",
       "      <th>dewPoint</th>\n",
       "      <th>pressure</th>\n",
       "      <th>cloudCover</th>\n",
       "      <th>uvIndex</th>\n",
       "      <th>ozone</th>\n",
       "      <th>Rush Hour</th>\n",
       "    </tr>\n",
       "  </thead>\n",
       "  <tbody>\n",
       "    <tr>\n",
       "      <td>326498</td>\n",
       "      <td>16</td>\n",
       "      <td>12</td>\n",
       "      <td>Northeastern University</td>\n",
       "      <td>Theatre District</td>\n",
       "      <td>Uber</td>\n",
       "      <td>Black</td>\n",
       "      <td>1.91</td>\n",
       "      <td>1.0</td>\n",
       "      <td>43.06</td>\n",
       "      <td>38.26</td>\n",
       "      <td>...</td>\n",
       "      <td>0.71</td>\n",
       "      <td>8.12</td>\n",
       "      <td>13.44</td>\n",
       "      <td>10.000</td>\n",
       "      <td>34.25</td>\n",
       "      <td>1015.00</td>\n",
       "      <td>1.00</td>\n",
       "      <td>0</td>\n",
       "      <td>322.7</td>\n",
       "      <td>Not Rush</td>\n",
       "    </tr>\n",
       "    <tr>\n",
       "      <td>587843</td>\n",
       "      <td>15</td>\n",
       "      <td>12</td>\n",
       "      <td>North Station</td>\n",
       "      <td>Northeastern University</td>\n",
       "      <td>Lyft</td>\n",
       "      <td>Lux Black</td>\n",
       "      <td>3.34</td>\n",
       "      <td>1.0</td>\n",
       "      <td>43.94</td>\n",
       "      <td>41.06</td>\n",
       "      <td>...</td>\n",
       "      <td>0.95</td>\n",
       "      <td>5.05</td>\n",
       "      <td>8.47</td>\n",
       "      <td>6.960</td>\n",
       "      <td>42.68</td>\n",
       "      <td>1023.46</td>\n",
       "      <td>1.00</td>\n",
       "      <td>0</td>\n",
       "      <td>296.2</td>\n",
       "      <td>Not Rush</td>\n",
       "    </tr>\n",
       "    <tr>\n",
       "      <td>567721</td>\n",
       "      <td>17</td>\n",
       "      <td>12</td>\n",
       "      <td>Northeastern University</td>\n",
       "      <td>Back Bay</td>\n",
       "      <td>Lyft</td>\n",
       "      <td>Lux</td>\n",
       "      <td>1.48</td>\n",
       "      <td>1.0</td>\n",
       "      <td>38.75</td>\n",
       "      <td>33.51</td>\n",
       "      <td>...</td>\n",
       "      <td>0.84</td>\n",
       "      <td>7.19</td>\n",
       "      <td>8.88</td>\n",
       "      <td>8.325</td>\n",
       "      <td>34.41</td>\n",
       "      <td>1000.46</td>\n",
       "      <td>1.00</td>\n",
       "      <td>1</td>\n",
       "      <td>335.8</td>\n",
       "      <td>Not Rush</td>\n",
       "    </tr>\n",
       "    <tr>\n",
       "      <td>420338</td>\n",
       "      <td>29</td>\n",
       "      <td>11</td>\n",
       "      <td>South Station</td>\n",
       "      <td>North Station</td>\n",
       "      <td>Uber</td>\n",
       "      <td>Black</td>\n",
       "      <td>2.29</td>\n",
       "      <td>1.0</td>\n",
       "      <td>41.39</td>\n",
       "      <td>36.08</td>\n",
       "      <td>...</td>\n",
       "      <td>0.58</td>\n",
       "      <td>8.41</td>\n",
       "      <td>15.95</td>\n",
       "      <td>9.994</td>\n",
       "      <td>27.59</td>\n",
       "      <td>1006.23</td>\n",
       "      <td>0.22</td>\n",
       "      <td>1</td>\n",
       "      <td>331.8</td>\n",
       "      <td>Not Rush</td>\n",
       "    </tr>\n",
       "    <tr>\n",
       "      <td>115291</td>\n",
       "      <td>26</td>\n",
       "      <td>11</td>\n",
       "      <td>South Station</td>\n",
       "      <td>Financial District</td>\n",
       "      <td>Uber</td>\n",
       "      <td>UberPool</td>\n",
       "      <td>0.54</td>\n",
       "      <td>1.0</td>\n",
       "      <td>44.15</td>\n",
       "      <td>42.54</td>\n",
       "      <td>...</td>\n",
       "      <td>0.93</td>\n",
       "      <td>3.53</td>\n",
       "      <td>3.90</td>\n",
       "      <td>8.561</td>\n",
       "      <td>42.14</td>\n",
       "      <td>1014.19</td>\n",
       "      <td>1.00</td>\n",
       "      <td>1</td>\n",
       "      <td>295.0</td>\n",
       "      <td>Not Rush</td>\n",
       "    </tr>\n",
       "    <tr>\n",
       "      <td>...</td>\n",
       "      <td>...</td>\n",
       "      <td>...</td>\n",
       "      <td>...</td>\n",
       "      <td>...</td>\n",
       "      <td>...</td>\n",
       "      <td>...</td>\n",
       "      <td>...</td>\n",
       "      <td>...</td>\n",
       "      <td>...</td>\n",
       "      <td>...</td>\n",
       "      <td>...</td>\n",
       "      <td>...</td>\n",
       "      <td>...</td>\n",
       "      <td>...</td>\n",
       "      <td>...</td>\n",
       "      <td>...</td>\n",
       "      <td>...</td>\n",
       "      <td>...</td>\n",
       "      <td>...</td>\n",
       "      <td>...</td>\n",
       "      <td>...</td>\n",
       "    </tr>\n",
       "    <tr>\n",
       "      <td>211545</td>\n",
       "      <td>29</td>\n",
       "      <td>11</td>\n",
       "      <td>Fenway</td>\n",
       "      <td>North Station</td>\n",
       "      <td>Lyft</td>\n",
       "      <td>Lyft XL</td>\n",
       "      <td>3.23</td>\n",
       "      <td>1.0</td>\n",
       "      <td>38.35</td>\n",
       "      <td>32.50</td>\n",
       "      <td>...</td>\n",
       "      <td>0.64</td>\n",
       "      <td>8.14</td>\n",
       "      <td>11.55</td>\n",
       "      <td>9.960</td>\n",
       "      <td>27.39</td>\n",
       "      <td>1004.90</td>\n",
       "      <td>0.29</td>\n",
       "      <td>0</td>\n",
       "      <td>341.8</td>\n",
       "      <td>Not Rush</td>\n",
       "    </tr>\n",
       "    <tr>\n",
       "      <td>624468</td>\n",
       "      <td>14</td>\n",
       "      <td>12</td>\n",
       "      <td>Financial District</td>\n",
       "      <td>Boston University</td>\n",
       "      <td>Lyft</td>\n",
       "      <td>Lyft XL</td>\n",
       "      <td>5.34</td>\n",
       "      <td>1.0</td>\n",
       "      <td>45.82</td>\n",
       "      <td>43.92</td>\n",
       "      <td>...</td>\n",
       "      <td>0.53</td>\n",
       "      <td>4.16</td>\n",
       "      <td>4.16</td>\n",
       "      <td>9.874</td>\n",
       "      <td>29.78</td>\n",
       "      <td>1029.37</td>\n",
       "      <td>0.39</td>\n",
       "      <td>0</td>\n",
       "      <td>289.0</td>\n",
       "      <td>Not Rush</td>\n",
       "    </tr>\n",
       "    <tr>\n",
       "      <td>508853</td>\n",
       "      <td>16</td>\n",
       "      <td>12</td>\n",
       "      <td>Back Bay</td>\n",
       "      <td>North End</td>\n",
       "      <td>Uber</td>\n",
       "      <td>WAV</td>\n",
       "      <td>3.17</td>\n",
       "      <td>1.0</td>\n",
       "      <td>42.85</td>\n",
       "      <td>38.10</td>\n",
       "      <td>...</td>\n",
       "      <td>0.73</td>\n",
       "      <td>7.92</td>\n",
       "      <td>12.70</td>\n",
       "      <td>9.984</td>\n",
       "      <td>34.93</td>\n",
       "      <td>1014.49</td>\n",
       "      <td>0.96</td>\n",
       "      <td>0</td>\n",
       "      <td>322.3</td>\n",
       "      <td>Rush</td>\n",
       "    </tr>\n",
       "    <tr>\n",
       "      <td>378798</td>\n",
       "      <td>3</td>\n",
       "      <td>12</td>\n",
       "      <td>South Station</td>\n",
       "      <td>Theatre District</td>\n",
       "      <td>Uber</td>\n",
       "      <td>UberPool</td>\n",
       "      <td>1.30</td>\n",
       "      <td>1.0</td>\n",
       "      <td>47.87</td>\n",
       "      <td>47.87</td>\n",
       "      <td>...</td>\n",
       "      <td>0.93</td>\n",
       "      <td>2.77</td>\n",
       "      <td>4.54</td>\n",
       "      <td>2.069</td>\n",
       "      <td>46.01</td>\n",
       "      <td>1000.30</td>\n",
       "      <td>1.00</td>\n",
       "      <td>0</td>\n",
       "      <td>300.5</td>\n",
       "      <td>Not Rush</td>\n",
       "    </tr>\n",
       "    <tr>\n",
       "      <td>220668</td>\n",
       "      <td>16</td>\n",
       "      <td>12</td>\n",
       "      <td>Haymarket Square</td>\n",
       "      <td>West End</td>\n",
       "      <td>Lyft</td>\n",
       "      <td>Shared</td>\n",
       "      <td>0.58</td>\n",
       "      <td>1.0</td>\n",
       "      <td>42.84</td>\n",
       "      <td>37.91</td>\n",
       "      <td>...</td>\n",
       "      <td>0.72</td>\n",
       "      <td>8.28</td>\n",
       "      <td>10.42</td>\n",
       "      <td>9.858</td>\n",
       "      <td>34.27</td>\n",
       "      <td>1014.20</td>\n",
       "      <td>0.92</td>\n",
       "      <td>0</td>\n",
       "      <td>322.1</td>\n",
       "      <td>Rush</td>\n",
       "    </tr>\n",
       "  </tbody>\n",
       "</table>\n",
       "<p>478482 rows × 23 columns</p>\n",
       "</div>"
      ],
      "text/plain": [
       "        day  month                   source              destination cab_type  \\\n",
       "326498   16     12  Northeastern University         Theatre District     Uber   \n",
       "587843   15     12            North Station  Northeastern University     Lyft   \n",
       "567721   17     12  Northeastern University                 Back Bay     Lyft   \n",
       "420338   29     11            South Station            North Station     Uber   \n",
       "115291   26     11            South Station       Financial District     Uber   \n",
       "...     ...    ...                      ...                      ...      ...   \n",
       "211545   29     11                   Fenway            North Station     Lyft   \n",
       "624468   14     12       Financial District        Boston University     Lyft   \n",
       "508853   16     12                 Back Bay                North End     Uber   \n",
       "378798    3     12            South Station         Theatre District     Uber   \n",
       "220668   16     12         Haymarket Square                 West End     Lyft   \n",
       "\n",
       "             name  distance  surge_multiplier  temperature  \\\n",
       "326498      Black      1.91               1.0        43.06   \n",
       "587843  Lux Black      3.34               1.0        43.94   \n",
       "567721        Lux      1.48               1.0        38.75   \n",
       "420338      Black      2.29               1.0        41.39   \n",
       "115291   UberPool      0.54               1.0        44.15   \n",
       "...           ...       ...               ...          ...   \n",
       "211545    Lyft XL      3.23               1.0        38.35   \n",
       "624468    Lyft XL      5.34               1.0        45.82   \n",
       "508853        WAV      3.17               1.0        42.85   \n",
       "378798   UberPool      1.30               1.0        47.87   \n",
       "220668     Shared      0.58               1.0        42.84   \n",
       "\n",
       "        apparentTemperature  ... humidity  windSpeed  windGust  visibility  \\\n",
       "326498                38.26  ...     0.71       8.12     13.44      10.000   \n",
       "587843                41.06  ...     0.95       5.05      8.47       6.960   \n",
       "567721                33.51  ...     0.84       7.19      8.88       8.325   \n",
       "420338                36.08  ...     0.58       8.41     15.95       9.994   \n",
       "115291                42.54  ...     0.93       3.53      3.90       8.561   \n",
       "...                     ...  ...      ...        ...       ...         ...   \n",
       "211545                32.50  ...     0.64       8.14     11.55       9.960   \n",
       "624468                43.92  ...     0.53       4.16      4.16       9.874   \n",
       "508853                38.10  ...     0.73       7.92     12.70       9.984   \n",
       "378798                47.87  ...     0.93       2.77      4.54       2.069   \n",
       "220668                37.91  ...     0.72       8.28     10.42       9.858   \n",
       "\n",
       "        dewPoint  pressure  cloudCover  uvIndex  ozone  Rush Hour  \n",
       "326498     34.25   1015.00        1.00        0  322.7   Not Rush  \n",
       "587843     42.68   1023.46        1.00        0  296.2   Not Rush  \n",
       "567721     34.41   1000.46        1.00        1  335.8   Not Rush  \n",
       "420338     27.59   1006.23        0.22        1  331.8   Not Rush  \n",
       "115291     42.14   1014.19        1.00        1  295.0   Not Rush  \n",
       "...          ...       ...         ...      ...    ...        ...  \n",
       "211545     27.39   1004.90        0.29        0  341.8   Not Rush  \n",
       "624468     29.78   1029.37        0.39        0  289.0   Not Rush  \n",
       "508853     34.93   1014.49        0.96        0  322.3       Rush  \n",
       "378798     46.01   1000.30        1.00        0  300.5   Not Rush  \n",
       "220668     34.27   1014.20        0.92        0  322.1       Rush  \n",
       "\n",
       "[478482 rows x 23 columns]"
      ]
     },
     "execution_count": 256,
     "metadata": {
      "tags": []
     },
     "output_type": "execute_result"
    }
   ],
   "source": [
    "X_train"
   ]
  },
  {
   "cell_type": "markdown",
   "metadata": {
    "id": "Q3Wv7dJZlqC3"
   },
   "source": [
    "#### Data Wrangling: One-Hot Encoding, Min-Max Scaling\n",
    "Here, we scale the continuous variables and one-hot encode the categorical variables"
   ]
  },
  {
   "cell_type": "code",
   "execution_count": null,
   "metadata": {
    "id": "xKI-VWv7lqC4"
   },
   "outputs": [],
   "source": [
    "from sklearn.preprocessing import StandardScaler\n",
    "from sklearn.preprocessing import MinMaxScaler\n",
    "from sklearn.preprocessing import OneHotEncoder\n",
    "\n",
    "# provides a list of all of the features, continuous and categorical both included\n",
    "all_features = features.columns.to_list()\n",
    "\n",
    "# list of all of the categorical features\n",
    "categorical_features = [\"source\", \"destination\", \"cab_type\", \"name\", \"short_summary\", \"Rush Hour\"]\n",
    "\n",
    "# creates a list of the continuous features by filtering out the categorical features from the list \n",
    "# of all the features\n",
    "continuous_features = list(filter(lambda x: x not in categorical_features, all_features))\n",
    "\n",
    "# tuple contianing the MinMaxScaler which is to be scaled on the continuous features\n",
    "min_max = (\"min_max\", MinMaxScaler(), continuous_features)\n",
    "\n",
    "# tuple containing the OneHotEncoder which is to be used to encode the categorical variables\n",
    "# so that the overall dataset becomes numeric\n",
    "one_hot_encoder = (\"one-hot\", OneHotEncoder(sparse=False), categorical_features)\n",
    "\n",
    "# scales ONLY the continuous features as specified by the tuple and \n",
    "# encodes ONLY the categorial features as specified by the tuple\n",
    "min_max_scaler = ColumnTransformer(transformers = [min_max, one_hot_encoder])\n",
    "\n",
    "# encodes ONLY the categorial features specified by the tuple\n",
    "one_hot_encode = ColumnTransformer(transformers = [one_hot_encoder], remainder='passthrough')\n",
    "\n",
    "# training data with one-hot encoding applied\n",
    "X_train_encoded = one_hot_encode.fit_transform(X_train)\n",
    "# testing data with one-hot encoding applied\n",
    "X_test_encoded = one_hot_encode.fit_transform(X_test)\n",
    "\n",
    "# training data with one-hot encoding and min-max scaling applied\n",
    "X_train_min_max = min_max_scaler.fit_transform(X_train)\n",
    "# testing data with one-hot encoding and min-max scaling applied\n",
    "X_test_min_max = min_max_scaler.fit_transform(X_test)"
   ]
  },
  {
   "cell_type": "code",
   "execution_count": null,
   "metadata": {
    "id": "2zaVBro0lqC4",
    "outputId": "6020a946-be9b-4796-c8bc-dcf0c29f02b7"
   },
   "outputs": [
    {
     "data": {
      "text/html": [
       "<div>\n",
       "<style scoped>\n",
       "    .dataframe tbody tr th:only-of-type {\n",
       "        vertical-align: middle;\n",
       "    }\n",
       "\n",
       "    .dataframe tbody tr th {\n",
       "        vertical-align: top;\n",
       "    }\n",
       "\n",
       "    .dataframe thead th {\n",
       "        text-align: right;\n",
       "    }\n",
       "</style>\n",
       "<table border=\"1\" class=\"dataframe\">\n",
       "  <thead>\n",
       "    <tr style=\"text-align: right;\">\n",
       "      <th></th>\n",
       "      <th>0</th>\n",
       "      <th>1</th>\n",
       "      <th>2</th>\n",
       "      <th>3</th>\n",
       "      <th>4</th>\n",
       "      <th>5</th>\n",
       "      <th>6</th>\n",
       "      <th>7</th>\n",
       "      <th>8</th>\n",
       "      <th>9</th>\n",
       "      <th>...</th>\n",
       "      <th>56</th>\n",
       "      <th>57</th>\n",
       "      <th>58</th>\n",
       "      <th>59</th>\n",
       "      <th>60</th>\n",
       "      <th>61</th>\n",
       "      <th>62</th>\n",
       "      <th>63</th>\n",
       "      <th>64</th>\n",
       "      <th>65</th>\n",
       "    </tr>\n",
       "  </thead>\n",
       "  <tbody>\n",
       "    <tr>\n",
       "      <td>0</td>\n",
       "      <td>0.517241</td>\n",
       "      <td>1.0</td>\n",
       "      <td>0.241071</td>\n",
       "      <td>0.0</td>\n",
       "      <td>0.630384</td>\n",
       "      <td>0.579508</td>\n",
       "      <td>0.00000</td>\n",
       "      <td>0.00</td>\n",
       "      <td>0.568966</td>\n",
       "      <td>0.527148</td>\n",
       "      <td>...</td>\n",
       "      <td>0.0</td>\n",
       "      <td>0.0</td>\n",
       "      <td>0.0</td>\n",
       "      <td>0.0</td>\n",
       "      <td>1.0</td>\n",
       "      <td>0.0</td>\n",
       "      <td>0.0</td>\n",
       "      <td>0.0</td>\n",
       "      <td>1.0</td>\n",
       "      <td>0.0</td>\n",
       "    </tr>\n",
       "    <tr>\n",
       "      <td>1</td>\n",
       "      <td>0.482759</td>\n",
       "      <td>1.0</td>\n",
       "      <td>0.423469</td>\n",
       "      <td>0.0</td>\n",
       "      <td>0.653354</td>\n",
       "      <td>0.641606</td>\n",
       "      <td>0.00000</td>\n",
       "      <td>0.00</td>\n",
       "      <td>0.982759</td>\n",
       "      <td>0.316151</td>\n",
       "      <td>...</td>\n",
       "      <td>0.0</td>\n",
       "      <td>0.0</td>\n",
       "      <td>0.0</td>\n",
       "      <td>0.0</td>\n",
       "      <td>1.0</td>\n",
       "      <td>0.0</td>\n",
       "      <td>0.0</td>\n",
       "      <td>0.0</td>\n",
       "      <td>1.0</td>\n",
       "      <td>0.0</td>\n",
       "    </tr>\n",
       "    <tr>\n",
       "      <td>2</td>\n",
       "      <td>0.551724</td>\n",
       "      <td>1.0</td>\n",
       "      <td>0.186224</td>\n",
       "      <td>0.0</td>\n",
       "      <td>0.517880</td>\n",
       "      <td>0.474163</td>\n",
       "      <td>0.00000</td>\n",
       "      <td>0.00</td>\n",
       "      <td>0.793103</td>\n",
       "      <td>0.463230</td>\n",
       "      <td>...</td>\n",
       "      <td>0.0</td>\n",
       "      <td>0.0</td>\n",
       "      <td>0.0</td>\n",
       "      <td>0.0</td>\n",
       "      <td>1.0</td>\n",
       "      <td>0.0</td>\n",
       "      <td>0.0</td>\n",
       "      <td>0.0</td>\n",
       "      <td>1.0</td>\n",
       "      <td>0.0</td>\n",
       "    </tr>\n",
       "    <tr>\n",
       "      <td>3</td>\n",
       "      <td>0.965517</td>\n",
       "      <td>0.0</td>\n",
       "      <td>0.289541</td>\n",
       "      <td>0.0</td>\n",
       "      <td>0.586792</td>\n",
       "      <td>0.531160</td>\n",
       "      <td>0.00000</td>\n",
       "      <td>0.00</td>\n",
       "      <td>0.344828</td>\n",
       "      <td>0.547079</td>\n",
       "      <td>...</td>\n",
       "      <td>0.0</td>\n",
       "      <td>0.0</td>\n",
       "      <td>0.0</td>\n",
       "      <td>0.0</td>\n",
       "      <td>0.0</td>\n",
       "      <td>1.0</td>\n",
       "      <td>0.0</td>\n",
       "      <td>0.0</td>\n",
       "      <td>1.0</td>\n",
       "      <td>0.0</td>\n",
       "    </tr>\n",
       "    <tr>\n",
       "      <td>4</td>\n",
       "      <td>0.862069</td>\n",
       "      <td>0.0</td>\n",
       "      <td>0.066327</td>\n",
       "      <td>0.0</td>\n",
       "      <td>0.658836</td>\n",
       "      <td>0.674429</td>\n",
       "      <td>0.05114</td>\n",
       "      <td>0.86</td>\n",
       "      <td>0.948276</td>\n",
       "      <td>0.211684</td>\n",
       "      <td>...</td>\n",
       "      <td>1.0</td>\n",
       "      <td>0.0</td>\n",
       "      <td>0.0</td>\n",
       "      <td>0.0</td>\n",
       "      <td>0.0</td>\n",
       "      <td>0.0</td>\n",
       "      <td>0.0</td>\n",
       "      <td>0.0</td>\n",
       "      <td>1.0</td>\n",
       "      <td>0.0</td>\n",
       "    </tr>\n",
       "    <tr>\n",
       "      <td>...</td>\n",
       "      <td>...</td>\n",
       "      <td>...</td>\n",
       "      <td>...</td>\n",
       "      <td>...</td>\n",
       "      <td>...</td>\n",
       "      <td>...</td>\n",
       "      <td>...</td>\n",
       "      <td>...</td>\n",
       "      <td>...</td>\n",
       "      <td>...</td>\n",
       "      <td>...</td>\n",
       "      <td>...</td>\n",
       "      <td>...</td>\n",
       "      <td>...</td>\n",
       "      <td>...</td>\n",
       "      <td>...</td>\n",
       "      <td>...</td>\n",
       "      <td>...</td>\n",
       "      <td>...</td>\n",
       "      <td>...</td>\n",
       "      <td>...</td>\n",
       "    </tr>\n",
       "    <tr>\n",
       "      <td>478477</td>\n",
       "      <td>0.965517</td>\n",
       "      <td>0.0</td>\n",
       "      <td>0.409439</td>\n",
       "      <td>0.0</td>\n",
       "      <td>0.507439</td>\n",
       "      <td>0.451763</td>\n",
       "      <td>0.00000</td>\n",
       "      <td>0.00</td>\n",
       "      <td>0.448276</td>\n",
       "      <td>0.528522</td>\n",
       "      <td>...</td>\n",
       "      <td>0.0</td>\n",
       "      <td>0.0</td>\n",
       "      <td>0.0</td>\n",
       "      <td>0.0</td>\n",
       "      <td>0.0</td>\n",
       "      <td>1.0</td>\n",
       "      <td>0.0</td>\n",
       "      <td>0.0</td>\n",
       "      <td>1.0</td>\n",
       "      <td>0.0</td>\n",
       "    </tr>\n",
       "    <tr>\n",
       "      <td>478478</td>\n",
       "      <td>0.448276</td>\n",
       "      <td>1.0</td>\n",
       "      <td>0.678571</td>\n",
       "      <td>0.0</td>\n",
       "      <td>0.702428</td>\n",
       "      <td>0.705034</td>\n",
       "      <td>0.00000</td>\n",
       "      <td>0.00</td>\n",
       "      <td>0.258621</td>\n",
       "      <td>0.254983</td>\n",
       "      <td>...</td>\n",
       "      <td>0.0</td>\n",
       "      <td>0.0</td>\n",
       "      <td>0.0</td>\n",
       "      <td>0.0</td>\n",
       "      <td>0.0</td>\n",
       "      <td>1.0</td>\n",
       "      <td>0.0</td>\n",
       "      <td>0.0</td>\n",
       "      <td>1.0</td>\n",
       "      <td>0.0</td>\n",
       "    </tr>\n",
       "    <tr>\n",
       "      <td>478479</td>\n",
       "      <td>0.517241</td>\n",
       "      <td>1.0</td>\n",
       "      <td>0.401786</td>\n",
       "      <td>0.0</td>\n",
       "      <td>0.624902</td>\n",
       "      <td>0.575959</td>\n",
       "      <td>0.00000</td>\n",
       "      <td>0.00</td>\n",
       "      <td>0.603448</td>\n",
       "      <td>0.513402</td>\n",
       "      <td>...</td>\n",
       "      <td>0.0</td>\n",
       "      <td>0.0</td>\n",
       "      <td>0.0</td>\n",
       "      <td>0.0</td>\n",
       "      <td>1.0</td>\n",
       "      <td>0.0</td>\n",
       "      <td>0.0</td>\n",
       "      <td>0.0</td>\n",
       "      <td>0.0</td>\n",
       "      <td>1.0</td>\n",
       "    </tr>\n",
       "    <tr>\n",
       "      <td>478480</td>\n",
       "      <td>0.068966</td>\n",
       "      <td>1.0</td>\n",
       "      <td>0.163265</td>\n",
       "      <td>0.0</td>\n",
       "      <td>0.755938</td>\n",
       "      <td>0.792637</td>\n",
       "      <td>0.00000</td>\n",
       "      <td>0.00</td>\n",
       "      <td>0.948276</td>\n",
       "      <td>0.159450</td>\n",
       "      <td>...</td>\n",
       "      <td>0.0</td>\n",
       "      <td>0.0</td>\n",
       "      <td>0.0</td>\n",
       "      <td>0.0</td>\n",
       "      <td>1.0</td>\n",
       "      <td>0.0</td>\n",
       "      <td>0.0</td>\n",
       "      <td>0.0</td>\n",
       "      <td>1.0</td>\n",
       "      <td>0.0</td>\n",
       "    </tr>\n",
       "    <tr>\n",
       "      <td>478481</td>\n",
       "      <td>0.517241</td>\n",
       "      <td>1.0</td>\n",
       "      <td>0.071429</td>\n",
       "      <td>0.0</td>\n",
       "      <td>0.624641</td>\n",
       "      <td>0.571745</td>\n",
       "      <td>0.00000</td>\n",
       "      <td>0.00</td>\n",
       "      <td>0.586207</td>\n",
       "      <td>0.538144</td>\n",
       "      <td>...</td>\n",
       "      <td>0.0</td>\n",
       "      <td>0.0</td>\n",
       "      <td>0.0</td>\n",
       "      <td>0.0</td>\n",
       "      <td>1.0</td>\n",
       "      <td>0.0</td>\n",
       "      <td>0.0</td>\n",
       "      <td>0.0</td>\n",
       "      <td>0.0</td>\n",
       "      <td>1.0</td>\n",
       "    </tr>\n",
       "  </tbody>\n",
       "</table>\n",
       "<p>478482 rows × 66 columns</p>\n",
       "</div>"
      ],
      "text/plain": [
       "              0    1         2    3         4         5        6     7   \\\n",
       "0       0.517241  1.0  0.241071  0.0  0.630384  0.579508  0.00000  0.00   \n",
       "1       0.482759  1.0  0.423469  0.0  0.653354  0.641606  0.00000  0.00   \n",
       "2       0.551724  1.0  0.186224  0.0  0.517880  0.474163  0.00000  0.00   \n",
       "3       0.965517  0.0  0.289541  0.0  0.586792  0.531160  0.00000  0.00   \n",
       "4       0.862069  0.0  0.066327  0.0  0.658836  0.674429  0.05114  0.86   \n",
       "...          ...  ...       ...  ...       ...       ...      ...   ...   \n",
       "478477  0.965517  0.0  0.409439  0.0  0.507439  0.451763  0.00000  0.00   \n",
       "478478  0.448276  1.0  0.678571  0.0  0.702428  0.705034  0.00000  0.00   \n",
       "478479  0.517241  1.0  0.401786  0.0  0.624902  0.575959  0.00000  0.00   \n",
       "478480  0.068966  1.0  0.163265  0.0  0.755938  0.792637  0.00000  0.00   \n",
       "478481  0.517241  1.0  0.071429  0.0  0.624641  0.571745  0.00000  0.00   \n",
       "\n",
       "              8         9   ...   56   57   58   59   60   61   62   63   64  \\\n",
       "0       0.568966  0.527148  ...  0.0  0.0  0.0  0.0  1.0  0.0  0.0  0.0  1.0   \n",
       "1       0.982759  0.316151  ...  0.0  0.0  0.0  0.0  1.0  0.0  0.0  0.0  1.0   \n",
       "2       0.793103  0.463230  ...  0.0  0.0  0.0  0.0  1.0  0.0  0.0  0.0  1.0   \n",
       "3       0.344828  0.547079  ...  0.0  0.0  0.0  0.0  0.0  1.0  0.0  0.0  1.0   \n",
       "4       0.948276  0.211684  ...  1.0  0.0  0.0  0.0  0.0  0.0  0.0  0.0  1.0   \n",
       "...          ...       ...  ...  ...  ...  ...  ...  ...  ...  ...  ...  ...   \n",
       "478477  0.448276  0.528522  ...  0.0  0.0  0.0  0.0  0.0  1.0  0.0  0.0  1.0   \n",
       "478478  0.258621  0.254983  ...  0.0  0.0  0.0  0.0  0.0  1.0  0.0  0.0  1.0   \n",
       "478479  0.603448  0.513402  ...  0.0  0.0  0.0  0.0  1.0  0.0  0.0  0.0  0.0   \n",
       "478480  0.948276  0.159450  ...  0.0  0.0  0.0  0.0  1.0  0.0  0.0  0.0  1.0   \n",
       "478481  0.586207  0.538144  ...  0.0  0.0  0.0  0.0  1.0  0.0  0.0  0.0  0.0   \n",
       "\n",
       "         65  \n",
       "0       0.0  \n",
       "1       0.0  \n",
       "2       0.0  \n",
       "3       0.0  \n",
       "4       0.0  \n",
       "...     ...  \n",
       "478477  0.0  \n",
       "478478  0.0  \n",
       "478479  1.0  \n",
       "478480  0.0  \n",
       "478481  1.0  \n",
       "\n",
       "[478482 rows x 66 columns]"
      ]
     },
     "execution_count": 259,
     "metadata": {
      "tags": []
     },
     "output_type": "execute_result"
    }
   ],
   "source": [
    "pd.DataFrame(X_train_min_max)"
   ]
  },
  {
   "cell_type": "markdown",
   "metadata": {
    "id": "E5f2khSalqC4"
   },
   "source": [
    "#### Data Wrangling: Feature Selection\n",
    "\n",
    "Model-based feature selection is performed to select the most important features in our dataset "
   ]
  },
  {
   "cell_type": "code",
   "execution_count": null,
   "metadata": {
    "id": "HgsZvZWblqC5",
    "outputId": "86c0e101-e38f-4cc8-8a4d-cac8255c285f"
   },
   "outputs": [
    {
     "name": "stdout",
     "output_type": "stream",
     "text": [
      "Continuous features selected by model-based feature selection: ['distance', 'surge_multiplier', 'temperature', 'windSpeed', 'windGust', 'visibility', 'dewPoint', 'pressure', 'ozone']\n"
     ]
    }
   ],
   "source": [
    "from sklearn.feature_selection import SelectFromModel\n",
    "\n",
    "# model-based feature selection that uses the DecisionTreeRegressor to select features\n",
    "# whose weighted importance is greater than the median weighted importance\n",
    "model_based = SelectFromModel(DecisionTreeRegressor(random_state = 3000), threshold='median')\n",
    "\n",
    "# resets the indicies of the training data so merge operations can perform w/o data loss\n",
    "X_train.reset_index()\n",
    "# resets the indicies of the testing data so merge operations can perform w/o data loss\n",
    "X_test.reset_index()\n",
    "\n",
    "# scales and transforms the continuous training features using the min-max scaler\n",
    "X_train_selected = min_max_scaler.fit_transform(X_train)\n",
    "\n",
    "# performs feature selection on the scaled training data (X_train_selected)\n",
    "# categorial variables unfortunately get dropped, but are later added back\n",
    "partial_X_train_selected = model_based.fit_transform(pd.DataFrame(X_train_selected).iloc[:, 0:17], y_train)\n",
    "\n",
    "# scales and transforms the continuous testing features using the min-max scaler\n",
    "X_test_selected = min_max_scaler.fit_transform(X_test)\n",
    "\n",
    "# performs feature selection on the scaled testing data (X_test_selected)\n",
    "# categorial variables unfortunately get dropped, but are later added back\n",
    "partial_X_test_selected = model_based.fit_transform(pd.DataFrame(X_test_selected).iloc[:, 0:17], y_test)\n",
    "\n",
    "# combines the continuous training features that have been selected with the \n",
    "# one-hot encoded categorial training features\n",
    "X_train_selected = pd.merge(pd.DataFrame(partial_X_train_selected), pd.DataFrame(X_train_selected).iloc[:, 17:], \n",
    "                           left_index=True, right_index=True, how=\"inner\")\n",
    "\n",
    "# combines the continuous testing features that have been selected with the \n",
    "# one-hot encoded categorial testing features\n",
    "X_test_selected = pd.merge(pd.DataFrame(partial_X_test_selected), pd.DataFrame(X_test_selected).iloc[:, 17:], \n",
    "                           left_index=True, right_index=True, how=\"inner\")\n",
    "\n",
    "\n",
    "# creates a list of the continuous features that remain after model-based feature selection \n",
    "# has beenp erformed\n",
    "filtered_continuous = []\n",
    "for mask, var in zip(model_based.get_support(), continuous_features):\n",
    "    if mask:\n",
    "        filtered_continuous.append(var)\n",
    "\n",
    "# one-hot encoder object\n",
    "encoder = OneHotEncoder(sparse = False)\n",
    "\n",
    "# dataframe containing the categorical variables that need to be encoded\n",
    "features_to_encode = modified_ride_share_df[[\"source\", \"destination\", \"cab_type\", \"name\", \"short_summary\", \"Rush Hour\"]]\n",
    "\n",
    "# contains a dataframe with the encoded features\n",
    "encoded_features = encoder.fit_transform(features_to_encode)\n",
    "\n",
    "# list that contains the names of the features after being encoded\n",
    "listOfColumns = encoder.get_feature_names()\n",
    "\n",
    "# the features names are of the form xi_[value]\n",
    "# to make that more readable, these mappings are used to relate xi to the actual names\n",
    "mappings = {\n",
    "    \"x0\" : \"source\",\n",
    "    \"x1\" : \"destination\",\n",
    "    \"x2\" : \"cab_type\",\n",
    "    \"x3\" : \"name\",\n",
    "    \"x4\" : \"short_summary\",\n",
    "    \"x5\" : \"Rush_Hour\"\n",
    "}\n",
    "\n",
    "# maps the list of the feature names so that their actual names are shown \n",
    "# as opposed to being in the form xi_value\n",
    "for i in range(0, len(listOfColumns)):\n",
    "    new_str = mappings[listOfColumns[i][0:2]] + listOfColumns[i][2:] \n",
    "    new_str = new_str.replace(\" \", \"\")\n",
    "    listOfColumns[i] = new_str\n",
    "\n",
    "# listing containing all of the column names, which consists of the selected continuous features\n",
    "# and the encoded features\n",
    "new_columns = filtered_continuous + listOfColumns.tolist()\n",
    "\n",
    "# sets the column names of the training data to the selected continuous \n",
    "# features and the encoded feature names\n",
    "X_train_selected.columns = new_columns\n",
    "\n",
    "# sets the column names of the testing data to the selected continuous \n",
    "# features and the encoded feature names\n",
    "X_test_selected.columns = new_columns\n",
    "\n",
    "# prints the continuous features selected by the model-based feature selection\n",
    "print(f'Continuous features selected by model-based feature selection: {filtered_continuous}')"
   ]
  },
  {
   "cell_type": "code",
   "execution_count": null,
   "metadata": {
    "id": "7TyzxtezlqC5",
    "outputId": "7aadbe4c-272b-4b59-afb2-b32dc3001d71"
   },
   "outputs": [
    {
     "data": {
      "text/html": [
       "<div>\n",
       "<style scoped>\n",
       "    .dataframe tbody tr th:only-of-type {\n",
       "        vertical-align: middle;\n",
       "    }\n",
       "\n",
       "    .dataframe tbody tr th {\n",
       "        vertical-align: top;\n",
       "    }\n",
       "\n",
       "    .dataframe thead th {\n",
       "        text-align: right;\n",
       "    }\n",
       "</style>\n",
       "<table border=\"1\" class=\"dataframe\">\n",
       "  <thead>\n",
       "    <tr style=\"text-align: right;\">\n",
       "      <th></th>\n",
       "      <th>distance</th>\n",
       "      <th>surge_multiplier</th>\n",
       "      <th>temperature</th>\n",
       "      <th>windSpeed</th>\n",
       "      <th>windGust</th>\n",
       "      <th>visibility</th>\n",
       "      <th>dewPoint</th>\n",
       "      <th>pressure</th>\n",
       "      <th>ozone</th>\n",
       "      <th>source_BackBay</th>\n",
       "      <th>...</th>\n",
       "      <th>short_summary_Drizzle</th>\n",
       "      <th>short_summary_Foggy</th>\n",
       "      <th>short_summary_LightRain</th>\n",
       "      <th>short_summary_MostlyCloudy</th>\n",
       "      <th>short_summary_Overcast</th>\n",
       "      <th>short_summary_PartlyCloudy</th>\n",
       "      <th>short_summary_PossibleDrizzle</th>\n",
       "      <th>short_summary_Rain</th>\n",
       "      <th>Rush_Hour_NotRush</th>\n",
       "      <th>Rush_Hour_Rush</th>\n",
       "    </tr>\n",
       "  </thead>\n",
       "  <tbody>\n",
       "    <tr>\n",
       "      <td>0</td>\n",
       "      <td>0.241071</td>\n",
       "      <td>0.0</td>\n",
       "      <td>0.579508</td>\n",
       "      <td>0.527148</td>\n",
       "      <td>0.477883</td>\n",
       "      <td>1.000000</td>\n",
       "      <td>0.645203</td>\n",
       "      <td>0.567004</td>\n",
       "      <td>0.486758</td>\n",
       "      <td>0.0</td>\n",
       "      <td>...</td>\n",
       "      <td>0.0</td>\n",
       "      <td>0.0</td>\n",
       "      <td>0.0</td>\n",
       "      <td>0.0</td>\n",
       "      <td>1.0</td>\n",
       "      <td>0.0</td>\n",
       "      <td>0.0</td>\n",
       "      <td>0.0</td>\n",
       "      <td>1.0</td>\n",
       "      <td>0.0</td>\n",
       "    </tr>\n",
       "    <tr>\n",
       "      <td>1</td>\n",
       "      <td>0.423469</td>\n",
       "      <td>0.0</td>\n",
       "      <td>0.641606</td>\n",
       "      <td>0.316151</td>\n",
       "      <td>0.289981</td>\n",
       "      <td>0.672520</td>\n",
       "      <td>0.827355</td>\n",
       "      <td>0.745259</td>\n",
       "      <td>0.244749</td>\n",
       "      <td>0.0</td>\n",
       "      <td>...</td>\n",
       "      <td>0.0</td>\n",
       "      <td>0.0</td>\n",
       "      <td>0.0</td>\n",
       "      <td>0.0</td>\n",
       "      <td>1.0</td>\n",
       "      <td>0.0</td>\n",
       "      <td>0.0</td>\n",
       "      <td>0.0</td>\n",
       "      <td>1.0</td>\n",
       "      <td>0.0</td>\n",
       "    </tr>\n",
       "    <tr>\n",
       "      <td>2</td>\n",
       "      <td>0.186224</td>\n",
       "      <td>0.0</td>\n",
       "      <td>0.474163</td>\n",
       "      <td>0.463230</td>\n",
       "      <td>0.305482</td>\n",
       "      <td>0.819563</td>\n",
       "      <td>0.648660</td>\n",
       "      <td>0.260641</td>\n",
       "      <td>0.606393</td>\n",
       "      <td>0.0</td>\n",
       "      <td>...</td>\n",
       "      <td>0.0</td>\n",
       "      <td>0.0</td>\n",
       "      <td>0.0</td>\n",
       "      <td>0.0</td>\n",
       "      <td>1.0</td>\n",
       "      <td>0.0</td>\n",
       "      <td>0.0</td>\n",
       "      <td>0.0</td>\n",
       "      <td>1.0</td>\n",
       "      <td>0.0</td>\n",
       "    </tr>\n",
       "    <tr>\n",
       "      <td>3</td>\n",
       "      <td>0.289541</td>\n",
       "      <td>0.0</td>\n",
       "      <td>0.531160</td>\n",
       "      <td>0.547079</td>\n",
       "      <td>0.572779</td>\n",
       "      <td>0.999354</td>\n",
       "      <td>0.501296</td>\n",
       "      <td>0.382217</td>\n",
       "      <td>0.569863</td>\n",
       "      <td>0.0</td>\n",
       "      <td>...</td>\n",
       "      <td>0.0</td>\n",
       "      <td>0.0</td>\n",
       "      <td>0.0</td>\n",
       "      <td>0.0</td>\n",
       "      <td>0.0</td>\n",
       "      <td>1.0</td>\n",
       "      <td>0.0</td>\n",
       "      <td>0.0</td>\n",
       "      <td>1.0</td>\n",
       "      <td>0.0</td>\n",
       "    </tr>\n",
       "    <tr>\n",
       "      <td>4</td>\n",
       "      <td>0.066327</td>\n",
       "      <td>0.0</td>\n",
       "      <td>0.674429</td>\n",
       "      <td>0.211684</td>\n",
       "      <td>0.117202</td>\n",
       "      <td>0.844985</td>\n",
       "      <td>0.815687</td>\n",
       "      <td>0.549937</td>\n",
       "      <td>0.233790</td>\n",
       "      <td>0.0</td>\n",
       "      <td>...</td>\n",
       "      <td>1.0</td>\n",
       "      <td>0.0</td>\n",
       "      <td>0.0</td>\n",
       "      <td>0.0</td>\n",
       "      <td>0.0</td>\n",
       "      <td>0.0</td>\n",
       "      <td>0.0</td>\n",
       "      <td>0.0</td>\n",
       "      <td>1.0</td>\n",
       "      <td>0.0</td>\n",
       "    </tr>\n",
       "    <tr>\n",
       "      <td>...</td>\n",
       "      <td>...</td>\n",
       "      <td>...</td>\n",
       "      <td>...</td>\n",
       "      <td>...</td>\n",
       "      <td>...</td>\n",
       "      <td>...</td>\n",
       "      <td>...</td>\n",
       "      <td>...</td>\n",
       "      <td>...</td>\n",
       "      <td>...</td>\n",
       "      <td>...</td>\n",
       "      <td>...</td>\n",
       "      <td>...</td>\n",
       "      <td>...</td>\n",
       "      <td>...</td>\n",
       "      <td>...</td>\n",
       "      <td>...</td>\n",
       "      <td>...</td>\n",
       "      <td>...</td>\n",
       "      <td>...</td>\n",
       "      <td>...</td>\n",
       "    </tr>\n",
       "    <tr>\n",
       "      <td>478477</td>\n",
       "      <td>0.409439</td>\n",
       "      <td>0.0</td>\n",
       "      <td>0.451763</td>\n",
       "      <td>0.528522</td>\n",
       "      <td>0.406427</td>\n",
       "      <td>0.995691</td>\n",
       "      <td>0.496975</td>\n",
       "      <td>0.354193</td>\n",
       "      <td>0.661187</td>\n",
       "      <td>0.0</td>\n",
       "      <td>...</td>\n",
       "      <td>0.0</td>\n",
       "      <td>0.0</td>\n",
       "      <td>0.0</td>\n",
       "      <td>0.0</td>\n",
       "      <td>0.0</td>\n",
       "      <td>1.0</td>\n",
       "      <td>0.0</td>\n",
       "      <td>0.0</td>\n",
       "      <td>1.0</td>\n",
       "      <td>0.0</td>\n",
       "    </tr>\n",
       "    <tr>\n",
       "      <td>478478</td>\n",
       "      <td>0.678571</td>\n",
       "      <td>0.0</td>\n",
       "      <td>0.705034</td>\n",
       "      <td>0.254983</td>\n",
       "      <td>0.127032</td>\n",
       "      <td>0.986427</td>\n",
       "      <td>0.548617</td>\n",
       "      <td>0.869785</td>\n",
       "      <td>0.178995</td>\n",
       "      <td>0.0</td>\n",
       "      <td>...</td>\n",
       "      <td>0.0</td>\n",
       "      <td>0.0</td>\n",
       "      <td>0.0</td>\n",
       "      <td>0.0</td>\n",
       "      <td>0.0</td>\n",
       "      <td>1.0</td>\n",
       "      <td>0.0</td>\n",
       "      <td>0.0</td>\n",
       "      <td>1.0</td>\n",
       "      <td>0.0</td>\n",
       "    </tr>\n",
       "    <tr>\n",
       "      <td>478479</td>\n",
       "      <td>0.401786</td>\n",
       "      <td>0.0</td>\n",
       "      <td>0.575959</td>\n",
       "      <td>0.513402</td>\n",
       "      <td>0.449905</td>\n",
       "      <td>0.998276</td>\n",
       "      <td>0.659896</td>\n",
       "      <td>0.556258</td>\n",
       "      <td>0.483105</td>\n",
       "      <td>1.0</td>\n",
       "      <td>...</td>\n",
       "      <td>0.0</td>\n",
       "      <td>0.0</td>\n",
       "      <td>0.0</td>\n",
       "      <td>0.0</td>\n",
       "      <td>1.0</td>\n",
       "      <td>0.0</td>\n",
       "      <td>0.0</td>\n",
       "      <td>0.0</td>\n",
       "      <td>0.0</td>\n",
       "      <td>1.0</td>\n",
       "    </tr>\n",
       "    <tr>\n",
       "      <td>478480</td>\n",
       "      <td>0.163265</td>\n",
       "      <td>0.0</td>\n",
       "      <td>0.792637</td>\n",
       "      <td>0.159450</td>\n",
       "      <td>0.141399</td>\n",
       "      <td>0.145643</td>\n",
       "      <td>0.899309</td>\n",
       "      <td>0.257269</td>\n",
       "      <td>0.284018</td>\n",
       "      <td>0.0</td>\n",
       "      <td>...</td>\n",
       "      <td>0.0</td>\n",
       "      <td>0.0</td>\n",
       "      <td>0.0</td>\n",
       "      <td>0.0</td>\n",
       "      <td>1.0</td>\n",
       "      <td>0.0</td>\n",
       "      <td>0.0</td>\n",
       "      <td>0.0</td>\n",
       "      <td>1.0</td>\n",
       "      <td>0.0</td>\n",
       "    </tr>\n",
       "    <tr>\n",
       "      <td>478481</td>\n",
       "      <td>0.071429</td>\n",
       "      <td>0.0</td>\n",
       "      <td>0.571745</td>\n",
       "      <td>0.538144</td>\n",
       "      <td>0.363705</td>\n",
       "      <td>0.984703</td>\n",
       "      <td>0.645635</td>\n",
       "      <td>0.550147</td>\n",
       "      <td>0.481279</td>\n",
       "      <td>0.0</td>\n",
       "      <td>...</td>\n",
       "      <td>0.0</td>\n",
       "      <td>0.0</td>\n",
       "      <td>0.0</td>\n",
       "      <td>0.0</td>\n",
       "      <td>1.0</td>\n",
       "      <td>0.0</td>\n",
       "      <td>0.0</td>\n",
       "      <td>0.0</td>\n",
       "      <td>0.0</td>\n",
       "      <td>1.0</td>\n",
       "    </tr>\n",
       "  </tbody>\n",
       "</table>\n",
       "<p>478482 rows × 58 columns</p>\n",
       "</div>"
      ],
      "text/plain": [
       "        distance  surge_multiplier  temperature  windSpeed  windGust  \\\n",
       "0       0.241071               0.0     0.579508   0.527148  0.477883   \n",
       "1       0.423469               0.0     0.641606   0.316151  0.289981   \n",
       "2       0.186224               0.0     0.474163   0.463230  0.305482   \n",
       "3       0.289541               0.0     0.531160   0.547079  0.572779   \n",
       "4       0.066327               0.0     0.674429   0.211684  0.117202   \n",
       "...          ...               ...          ...        ...       ...   \n",
       "478477  0.409439               0.0     0.451763   0.528522  0.406427   \n",
       "478478  0.678571               0.0     0.705034   0.254983  0.127032   \n",
       "478479  0.401786               0.0     0.575959   0.513402  0.449905   \n",
       "478480  0.163265               0.0     0.792637   0.159450  0.141399   \n",
       "478481  0.071429               0.0     0.571745   0.538144  0.363705   \n",
       "\n",
       "        visibility  dewPoint  pressure     ozone  source_BackBay  ...  \\\n",
       "0         1.000000  0.645203  0.567004  0.486758             0.0  ...   \n",
       "1         0.672520  0.827355  0.745259  0.244749             0.0  ...   \n",
       "2         0.819563  0.648660  0.260641  0.606393             0.0  ...   \n",
       "3         0.999354  0.501296  0.382217  0.569863             0.0  ...   \n",
       "4         0.844985  0.815687  0.549937  0.233790             0.0  ...   \n",
       "...            ...       ...       ...       ...             ...  ...   \n",
       "478477    0.995691  0.496975  0.354193  0.661187             0.0  ...   \n",
       "478478    0.986427  0.548617  0.869785  0.178995             0.0  ...   \n",
       "478479    0.998276  0.659896  0.556258  0.483105             1.0  ...   \n",
       "478480    0.145643  0.899309  0.257269  0.284018             0.0  ...   \n",
       "478481    0.984703  0.645635  0.550147  0.481279             0.0  ...   \n",
       "\n",
       "        short_summary_Drizzle  short_summary_Foggy  short_summary_LightRain  \\\n",
       "0                         0.0                  0.0                      0.0   \n",
       "1                         0.0                  0.0                      0.0   \n",
       "2                         0.0                  0.0                      0.0   \n",
       "3                         0.0                  0.0                      0.0   \n",
       "4                         1.0                  0.0                      0.0   \n",
       "...                       ...                  ...                      ...   \n",
       "478477                    0.0                  0.0                      0.0   \n",
       "478478                    0.0                  0.0                      0.0   \n",
       "478479                    0.0                  0.0                      0.0   \n",
       "478480                    0.0                  0.0                      0.0   \n",
       "478481                    0.0                  0.0                      0.0   \n",
       "\n",
       "        short_summary_MostlyCloudy  short_summary_Overcast  \\\n",
       "0                              0.0                     1.0   \n",
       "1                              0.0                     1.0   \n",
       "2                              0.0                     1.0   \n",
       "3                              0.0                     0.0   \n",
       "4                              0.0                     0.0   \n",
       "...                            ...                     ...   \n",
       "478477                         0.0                     0.0   \n",
       "478478                         0.0                     0.0   \n",
       "478479                         0.0                     1.0   \n",
       "478480                         0.0                     1.0   \n",
       "478481                         0.0                     1.0   \n",
       "\n",
       "        short_summary_PartlyCloudy  short_summary_PossibleDrizzle  \\\n",
       "0                              0.0                            0.0   \n",
       "1                              0.0                            0.0   \n",
       "2                              0.0                            0.0   \n",
       "3                              1.0                            0.0   \n",
       "4                              0.0                            0.0   \n",
       "...                            ...                            ...   \n",
       "478477                         1.0                            0.0   \n",
       "478478                         1.0                            0.0   \n",
       "478479                         0.0                            0.0   \n",
       "478480                         0.0                            0.0   \n",
       "478481                         0.0                            0.0   \n",
       "\n",
       "        short_summary_Rain  Rush_Hour_NotRush  Rush_Hour_Rush  \n",
       "0                      0.0                1.0             0.0  \n",
       "1                      0.0                1.0             0.0  \n",
       "2                      0.0                1.0             0.0  \n",
       "3                      0.0                1.0             0.0  \n",
       "4                      0.0                1.0             0.0  \n",
       "...                    ...                ...             ...  \n",
       "478477                 0.0                1.0             0.0  \n",
       "478478                 0.0                1.0             0.0  \n",
       "478479                 0.0                0.0             1.0  \n",
       "478480                 0.0                1.0             0.0  \n",
       "478481                 0.0                0.0             1.0  \n",
       "\n",
       "[478482 rows x 58 columns]"
      ]
     },
     "execution_count": 261,
     "metadata": {
      "tags": []
     },
     "output_type": "execute_result"
    }
   ],
   "source": [
    "X_train_selected"
   ]
  },
  {
   "cell_type": "markdown",
   "metadata": {
    "id": "q5lCBsSclqC6"
   },
   "source": [
    "#### Model Evaluation and Testing: Multiple Linear Regression Model Training and Testing\n",
    "The multiple linear regression model is trained and tested. It is evaluated on using R^2 score and Mean-Squared Error"
   ]
  },
  {
   "cell_type": "code",
   "execution_count": null,
   "metadata": {
    "id": "j96IvHQElqC6",
    "outputId": "6707e369-c45e-426a-b667-3c62119a7dd1"
   },
   "outputs": [
    {
     "name": "stdout",
     "output_type": "stream",
     "text": [
      "Multiple Linear Regression Results\n",
      "\n",
      "Results before feature selection:\n",
      "R2 Score on the training data: 0.9288018377052939\n",
      "R2 Score on the testing data: 0.9280462373805496\n",
      "\n",
      "Mean squared error on training data: 6.1876210059114936\n",
      "Mean squared error on testing data: 6.263782854877911\n",
      "\n",
      "Results after feature selection:\n",
      "R2 Score on the training data: 0.9287995796182996\n",
      "R2 Score on the testing data: 0.9280451141663797\n",
      "\n",
      "Mean squared error on training data: 6.187817249551341\n",
      "Mean squared error on testing data: 6.263880633915496\n"
     ]
    }
   ],
   "source": [
    "from sklearn.linear_model import LinearRegression\n",
    "from sklearn.metrics import r2_score\n",
    "from sklearn.metrics import mean_squared_error\n",
    "\n",
    "print(\"Multiple Linear Regression Results\\n\")\n",
    "\n",
    "# trains the multiple linear regression model\n",
    "multiple_linear = LinearRegression().fit(X=X_train_min_max, y=y_train)\n",
    "\n",
    "# prints the results before feature selection is performed\n",
    "print(\"Results before feature selection:\")\n",
    "\n",
    "# performs an R2 on the the multiple linear regression model before feature selection is performed on the training data\n",
    "print(f'R2 Score on the training data: {r2_score(y_train, multiple_linear.predict(X_train_min_max))}')\n",
    "\n",
    "# performs an R2 on the the multiple linear regression model before feature selection is performed on the testing data\n",
    "print(f'R2 Score on the testing data: {r2_score(y_test, multiple_linear.predict(X_test_min_max))}\\n')\n",
    "\n",
    "# determines the Mean Squared Error on the the multiple linear regression model before feature selection is performed \n",
    "# on the training data\n",
    "print(f'Mean squared error on training data: {mean_squared_error(y_train, multiple_linear.predict(X_train_min_max))}')\n",
    "\n",
    "# determines the Mean Squared Error on the the multiple linear regression model before feature selection is performed \n",
    "# on the testing data\n",
    "print(f'Mean squared error on testing data: {mean_squared_error(y_test, multiple_linear.predict(X_test_min_max))}')\n",
    "\n",
    "# fits the multiple linear regression after feature selection\n",
    "multiple_linear = LinearRegression().fit(X=X_train_selected, y=y_train)\n",
    "\n",
    "# prints the results after the selection\n",
    "print(\"\\nResults after feature selection:\")\n",
    "\n",
    "# performs an R2 on the training data with the model after feature selection\n",
    "print(f'R2 Score on the training data: {r2_score(y_train, multiple_linear.predict(X_train_selected))}')\n",
    "\n",
    "# performs an R2 on the testing data with the model after feature selection\n",
    "print(f'R2 Score on the testing data: {r2_score(y_test, multiple_linear.predict(X_test_selected))}\\n')\n",
    "\n",
    "# determines the mean squared error on the model after feature selection on the training data\n",
    "print(f'Mean squared error on training data: {mean_squared_error(y_train, multiple_linear.predict(X_train_selected))}')\n",
    "\n",
    "# determines the mean squared error on the model after feature selection on the testing data\n",
    "print(f'Mean squared error on testing data: {mean_squared_error(y_test, multiple_linear.predict(X_test_selected))}')"
   ]
  },
  {
   "cell_type": "markdown",
   "metadata": {
    "id": "vYovFP1ClqC6"
   },
   "source": [
    "#### Model Evaluation, Optimization, and Testing: Ridge Regression Model Training and Testing\n",
    "The multiple linear regression model is trained and tested. It is evaluated on using R^2 score and Mean-Squared Error. Grid Search with Cross Validation was performed in order to fine-tune models and determine optimal hyperparameters. This was done to restrict coefficients which would in turn avoid overfitting. An explanation of the meaning of R^2 and Mean Squared Error is provided at the end of this section. "
   ]
  },
  {
   "cell_type": "code",
   "execution_count": null,
   "metadata": {
    "id": "Vo1sydMxlqC7",
    "outputId": "65f7eafc-382c-4fc5-cf45-2e913f3b7366"
   },
   "outputs": [
    {
     "name": "stdout",
     "output_type": "stream",
     "text": [
      "Ridge Regression Results\n",
      "\n",
      "Results before feature selection\n",
      "Best Alpha Value: 1\n",
      "Best Score: 0.9287716240346849\n",
      "R2 Score on training with Cross-Validation: 0.9288019640705646\n",
      "R2 Score on testing with Cross-Validation: 0.928047045263252\n",
      "\n",
      "Mean squared error on training data: 6.1876100238808105\n",
      "Mean squared error on testing data: 6.263712526355314\n",
      "\n",
      "\n",
      "Results after feature selection\n",
      "Best Alpha Value: 0.01\n",
      "Best Score: 0.9287719107346135\n",
      "R2 Score on training with Cross-Validation: 0.9287996264738311\n",
      "R2 Score on testing with Cross-Validation: 0.9280452133594743\n",
      "\n",
      "Mean squared error on training data: 6.187813177476156\n",
      "Mean squared error on testing data: 6.263871998870106\n",
      "\n",
      "\n"
     ]
    }
   ],
   "source": [
    "from sklearn.linear_model import Ridge\n",
    "from sklearn.model_selection import GridSearchCV\n",
    "\n",
    "# different alpha parameters to try and tune the Ridge regression model \n",
    "param_grid_ridge = {'alpha':[0.001, 0.01, 1, 7, 10, 29]}\n",
    "\n",
    "# performing a grid search with cross validation without feature selection to assess model performance\n",
    "grid_search_ridge = GridSearchCV(Ridge(), param_grid_ridge, cv = 5)\n",
    "\n",
    "# fits the Ridge regression model on the training data without feature selection\n",
    "grid_search_ridge.fit(X=X_train_min_max, y=y_train)\n",
    "\n",
    "print(\"Ridge Regression Results\\n\")\n",
    "print(\"Results before feature selection\")\n",
    "\n",
    "# gets the best alpha value after grid search on the training data without feature selection \n",
    "# is complete and the model has been refit\n",
    "best_alpha_value = grid_search_ridge.best_params_[\"alpha\"]\n",
    "\n",
    "# prints the best alpha value after grid search with cross validation has completed\n",
    "print(f'Best Alpha Value: {best_alpha_value}')\n",
    "\n",
    "# prints the best score obtained in the cross validation process\n",
    "print(f'Best Score: {grid_search_ridge.best_score_}')\n",
    "\n",
    "# prints the R2 value of the training data without feature selection\n",
    "# using the Ridge model that has been refit\n",
    "print(f'R2 Score on training with Cross-Validation: {grid_search_ridge.score(X_train_min_max, y_train)}')\n",
    "\n",
    "# prints the R2 value of the testing data without feature selection\n",
    "# using the Ridge model that been refit with the optimized alpha parameter\n",
    "print(f'R2 Score on testing with Cross-Validation: {grid_search_ridge.score(X_test_min_max, y_test)}\\n')\n",
    "\n",
    "# prints the mean squared error (MSE) on the training data without feature selection\n",
    "# using the Ridge model that has been refit with the optimized alpha parameter\n",
    "print(f'Mean squared error on training data: {mean_squared_error(y_train, grid_search_ridge.predict(X_train_min_max))}')\n",
    "\n",
    "# prints the mean squared error (MSE) on the testing data without feature selection \n",
    "# using the Ridge model that has been refit with the optimized alpha parameter\n",
    "print(f'Mean squared error on testing data: {mean_squared_error(y_test, grid_search_ridge.predict(X_test_min_max))}\\n\\n')\n",
    "\n",
    "# fits the Ridge regression model on the training data after, or with, feature selection applied\n",
    "grid_search_ridge.fit(X=X_train_selected, y=y_train)\n",
    "print(\"Results after feature selection\")\n",
    "\n",
    "# best alpha value after the cross validation process completes with feature selection applied\n",
    "best_alpha_value = grid_search_ridge.best_params_[\"alpha\"]\n",
    "print(f'Best Alpha Value: {best_alpha_value}')\n",
    "\n",
    "# prints the best score in the cross validation process with feature selection applied\n",
    "print(f'Best Score: {grid_search_ridge.best_score_}')\n",
    "\n",
    "# prints the R2 value on the training data after feature selection and after the Ridge model has been refit \n",
    "print(f'R2 Score on training with Cross-Validation: {grid_search_ridge.score(X_train_selected, y_train)}')\n",
    "\n",
    "# prints the R2 value on the testing data after feature selection and after the Ridge model has been refit \n",
    "print(f'R2 Score on testing with Cross-Validation: {grid_search_ridge.score(X_test_selected, y_test)}\\n')\n",
    "\n",
    "# prints the mean squared error on the training data after feature selection and after the Ridge model has been refit \n",
    "print(f'Mean squared error on training data: {mean_squared_error(y_train, grid_search_ridge.predict(X_train_selected))}')\n",
    "\n",
    "# prints the mean squared error on the testing data after feature selection and after the Ridge model has been refit \n",
    "print(f'Mean squared error on testing data: {mean_squared_error(y_test, grid_search_ridge.predict(X_test_selected))}\\n\\n')"
   ]
  },
  {
   "cell_type": "markdown",
   "metadata": {
    "id": "BI3fqivHlqC7"
   },
   "source": [
    "#### Model Evaluation, Optimization, and Testing: Lasso Regression Model Training and Testing\n",
    "The Lasso regression model is trained and tested. It is evaluated on using R^2 score and Mean-Squared Error. Grid Search with Cross Validation was performed in order to fine-tune models and determine optimal hyperparameters. This was done to restrict coefficients which would in turn avoid overfitting. An explanation of the meaning of R^2 and Mean Squared Error is provided at the end of this section. "
   ]
  },
  {
   "cell_type": "code",
   "execution_count": null,
   "metadata": {
    "id": "-iG3yOFSlqC7",
    "outputId": "92cafbab-da46-474f-f787-5d6fc9b4506b"
   },
   "outputs": [
    {
     "name": "stdout",
     "output_type": "stream",
     "text": [
      "Lasso Regression Results\n",
      "\n",
      "Results before feature selection\n",
      "Best Alpha Value: 0.001\n",
      "Best Score: 0.9287635683851615\n",
      "R2 Score on training with Cross-Validation: 0.9287852839067386\n",
      "R2 Score on testing with Cross-Validation: 0.9280371612240208\n",
      "\n",
      "Mean squared error on training data: 6.189059647420881\n",
      "Mean squared error on testing data: 6.264572960517743\n",
      "\n",
      "\n",
      "Results after feature selection\n",
      "Best Alpha Value: 0.001\n",
      "Best Score: 0.9287635723786118\n",
      "R2 Score on training with Cross-Validation: 0.9287852839067386\n",
      "R2 Score on testing with Cross-Validation: 0.9280371612240208\n",
      "\n",
      "Mean squared error on training data: 6.189059647420881\n",
      "Mean squared error on testing data: 6.264572960517743\n",
      "\n",
      "\n"
     ]
    }
   ],
   "source": [
    "from sklearn.linear_model import Lasso\n",
    "\n",
    "# different alpha values to try for Lasso regression\n",
    "param_grid_lasso = {'alpha':[0.001, 0.01, 0.1, 1, 10]}\n",
    "\n",
    "# sets up the Lasso regression for Grid Search with Cross Validation\n",
    "grid_search_lasso = GridSearchCV(Lasso(), param_grid_lasso, cv = 5)\n",
    "\n",
    "# fits the Lasso model using the training data without feature selection applied \n",
    "grid_search_lasso.fit(X=X_train_min_max, y=y_train)\n",
    "\n",
    "print(\"Lasso Regression Results\\n\")\n",
    "print(\"Results before feature selection\")\n",
    "\n",
    "# prints the best alpha value after the Grid Search with Cross Validaton process has been completed\n",
    "best_alpha_value = grid_search_lasso.best_params_[\"alpha\"]\n",
    "print(f'Best Alpha Value: {best_alpha_value}')\n",
    "\n",
    "# prints the best score received through the cross validation process without feature selection applied \n",
    "print(f'Best Score: {grid_search_lasso.best_score_}')\n",
    "\n",
    "# prints the R2 score on the training data without feature selection applied \n",
    "print(f'R2 Score on training with Cross-Validation: {grid_search_lasso.score(X_train_min_max, y_train)}')\n",
    "\n",
    "# prints the R2 score on the testing data without feature selection applied \n",
    "print(f'R2 Score on testing with Cross-Validation: {grid_search_lasso.score(X_test_min_max, y_test)}\\n')\n",
    "\n",
    "# prints the mean squared error on the training data without feature selection applied \n",
    "print(f'Mean squared error on training data: {mean_squared_error(y_train, grid_search_lasso.predict(X_train_min_max))}')\n",
    "\n",
    "# prints the mean squared error on the testing data without feature selection applied \n",
    "print(f'Mean squared error on testing data: {mean_squared_error(y_test, grid_search_lasso.predict(X_test_min_max))}\\n\\n')\n",
    "\n",
    "# fits the Lasso regression model to the training data with feature selection applied\n",
    "grid_search_lasso.fit(X=X_train_selected, y=y_train)\n",
    "print(\"Results after feature selection\")\n",
    "\n",
    "# prints the best alpha value that generated the highest score\n",
    "best_alpha_value = grid_search_lasso.best_params_[\"alpha\"]\n",
    "print(f'Best Alpha Value: {best_alpha_value}')\n",
    "\n",
    "# prints the best score obtained in the grid search with cross validation process\n",
    "print(f'Best Score: {grid_search_lasso.best_score_}')\n",
    "\n",
    "# prints the R2 score on the training data with feature selection applied \n",
    "print(f'R2 Score on training with Cross-Validation: {grid_search_lasso.score(X_train_selected, y_train)}')\n",
    "\n",
    "# prints the R2 score on the testing data with feature selection applied \n",
    "print(f'R2 Score on testing with Cross-Validation: {grid_search_lasso.score(X_test_selected, y_test)}\\n')\n",
    "\n",
    "# prints the mean squared error on the training data with feature selection applied \n",
    "print(f'Mean squared error on training data: {mean_squared_error(y_train, grid_search_lasso.predict(X_train_selected))}')\n",
    "\n",
    "# prints the mean squared error on the testing data with feature selection applied \n",
    "print(f'Mean squared error on testing data: {mean_squared_error(y_test, grid_search_lasso.predict(X_test_selected))}\\n\\n')"
   ]
  },
  {
   "cell_type": "markdown",
   "metadata": {
    "id": "GMDA7urYlqC8"
   },
   "source": [
    "### Explanation of R^2 and Mean-Squared Error\n",
    "Because we were performing a regression task, we decided to use the R^2 metric and the Mean-Squared Error since these would provide insight into the model's performance. The R^2 value represented how much of the variance in the dataset our model could account for. It stands to reason that an R^2 or 0.928 meant that our model could explain about 92.8% of the variance. The mean-squared error metric provided insight into the error between our predictions and the actual data. The mean squared error was the average of the sum of the squares of the errors. Thus, if we were to take the square root of the mean squared error, we could interpret that to mean that our model was off by an average of $2.51.  "
   ]
  },
  {
   "cell_type": "markdown",
   "metadata": {
    "id": "GzxyQJYHlqC8"
   },
   "source": [
    "<a id=\"4\"></a>\n",
    "<hr style=\"height:2px; border:none; color:black; background-color:black;\">"
   ]
  },
  {
   "cell_type": "markdown",
   "metadata": {
    "id": "qmNewLJWlqC8"
   },
   "source": [
    "## 4. DISCUSSION\n",
    "\n",
    "We compared three algorithms: Multiple Linear Regression, Ridge Regression, and Lasso Regression. We evaluated the performance of these three algorithms before and after conducting model-based feature selection, to see if only choosing the most important features would lead to a higher R-squared value and mean squared error. Within our Ridge Regression and Lasso Regression algorithms, we used gridsearchCV() in order to obtain the alpha parameter that would yield the best R-squared score and mean squared error on the testing and training data. \n",
    "\n",
    "In our Multiple Linear Regression model, the R-squared score and mean squared error on the training and testing data was barely affected by the use of model-based feature selection. The performance of the model after feature selection negligibly decreased, however this is not enough to warrant that model-based feature selection impacted the performance of our Multiple Linear Regression model.\n",
    "\n",
    "For our Ridge Regression model, the best alpha value before model-based feature selection was 1, however after model-based feature selection, that alpha value changed to 0.01. However, the difference between the mean cross-validated R-squared score of the best alpha value and the R-squared values of the training set and testing set were nearly identical between the two alpha values. Furthermore, the mean squared error on the training and testing data had a slight increase after applying model-based feature selection. Thus, we can conclude that feature selection does not impact the performance of our Ridge regression model.\n",
    "\n",
    "Regarding the Lasso Regression model, the best alpha value before and after model-based feature selection was the same: 0.001. As a result, the R-squared score and mean squared error on the training and testing sets were identical before and after the model-based feature selection. The mean cross-validated R-squared score of this alpha value differs extremely slightly though, because the 5 folds created from the data vary between each call to best_score_. Hence, we can conclude that model-based feature selection does not impact the performance of our Lasso regression model.\n",
    "\n",
    "In a general sense, all three algorithms boasted the same performance. However, if we scrutinize past the sixth or seventh decimal points, we can see that Ridge Regression has the best performance: having the highest R-squared score and lowest MSE. In other words, the Ridge Regression model fits and predicts the data better than a standard Multiple Linear Regression and Lasso regression. There is no indication of overfitting or underfitting because the R-squared score is very high, and nearly identical, for both the training and testing datasets. Our R-squared score was approximately .93, which is very close to 1, thus indicating that our models can make nearly perfect predictions. Furthermore, the mean squared error was approximately 6.188 on the training data, and 6.264 on the testing data. This means that on average, our predicted price deviated about $2.50 from the actual price of a given rideshare.\n",
    "\n",
    "After a careful analysis of these three algorithms, a Ridge Regression should be used for our predictive model, however there is no standout winner in terms of the best predictive model. It makes sense that Ridge Regression had the strongest performance because when dealing with datasets that have a lot of important features, it is best to use Ridge Regression because this model uses L2 regularization which ensures that all features are taken into account, even if they have a small influence on the outcome variable. This is very much unlike Lasso regression since this model has the ability to potentially set the coefficients of certain features to 0, meaning that they will have absolutely no impact on the outcome variable. \n",
    "\n",
    "Based on our findings, we can use the features in our dataset to predict the price of a rideshare using the algorithms we’ve applied. Although we initially thought weather would have a large factor in determining the price of a rideshare, the more common and intuitive features such as distance, surge multiplier, and the type of rideshare (for instance a Black Uber SUV, or Lyft XL) were more useful in predicting the target variable. Our model could still use some improvement, but it would prove to be fairly reliable if used in the real world.\n",
    "\n",
    "In addition, the results from our hypothesis tests provide an indication that the differences in price based on which rideshare service was used was statistically significant because we rejected the null hypothesis. This means that we can be confident that there is a difference in price between the services provided by Uber and Lyft. Thus in this case, having statisitcally significant results meant led to the conclusion that there was a difference in price based on which service was used. \n",
    "\n",
    "In our second hypothesis test, we tried to discern if the relationship between use of a car during a time that was \"rush hour\" or a time that was \"non-rush hour\" and price was statistically significant. After performing a Mann-Whitney test, we rejected the null hypothesis which meant that there was indeed a statistically significant relationship between the price of a ride at a rush hour time and at a non-rush hour time. Hence, in this case being statistically significant meant that the time of day had an impact on the price of a ride. \n",
    "\n",
    "Overall, we think that our final project was successful, but future work could still be done on this topic. For instance, different regressors could be fit on our data. In fact, we discussed a random tree regressor, which yielded a better R-squared score and lower MSE, however it was outside of the scope of this class. In addition, we could perform more analyses on a larger dataset, for instance with more ridesharing apps, or more locations outside of Boston."
   ]
  },
  {
   "cell_type": "markdown",
   "metadata": {
    "id": "zQ-dFaxLlqC8"
   },
   "source": [
    "<a id=\"5\"></a>\n",
    "<hr style=\"height:2px; border:none; color:black; background-color:black;\">"
   ]
  },
  {
   "cell_type": "markdown",
   "metadata": {
    "id": "rAf6YZ1ulqC9"
   },
   "source": [
    "## References\n",
    "Muthhukumar, M. (2019, July 31). Presenting to you the Lyft and Uber Price Predictor known as the Ride- Hailer. [Web log post]. Retrieved December 11, 2020, from https://medium.com/@malaiiyy/presenting-to-you-the-lyft-and-uber-price-predictor-known-as-the-ride-hailer-47dea6dc7a9a\n",
    "\n",
    "Uber, Data Science. (2018). Dynamic Pricing and Matching in Ride-Sharing [Press release]. Retrieved December 11, 2020, from https://www.naefrontiers.org/184199/Abstract\n",
    "\n",
    "Yatnalkar, G. (2019). A Machine Learning Recommender Model for Ride Sharing Based on Rider Characteristics and User Threshold Time (Unpublished master's thesis). Marshall University. Retrieved December 11, 2020, from https://mds.marshall.edu/cgi/viewcontent.cgi?article=2263&context=etd"
   ]
  },
  {
   "cell_type": "markdown",
   "metadata": {
    "id": "0Dx_ii6LlqC9"
   },
   "source": [
    "### CONTRIBUTIONS\n",
    "\n",
    "* Siddhant Dosi - Section 1\n",
    "* Aneesh Atri - Section 2\n",
    "* Justin Lau - Section 4\n",
    "* All Group Members (Trio-Programming Style) - Section 3\n",
    "\n",
    "Our group worked together as a team to get this project done. We are proud of the work we did together.  "
   ]
  }
 ],
 "metadata": {
  "colab": {
   "name": "DS3000_FP4_Section02_Group17.ipynb",
   "provenance": []
  },
  "kernelspec": {
   "display_name": "Python 3",
   "language": "python",
   "name": "python3"
  },
  "language_info": {
   "codemirror_mode": {
    "name": "ipython",
    "version": 3
   },
   "file_extension": ".py",
   "mimetype": "text/x-python",
   "name": "python",
   "nbconvert_exporter": "python",
   "pygments_lexer": "ipython3",
   "version": "3.7.3"
  }
 },
 "nbformat": 4,
 "nbformat_minor": 1
}
